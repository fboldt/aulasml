{
  "nbformat": 4,
  "nbformat_minor": 0,
  "metadata": {
    "colab": {
      "provenance": [],
      "authorship_tag": "ABX9TyPRZpPG4qKmimJgPqONkKzf",
      "include_colab_link": true
    },
    "kernelspec": {
      "name": "python3",
      "display_name": "Python 3"
    },
    "language_info": {
      "name": "python"
    }
  },
  "cells": [
    {
      "cell_type": "markdown",
      "metadata": {
        "id": "view-in-github",
        "colab_type": "text"
      },
      "source": [
        "<a href=\"https://colab.research.google.com/github/fboldt/aulasml/blob/master/aula10b_kmeans_as_fs.ipynb\" target=\"_parent\"><img src=\"https://colab.research.google.com/assets/colab-badge.svg\" alt=\"Open In Colab\"/></a>"
      ]
    },
    {
      "cell_type": "code",
      "execution_count": 1,
      "metadata": {
        "colab": {
          "base_uri": "https://localhost:8080/"
        },
        "id": "L2V0Z7retdf8",
        "outputId": "6dfc0d9b-d67c-41ec-81c3-a4eb6896bdb2"
      },
      "outputs": [
        {
          "output_type": "stream",
          "name": "stdout",
          "text": [
            "(581012, 54)\n",
            "(581012,)\n"
          ]
        }
      ],
      "source": [
        "from sklearn.datasets import fetch_covtype\n",
        "X, y = fetch_covtype(return_X_y=True)\n",
        "print(X.shape)\n",
        "print(y.shape)"
      ]
    },
    {
      "cell_type": "code",
      "source": [
        "from sklearn.model_selection import cross_validate\n",
        "from sklearn.linear_model import RidgeClassifier\n",
        "import numpy as np\n",
        "\n",
        "modelo = RidgeClassifier()\n",
        "scores = cross_validate(modelo, X, y)\n",
        "scores, np.mean(scores['test_score'])"
      ],
      "metadata": {
        "colab": {
          "base_uri": "https://localhost:8080/"
        },
        "id": "DdFJ84MDusuo",
        "outputId": "f40bdf88-a91f-48c7-e334-a523b3a3f8ef"
      },
      "execution_count": 2,
      "outputs": [
        {
          "output_type": "execute_result",
          "data": {
            "text/plain": [
              "({'fit_time': array([0.79981112, 0.76823664, 0.72501373, 0.74839211, 1.24692416]),\n",
              "  'score_time': array([0.04194307, 0.03423262, 0.0337925 , 0.03397274, 0.12846541]),\n",
              "  'test_score': array([0.58947704, 0.76359474, 0.62652106, 0.67569405, 0.54031772])},\n",
              " 0.639120922063683)"
            ]
          },
          "metadata": {},
          "execution_count": 2
        }
      ]
    },
    {
      "cell_type": "code",
      "source": [
        "from sklearn.preprocessing import StandardScaler\n",
        "from sklearn.pipeline import make_pipeline\n",
        "\n",
        "modelo = make_pipeline(StandardScaler(), RidgeClassifier())\n",
        "scores = cross_validate(modelo, X, y)\n",
        "scores, np.mean(scores['test_score'])"
      ],
      "metadata": {
        "colab": {
          "base_uri": "https://localhost:8080/"
        },
        "id": "P2edQIwhvMqX",
        "outputId": "32394e17-4756-4651-d4cd-f61b40b06a6e"
      },
      "execution_count": 3,
      "outputs": [
        {
          "output_type": "execute_result",
          "data": {
            "text/plain": [
              "({'fit_time': array([1.23863387, 1.14295554, 1.18667555, 1.15255356, 1.14586115]),\n",
              "  'score_time': array([0.08173561, 0.08349872, 0.08548927, 0.08154321, 0.10427952]),\n",
              "  'test_score': array([0.58947704, 0.76360335, 0.62653827, 0.6756252 , 0.5407308 ])},\n",
              " 0.6391949311020719)"
            ]
          },
          "metadata": {},
          "execution_count": 3
        }
      ]
    },
    {
      "cell_type": "code",
      "source": [
        "from sklearn.cluster import KMeans\n",
        "\n",
        "fs = KMeans()\n",
        "newX = fs.fit_transform(X)\n",
        "print(newX.shape)\n",
        "newX[:5, :]"
      ],
      "metadata": {
        "colab": {
          "base_uri": "https://localhost:8080/"
        },
        "id": "9CM_UPAdvf-7",
        "outputId": "78859ebe-cf99-492d-d4fc-0ebbe679a5a9"
      },
      "execution_count": 8,
      "outputs": [
        {
          "output_type": "stream",
          "name": "stdout",
          "text": [
            "(581012, 8)\n"
          ]
        },
        {
          "output_type": "execute_result",
          "data": {
            "text/plain": [
              "array([[5589.73154669, 6705.37609862, 5501.49463109, 4860.3790312 ,\n",
              "        3871.13228959, 4919.47348511, 2293.05070245, 4470.37386756],\n",
              "       [5587.98632407, 6751.07284794, 5457.06031872, 4900.27276318,\n",
              "        3867.72478144, 5015.41051802, 2385.69562348, 4433.22374268],\n",
              "       [5027.78216739, 5069.11202121, 5807.49266242, 3549.65191934,\n",
              "        3663.66499235, 2473.89163894,  886.43864686, 4785.78835603],\n",
              "       [5109.81557452, 5188.6976671 , 5855.50245694, 3654.12643864,\n",
              "        3720.39218409, 2603.37103125,  912.29165679, 4828.16197878],\n",
              "       [5540.22047942, 6713.48208214, 5404.83660776, 4861.62906234,\n",
              "        3820.10283317, 4999.09204305, 2367.7407564 , 4381.83866359]])"
            ]
          },
          "metadata": {},
          "execution_count": 8
        }
      ]
    },
    {
      "cell_type": "code",
      "source": [
        "modelo = make_pipeline(KMeans(), RidgeClassifier())\n",
        "scores = cross_validate(modelo, X, y)\n",
        "scores, np.mean(scores['test_score'])"
      ],
      "metadata": {
        "colab": {
          "base_uri": "https://localhost:8080/"
        },
        "id": "_wN-vQe8wX9b",
        "outputId": "e15983cc-a2fe-44b3-9ccf-f628370d0a48"
      },
      "execution_count": 10,
      "outputs": [
        {
          "output_type": "execute_result",
          "data": {
            "text/plain": [
              "({'fit_time': array([4.22340679, 5.18263769, 5.62922168, 9.84361053, 7.41663527]),\n",
              "  'score_time': array([0.09059191, 0.05894685, 0.10157442, 0.0606215 , 0.17062879]),\n",
              "  'test_score': array([0.39593642, 0.38492982, 0.45523313, 0.44107675, 0.4945612 ])},\n",
              " 0.4343474624081467)"
            ]
          },
          "metadata": {},
          "execution_count": 10
        }
      ]
    },
    {
      "cell_type": "code",
      "source": [
        "modelo = make_pipeline(StandardScaler(), KMeans(), RidgeClassifier())\n",
        "scores = cross_validate(modelo, X, y)\n",
        "scores, np.mean(scores['test_score'])"
      ],
      "metadata": {
        "colab": {
          "base_uri": "https://localhost:8080/"
        },
        "id": "2rQOeus_wq7y",
        "outputId": "65aabc9b-c0a8-4f1c-a901-78a5c7f03052"
      },
      "execution_count": 11,
      "outputs": [
        {
          "output_type": "execute_result",
          "data": {
            "text/plain": [
              "({'fit_time': array([3.43595719, 2.47097731, 2.99334383, 6.27196264, 2.84590983]),\n",
              "  'score_time': array([0.10803819, 0.09933949, 0.10477591, 0.10347295, 0.10393   ]),\n",
              "  'test_score': array([0.53577791, 0.58721376, 0.58203817, 0.5875114 , 0.47610196])},\n",
              " 0.5537286397968002)"
            ]
          },
          "metadata": {},
          "execution_count": 11
        }
      ]
    }
  ]
}
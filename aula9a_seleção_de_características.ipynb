{
  "nbformat": 4,
  "nbformat_minor": 0,
  "metadata": {
    "colab": {
      "provenance": [],
      "authorship_tag": "ABX9TyPFBTQuTgMFPh6TkiovX36D",
      "include_colab_link": true
    },
    "kernelspec": {
      "name": "python3",
      "display_name": "Python 3"
    },
    "language_info": {
      "name": "python"
    }
  },
  "cells": [
    {
      "cell_type": "markdown",
      "metadata": {
        "id": "view-in-github",
        "colab_type": "text"
      },
      "source": [
        "<a href=\"https://colab.research.google.com/github/fboldt/aulasml/blob/master/aula9a_sele%C3%A7%C3%A3o_de_caracter%C3%ADsticas.ipynb\" target=\"_parent\"><img src=\"https://colab.research.google.com/assets/colab-badge.svg\" alt=\"Open In Colab\"/></a>"
      ]
    },
    {
      "cell_type": "code",
      "execution_count": null,
      "metadata": {
        "colab": {
          "base_uri": "https://localhost:8080/"
        },
        "id": "zg4-NeunfF9a",
        "outputId": "644c9098-5a69-45c9-8cce-7c5b9cc3c532"
      },
      "outputs": [
        {
          "output_type": "stream",
          "name": "stdout",
          "text": [
            "(581012, 54)\n",
            "(581012,)\n"
          ]
        }
      ],
      "source": [
        "from sklearn.datasets import fetch_covtype\n",
        "X, y = fetch_covtype(return_X_y=True)\n",
        "print(X.shape)\n",
        "print(y.shape)"
      ]
    },
    {
      "cell_type": "code",
      "source": [
        "from sklearn.model_selection import cross_validate\n",
        "from sklearn.linear_model import RidgeClassifier\n",
        "import numpy as np\n",
        "\n",
        "modelo = RidgeClassifier()\n",
        "scores = cross_validate(modelo, X, y)\n",
        "scores, np.mean(scores['test_score'])"
      ],
      "metadata": {
        "colab": {
          "base_uri": "https://localhost:8080/"
        },
        "id": "bqHweZJKhPFo",
        "outputId": "b08f0355-7798-4e5e-ac7a-0a808f3b7b6a"
      },
      "execution_count": null,
      "outputs": [
        {
          "output_type": "execute_result",
          "data": {
            "text/plain": [
              "({'fit_time': array([0.83106089, 0.77367997, 0.79939342, 0.75727463, 0.77010775]),\n",
              "  'score_time': array([0.03693223, 0.04307532, 0.0351882 , 0.03475952, 0.03547025]),\n",
              "  'test_score': array([0.58947704, 0.76359474, 0.62652106, 0.67569405, 0.54031772])},\n",
              " 0.639120922063683)"
            ]
          },
          "metadata": {},
          "execution_count": 3
        }
      ]
    },
    {
      "cell_type": "code",
      "source": [
        "from sklearn.preprocessing import StandardScaler\n",
        "from sklearn.pipeline import Pipeline\n",
        "\n",
        "modelo = Pipeline([\n",
        "    ('scaler', StandardScaler()),\n",
        "    ('clf', RidgeClassifier())\n",
        "])\n",
        "scores = cross_validate(modelo, X, y)\n",
        "scores, np.mean(scores['test_score'])"
      ],
      "metadata": {
        "colab": {
          "base_uri": "https://localhost:8080/"
        },
        "id": "hV3OVW6oiD20",
        "outputId": "3056b18b-0fe3-4e1c-8911-9fa59b014f04"
      },
      "execution_count": null,
      "outputs": [
        {
          "output_type": "execute_result",
          "data": {
            "text/plain": [
              "({'fit_time': array([1.20555067, 1.18540215, 1.22193432, 1.20409751, 1.19708157]),\n",
              "  'score_time': array([0.08435369, 0.08198571, 0.08241034, 0.08146596, 0.08211207]),\n",
              "  'test_score': array([0.58947704, 0.76360335, 0.62653827, 0.6756252 , 0.5407308 ])},\n",
              " 0.6391949311020719)"
            ]
          },
          "metadata": {},
          "execution_count": 4
        }
      ]
    },
    {
      "cell_type": "code",
      "source": [
        "from sklearn.feature_selection import VarianceThreshold\n",
        "\n",
        "modelo = Pipeline([\n",
        "    ('variance', VarianceThreshold(threshold=0.01)),\n",
        "    ('clf', RidgeClassifier())\n",
        "])\n",
        "scores = cross_validate(modelo, X, y)\n",
        "scores, np.mean(scores['test_score'])"
      ],
      "metadata": {
        "colab": {
          "base_uri": "https://localhost:8080/"
        },
        "id": "7L8PU_ASkO0h",
        "outputId": "7c522ba0-c2c2-4f9c-b7b4-2e446ff2a610"
      },
      "execution_count": null,
      "outputs": [
        {
          "output_type": "execute_result",
          "data": {
            "text/plain": [
              "({'fit_time': array([1.02464056, 1.00552654, 1.00457525, 1.01733541, 1.0084343 ]),\n",
              "  'score_time': array([0.06779909, 0.06525207, 0.06466341, 0.06777835, 0.06596422]),\n",
              "  'test_score': array([0.6034784 , 0.77028992, 0.63267414, 0.69466963, 0.53096332])},\n",
              " 0.6464150810342003)"
            ]
          },
          "metadata": {},
          "execution_count": 6
        }
      ]
    },
    {
      "cell_type": "code",
      "source": [
        "selector = VarianceThreshold(threshold=0.01)\n",
        "X_selected = selector.fit_transform(X)\n",
        "modelo = RidgeClassifier()\n",
        "scores = cross_validate(modelo, X_selected, y)\n",
        "scores, np.mean(scores['test_score'])"
      ],
      "metadata": {
        "colab": {
          "base_uri": "https://localhost:8080/"
        },
        "id": "FvTOAKHmk5fN",
        "outputId": "06642541-a482-4b4f-f8c5-7896a73e34bc"
      },
      "execution_count": null,
      "outputs": [
        {
          "output_type": "execute_result",
          "data": {
            "text/plain": [
              "({'fit_time': array([0.55414081, 0.56961489, 0.58700132, 0.59241676, 0.56747413]),\n",
              "  'score_time': array([0.03265572, 0.03149796, 0.03500891, 0.03166008, 0.03233886]),\n",
              "  'test_score': array([0.60430454, 0.77035877, 0.6332163 , 0.69466963, 0.53096332])},\n",
              " 0.6467025100027456)"
            ]
          },
          "metadata": {},
          "execution_count": 7
        }
      ]
    },
    {
      "cell_type": "code",
      "source": [
        "from sklearn.feature_selection import SelectPercentile, f_classif\n",
        "\n",
        "selector = SelectPercentile(f_classif, percentile=10)\n",
        "X_selected = selector.fit_transform(X, y)\n",
        "modelo = RidgeClassifier()\n",
        "scores = cross_validate(modelo, X_selected, y)\n",
        "scores, np.mean(scores['test_score'])"
      ],
      "metadata": {
        "colab": {
          "base_uri": "https://localhost:8080/"
        },
        "id": "3JiA04CTlleI",
        "outputId": "89e426fe-0052-4ad3-e195-e85849b1f337"
      },
      "execution_count": null,
      "outputs": [
        {
          "output_type": "execute_result",
          "data": {
            "text/plain": [
              "({'fit_time': array([0.27239156, 0.29297996, 0.30825639, 0.29141569, 0.28974605]),\n",
              "  'score_time': array([0.01910877, 0.01864052, 0.01920438, 0.01958966, 0.01838803]),\n",
              "  'test_score': array([0.65963013, 0.75486864, 0.69313781, 0.64578923, 0.52382059])},\n",
              " 0.6554492788441418)"
            ]
          },
          "metadata": {},
          "execution_count": 8
        }
      ]
    },
    {
      "cell_type": "code",
      "source": [
        "modelo = Pipeline([\n",
        "    ('variance', VarianceThreshold(threshold=0.01)),\n",
        "    ('fs', SelectPercentile(f_classif, percentile=10)),\n",
        "    ('clf', RidgeClassifier())\n",
        "])\n",
        "scores = cross_validate(modelo, X, y)\n",
        "scores, np.mean(scores['test_score'])"
      ],
      "metadata": {
        "colab": {
          "base_uri": "https://localhost:8080/"
        },
        "id": "sBHVBt6XmWUT",
        "outputId": "f30f3dad-80e5-4f51-c9e3-72e51efffd71"
      },
      "execution_count": null,
      "outputs": [
        {
          "output_type": "execute_result",
          "data": {
            "text/plain": [
              "({'fit_time': array([1.13410616, 1.13492322, 1.11388874, 1.13110018, 1.11670589]),\n",
              "  'score_time': array([0.05527353, 0.07669806, 0.05177283, 0.07531023, 0.05228806]),\n",
              "  'test_score': array([0.66747846, 0.75734706, 0.69497943, 0.62837989, 0.52547288])},\n",
              " 0.6547315453683743)"
            ]
          },
          "metadata": {},
          "execution_count": 13
        }
      ]
    },
    {
      "cell_type": "code",
      "source": [
        "from sklearn.feature_selection import SequentialFeatureSelector\n",
        "\n",
        "selector = SequentialFeatureSelector(RidgeClassifier(), n_features_to_select=2, direction='forward')\n",
        "selector.fit(X, y)\n",
        "X_selected = selector.fit_transform(X, y)\n",
        "modelo = RidgeClassifier()\n",
        "scores = cross_validate(modelo, X_selected, y)\n",
        "scores, np.mean(scores['test_score'])"
      ],
      "metadata": {
        "colab": {
          "base_uri": "https://localhost:8080/"
        },
        "id": "MgcG8viIm-oi",
        "outputId": "bc53e7aa-1f5a-4e0d-c462-818403c737ef"
      },
      "execution_count": null,
      "outputs": [
        {
          "output_type": "execute_result",
          "data": {
            "text/plain": [
              "({'fit_time': array([0.26641273, 0.24230838, 0.22735763, 0.22967553, 0.23972845]),\n",
              "  'score_time': array([0.03731775, 0.01630592, 0.02005696, 0.01667285, 0.01964092]),\n",
              "  'test_score': array([0.66743544, 0.75887886, 0.69897248, 0.64334521, 0.5289668 ])},\n",
              " 0.6595197564339774)"
            ]
          },
          "metadata": {},
          "execution_count": 20
        }
      ]
    },
    {
      "cell_type": "code",
      "source": [
        "modelo = Pipeline([\n",
        "    ('variance', VarianceThreshold(threshold=0.01)),\n",
        "    ('fs', SequentialFeatureSelector(RidgeClassifier(), n_features_to_select=2, direction='forward')),\n",
        "    ('clf', RidgeClassifier())\n",
        "])\n",
        "scores = cross_validate(modelo, X, y)\n",
        "scores, np.mean(scores['test_score'])"
      ],
      "metadata": {
        "colab": {
          "base_uri": "https://localhost:8080/"
        },
        "id": "ic5hfFk1qkRN",
        "outputId": "6a9f8446-cd12-4b94-e68d-796702d8ffcc"
      },
      "execution_count": null,
      "outputs": [
        {
          "output_type": "execute_result",
          "data": {
            "text/plain": [
              "({'fit_time': array([71.01041079, 68.99039078, 73.26572657, 74.76591301, 73.27453375]),\n",
              "  'score_time': array([0.07678676, 0.09175801, 0.07693243, 0.08846498, 0.07196093]),\n",
              "  'test_score': array([0.66743544, 0.75887886, 0.69897248, 0.64334521, 0.5289668 ])},\n",
              " 0.6595197564339774)"
            ]
          },
          "metadata": {},
          "execution_count": 18
        }
      ]
    },
    {
      "cell_type": "code",
      "source": [
        "from sklearn.feature_selection import SelectFromModel\n",
        "\n",
        "modelo = Pipeline([\n",
        "    ('variance', VarianceThreshold(threshold=0.01)),\n",
        "    ('fs', SelectFromModel(RidgeClassifier(),max_features=2)),\n",
        "    ('clf', RidgeClassifier())\n",
        "])\n",
        "scores = cross_validate(modelo, X, y)\n",
        "scores, np.mean(scores['test_score'])\n"
      ],
      "metadata": {
        "colab": {
          "base_uri": "https://localhost:8080/"
        },
        "id": "ywJGBgIbstVI",
        "outputId": "9c9cce9d-f533-4020-b6b5-c5487efb1cce"
      },
      "execution_count": null,
      "outputs": [
        {
          "output_type": "execute_result",
          "data": {
            "text/plain": [
              "({'fit_time': array([1.24959946, 1.26363134, 1.26572418, 1.27176309, 1.24376416]),\n",
              "  'score_time': array([0.07292223, 0.07116675, 0.07589936, 0.0748775 , 0.06074023]),\n",
              "  'test_score': array([0.5421891 , 0.54913384, 0.54500783, 0.48031876, 0.49610162])},\n",
              " 0.5225502292164619)"
            ]
          },
          "metadata": {},
          "execution_count": 26
        }
      ]
    },
    {
      "cell_type": "code",
      "source": [
        "from sklearn.feature_selection import SelectKBest, f_classif\n",
        "\n",
        "modelo = Pipeline([\n",
        "    ('variance', VarianceThreshold(threshold=0.01)),\n",
        "    ('fs', SelectKBest(k=2)),\n",
        "    ('clf', RidgeClassifier())\n",
        "])\n",
        "scores = cross_validate(modelo, X, y)\n",
        "scores, np.mean(scores['test_score'])\n"
      ],
      "metadata": {
        "colab": {
          "base_uri": "https://localhost:8080/"
        },
        "id": "0lGm76IwxfEr",
        "outputId": "650a13a1-6c16-4986-f047-a286e2469649"
      },
      "execution_count": null,
      "outputs": [
        {
          "output_type": "execute_result",
          "data": {
            "text/plain": [
              "({'fit_time': array([1.40904737, 1.10137296, 1.12181592, 1.10472274, 1.07672095]),\n",
              "  'score_time': array([0.07266068, 0.10749173, 0.08330822, 0.07525682, 0.07853913]),\n",
              "  'test_score': array([0.66743544, 0.75887886, 0.69897248, 0.64334521, 0.5289668 ])},\n",
              " 0.6595197564339774)"
            ]
          },
          "metadata": {},
          "execution_count": 31
        }
      ]
    },
    {
      "cell_type": "code",
      "source": [
        "from sklearn.ensemble import RandomForestClassifier\n",
        "\n",
        "modelo = RandomForestClassifier(n_estimators=10)\n",
        "scores = cross_validate(modelo, X, y)\n",
        "scores, np.mean(scores['test_score'])"
      ],
      "metadata": {
        "colab": {
          "base_uri": "https://localhost:8080/"
        },
        "id": "QzhJfIxgvziy",
        "outputId": "8703b0ca-6add-4579-e15d-205746001098"
      },
      "execution_count": null,
      "outputs": [
        {
          "output_type": "execute_result",
          "data": {
            "text/plain": [
              "({'fit_time': array([13.40498805, 13.88860273, 13.86665893, 13.57944727, 13.3958149 ]),\n",
              "  'score_time': array([0.18690777, 0.31028271, 0.28236866, 0.31091666, 0.25703168]),\n",
              "  'test_score': array([0.62138671, 0.55504591, 0.53941412, 0.59060946, 0.62312181])},\n",
              " 0.5859156013964953)"
            ]
          },
          "metadata": {},
          "execution_count": 32
        }
      ]
    },
    {
      "cell_type": "code",
      "source": [
        "modelo = Pipeline([\n",
        "    ('variance', VarianceThreshold(threshold=0.01)),\n",
        "    ('fs', SelectKBest(k=2)),\n",
        "    ('clf', RandomForestClassifier(n_estimators=10))\n",
        "])\n",
        "scores = cross_validate(modelo, X, y)\n",
        "scores, np.mean(scores['test_score'])"
      ],
      "metadata": {
        "colab": {
          "base_uri": "https://localhost:8080/"
        },
        "id": "8aadugtwyjgz",
        "outputId": "e0d4912a-6f4f-4846-97c7-4f741d47b628"
      },
      "execution_count": null,
      "outputs": [
        {
          "output_type": "execute_result",
          "data": {
            "text/plain": [
              "({'fit_time': array([5.97948694, 4.60241103, 5.61394072, 4.85768986, 4.53787112]),\n",
              "  'score_time': array([0.20267272, 0.21024871, 0.25306082, 0.2025795 , 0.20542812]),\n",
              "  'test_score': array([0.66083492, 0.77053088, 0.65646891, 0.64464467, 0.53462935])},\n",
              " 0.6534217459840631)"
            ]
          },
          "metadata": {},
          "execution_count": 33
        }
      ]
    },
    {
      "cell_type": "code",
      "source": [
        "from sklearn.tree import DecisionTreeClassifier\n",
        "\n",
        "modelo = DecisionTreeClassifier()\n",
        "scores = cross_validate(modelo, X, y)\n",
        "scores, np.mean(scores['test_score'])"
      ],
      "metadata": {
        "colab": {
          "base_uri": "https://localhost:8080/"
        },
        "id": "QF6WBxLKyzL2",
        "outputId": "64b6d0b2-240b-4d65-8ea4-a15f00a5ec78"
      },
      "execution_count": null,
      "outputs": [
        {
          "output_type": "execute_result",
          "data": {
            "text/plain": [
              "({'fit_time': array([ 9.79608631, 10.79768467, 10.44657588,  9.65168524,  9.40485644]),\n",
              "  'score_time': array([0.02889299, 0.0311532 , 0.03071761, 0.03176379, 0.03216863]),\n",
              "  'test_score': array([0.51547723, 0.56837603, 0.52503399, 0.57114335, 0.60434416])},\n",
              " 0.5568749524909093)"
            ]
          },
          "metadata": {},
          "execution_count": 34
        }
      ]
    },
    {
      "cell_type": "code",
      "source": [
        "modelo = Pipeline([\n",
        "    ('variance', VarianceThreshold(threshold=0.01)),\n",
        "    ('fs', SelectKBest(k=2)),\n",
        "    ('clf', DecisionTreeClassifier())\n",
        "])\n",
        "scores = cross_validate(modelo, X, y)\n",
        "scores, np.mean(scores['test_score'])"
      ],
      "metadata": {
        "colab": {
          "base_uri": "https://localhost:8080/"
        },
        "id": "0bfqzZtiy4H0",
        "outputId": "0f11701c-4c37-4ab3-9838-a1db4066d69d"
      },
      "execution_count": null,
      "outputs": [
        {
          "output_type": "execute_result",
          "data": {
            "text/plain": [
              "({'fit_time': array([1.57972932, 1.48032475, 1.45026898, 1.48333073, 2.04245925]),\n",
              "  'score_time': array([0.0725143 , 0.06525898, 0.06789255, 0.05702925, 0.07087612]),\n",
              "  'test_score': array([0.66132544, 0.77002315, 0.6566152 , 0.6445414 , 0.5340958 ])},\n",
              " 0.653320198708132)"
            ]
          },
          "metadata": {},
          "execution_count": 36
        }
      ]
    },
    {
      "cell_type": "code",
      "source": [
        "from sklearn.feature_selection import RFE\n",
        "\n",
        "modelo = Pipeline([\n",
        "    ('variance', VarianceThreshold(threshold=0.01)),\n",
        "    ('fs', RFE(RidgeClassifier(), n_features_to_select=20)),\n",
        "    ('clf', RidgeClassifier())\n",
        "])\n",
        "scores = cross_validate(modelo, X, y)\n",
        "scores, np.mean(scores['test_score'])"
      ],
      "metadata": {
        "colab": {
          "base_uri": "https://localhost:8080/"
        },
        "id": "_diH4fEa2qn6",
        "outputId": "f2fb61c4-6437-46ef-cb7e-de346863cfe6"
      },
      "execution_count": null,
      "outputs": [
        {
          "output_type": "execute_result",
          "data": {
            "text/plain": [
              "({'fit_time': array([6.6979785 , 6.64766264, 6.7630074 , 7.03373122, 6.92766762]),\n",
              "  'score_time': array([0.16574311, 0.09860659, 0.16184568, 0.07910013, 0.16386652]),\n",
              "  'test_score': array([0.60000172, 0.70307135, 0.59609129, 0.63873255, 0.55563588])},\n",
              " 0.6187065574205773)"
            ]
          },
          "metadata": {},
          "execution_count": 40
        }
      ]
    }
  ]
}
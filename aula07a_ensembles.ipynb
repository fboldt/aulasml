{
  "nbformat": 4,
  "nbformat_minor": 0,
  "metadata": {
    "colab": {
      "provenance": [],
      "authorship_tag": "ABX9TyN2U/wCQs60SfhumrOsnLb3",
      "include_colab_link": true
    },
    "kernelspec": {
      "name": "python3",
      "display_name": "Python 3"
    },
    "language_info": {
      "name": "python"
    }
  },
  "cells": [
    {
      "cell_type": "markdown",
      "metadata": {
        "id": "view-in-github",
        "colab_type": "text"
      },
      "source": [
        "<a href=\"https://colab.research.google.com/github/fboldt/aulasml/blob/master/aula07a_ensembles.ipynb\" target=\"_parent\"><img src=\"https://colab.research.google.com/assets/colab-badge.svg\" alt=\"Open In Colab\"/></a>"
      ]
    },
    {
      "cell_type": "code",
      "execution_count": 3,
      "metadata": {
        "colab": {
          "base_uri": "https://localhost:8080/"
        },
        "id": "ipJ94ja6wtKc",
        "outputId": "36d49216-75c5-46e6-8114-3280154f68b7"
      },
      "outputs": [
        {
          "output_type": "stream",
          "name": "stdout",
          "text": [
            "downloading Olivetti faces from https://ndownloader.figshare.com/files/5976027 to /root/scikit_learn_data\n",
            "(400, 4096)\n",
            "(400,)\n"
          ]
        }
      ],
      "source": [
        "from sklearn.datasets import fetch_olivetti_faces\n",
        "X, y = fetch_olivetti_faces(return_X_y=True)\n",
        "print(X.shape)\n",
        "print(y.shape)"
      ]
    },
    {
      "cell_type": "code",
      "source": [
        "from sklearn.model_selection import train_test_split\n",
        "X_train, X_test, y_train, y_test = train_test_split(X, y, test_size=0.2, random_state=42)"
      ],
      "metadata": {
        "id": "wQ4LIx2yyzK2"
      },
      "execution_count": 4,
      "outputs": []
    },
    {
      "cell_type": "code",
      "source": [
        "from sklearn.preprocessing import StandardScaler\n",
        "sc = StandardScaler()\n",
        "sc.fit(X_train)\n",
        "X_train = sc.transform(X_train)\n",
        "X_test = sc.transform(X_test)"
      ],
      "metadata": {
        "id": "yjGENvQW04qi"
      },
      "execution_count": 10,
      "outputs": []
    },
    {
      "cell_type": "code",
      "source": [
        "from sklearn.neighbors import KNeighborsClassifier\n",
        "knn = KNeighborsClassifier()\n",
        "knn.fit(X_train, y_train)\n",
        "knn_pred = knn.predict(X_test)\n",
        "knn_hits = (knn_pred == y_test)\n",
        "print(knn_hits)\n",
        "print(knn_hits.mean())"
      ],
      "metadata": {
        "colab": {
          "base_uri": "https://localhost:8080/"
        },
        "id": "6KqkFT4-y9J3",
        "outputId": "b1eccc2d-d81b-463e-84aa-93ea2a8c516e"
      },
      "execution_count": 11,
      "outputs": [
        {
          "output_type": "stream",
          "name": "stdout",
          "text": [
            "[ True  True  True  True  True  True  True  True  True  True  True  True\n",
            "  True  True  True  True  True  True  True  True  True  True False False\n",
            "  True False False  True  True  True  True False  True  True  True  True\n",
            " False False  True  True  True  True  True  True  True  True  True  True\n",
            "  True  True  True  True  True  True  True  True  True  True  True False\n",
            "  True  True  True False  True False  True  True False  True  True  True\n",
            "  True  True  True  True  True  True  True  True]\n",
            "0.8625\n"
          ]
        }
      ]
    },
    {
      "cell_type": "code",
      "source": [
        "from sklearn.naive_bayes import GaussianNB\n",
        "gnb = GaussianNB()\n",
        "gnb.fit(X_train, y_train)\n",
        "gnb_pred = gnb.predict(X_test)\n",
        "gnb_hits = (gnb_pred == y_test)\n",
        "print(gnb_hits)\n",
        "print(gnb_hits.mean())"
      ],
      "metadata": {
        "colab": {
          "base_uri": "https://localhost:8080/"
        },
        "id": "r-plDVJBzhra",
        "outputId": "6297772e-85f2-46a0-a598-3b1ccb9a1aa3"
      },
      "execution_count": 12,
      "outputs": [
        {
          "output_type": "stream",
          "name": "stdout",
          "text": [
            "[ True  True  True  True  True  True  True  True  True False  True  True\n",
            "  True False  True False  True  True  True  True False  True  True  True\n",
            "  True  True  True  True  True False  True  True  True  True  True  True\n",
            " False  True  True  True  True  True False  True  True  True  True  True\n",
            "  True False  True  True  True False  True  True  True  True  True  True\n",
            "  True  True  True False  True  True  True False  True False  True  True\n",
            "  True  True  True  True  True  True False  True]\n",
            "0.8375\n"
          ]
        }
      ]
    },
    {
      "cell_type": "code",
      "source": [
        "from sklearn.linear_model import Perceptron\n",
        "ppn = Perceptron()\n",
        "ppn.fit(X_train, y_train)\n",
        "ppn_pred = ppn.predict(X_test)\n",
        "ppn_hits = (ppn_pred == y_test)\n",
        "print(ppn_hits)\n",
        "print(ppn_hits.mean())"
      ],
      "metadata": {
        "colab": {
          "base_uri": "https://localhost:8080/"
        },
        "id": "ErYooagK0GAg",
        "outputId": "1c236982-2682-4d81-9eb6-5ef51c0948d7"
      },
      "execution_count": 14,
      "outputs": [
        {
          "output_type": "stream",
          "name": "stdout",
          "text": [
            "[ True  True  True  True  True  True  True  True  True False False  True\n",
            "  True False  True  True  True  True  True  True  True  True False  True\n",
            "  True  True  True  True  True  True False  True  True False False  True\n",
            "  True  True  True  True False  True False False  True  True  True  True\n",
            "  True  True  True  True  True  True  True False  True  True  True  True\n",
            "  True  True  True False  True False  True False False  True  True  True\n",
            " False  True  True  True  True  True  True  True]\n",
            "0.8\n"
          ]
        }
      ]
    },
    {
      "cell_type": "code",
      "source": [
        "import numpy as np\n",
        "hits = np.stack((knn_hits, gnb_hits, ppn_hits))\n",
        "print(hits.T)"
      ],
      "metadata": {
        "colab": {
          "base_uri": "https://localhost:8080/"
        },
        "id": "Vo6885LG1Uqo",
        "outputId": "cf2f89dc-d381-4ee6-dc0f-5eed560e2d58"
      },
      "execution_count": 15,
      "outputs": [
        {
          "output_type": "stream",
          "name": "stdout",
          "text": [
            "[[ True  True  True]\n",
            " [ True  True  True]\n",
            " [ True  True  True]\n",
            " [ True  True  True]\n",
            " [ True  True  True]\n",
            " [ True  True  True]\n",
            " [ True  True  True]\n",
            " [ True  True  True]\n",
            " [ True  True  True]\n",
            " [ True False False]\n",
            " [ True  True False]\n",
            " [ True  True  True]\n",
            " [ True  True  True]\n",
            " [ True False False]\n",
            " [ True  True  True]\n",
            " [ True False  True]\n",
            " [ True  True  True]\n",
            " [ True  True  True]\n",
            " [ True  True  True]\n",
            " [ True  True  True]\n",
            " [ True False  True]\n",
            " [ True  True  True]\n",
            " [False  True False]\n",
            " [False  True  True]\n",
            " [ True  True  True]\n",
            " [False  True  True]\n",
            " [False  True  True]\n",
            " [ True  True  True]\n",
            " [ True  True  True]\n",
            " [ True False  True]\n",
            " [ True  True False]\n",
            " [False  True  True]\n",
            " [ True  True  True]\n",
            " [ True  True False]\n",
            " [ True  True False]\n",
            " [ True  True  True]\n",
            " [False False  True]\n",
            " [False  True  True]\n",
            " [ True  True  True]\n",
            " [ True  True  True]\n",
            " [ True  True False]\n",
            " [ True  True  True]\n",
            " [ True False False]\n",
            " [ True  True False]\n",
            " [ True  True  True]\n",
            " [ True  True  True]\n",
            " [ True  True  True]\n",
            " [ True  True  True]\n",
            " [ True  True  True]\n",
            " [ True False  True]\n",
            " [ True  True  True]\n",
            " [ True  True  True]\n",
            " [ True  True  True]\n",
            " [ True False  True]\n",
            " [ True  True  True]\n",
            " [ True  True False]\n",
            " [ True  True  True]\n",
            " [ True  True  True]\n",
            " [ True  True  True]\n",
            " [False  True  True]\n",
            " [ True  True  True]\n",
            " [ True  True  True]\n",
            " [ True  True  True]\n",
            " [False False False]\n",
            " [ True  True  True]\n",
            " [False  True False]\n",
            " [ True  True  True]\n",
            " [ True False False]\n",
            " [False  True False]\n",
            " [ True False  True]\n",
            " [ True  True  True]\n",
            " [ True  True  True]\n",
            " [ True  True False]\n",
            " [ True  True  True]\n",
            " [ True  True  True]\n",
            " [ True  True  True]\n",
            " [ True  True  True]\n",
            " [ True  True  True]\n",
            " [ True False  True]\n",
            " [ True  True  True]]\n"
          ]
        }
      ]
    },
    {
      "cell_type": "code",
      "source": [
        "y_pred = np.stack((knn_pred, gnb_pred, ppn_pred))\n",
        "print(y_pred.T)"
      ],
      "metadata": {
        "colab": {
          "base_uri": "https://localhost:8080/"
        },
        "id": "N1womO-Z1vgO",
        "outputId": "14606a55-92e4-4f7a-f584-5c88e05a75e9"
      },
      "execution_count": 16,
      "outputs": [
        {
          "output_type": "stream",
          "name": "stdout",
          "text": [
            "[[20 20 20]\n",
            " [28 28 28]\n",
            " [ 3  3  3]\n",
            " [21 21 21]\n",
            " [ 9  9  9]\n",
            " [ 8  8  8]\n",
            " [32 32 32]\n",
            " [ 9  9  9]\n",
            " [26 26 26]\n",
            " [12 16 28]\n",
            " [ 0  0 32]\n",
            " [36 36 36]\n",
            " [ 5  5  5]\n",
            " [ 7 15 34]\n",
            " [13 13 13]\n",
            " [ 4 34  4]\n",
            " [27 27 27]\n",
            " [37 37 37]\n",
            " [23 23 23]\n",
            " [38 38 38]\n",
            " [ 7  9  7]\n",
            " [ 1  1  1]\n",
            " [ 4 39  2]\n",
            " [25 27 27]\n",
            " [ 0  0  0]\n",
            " [ 3 39 39]\n",
            " [ 8 11 11]\n",
            " [22 22 22]\n",
            " [26 26 26]\n",
            " [10 15 10]\n",
            " [39 39  2]\n",
            " [14 19 19]\n",
            " [26 26 26]\n",
            " [ 5  5  8]\n",
            " [23 23 28]\n",
            " [11 11 11]\n",
            " [12 25 11]\n",
            " [20 34 34]\n",
            " [15 15 15]\n",
            " [14 14 14]\n",
            " [38 38 36]\n",
            " [ 5  5  5]\n",
            " [ 7  9 32]\n",
            " [ 2  2 36]\n",
            " [ 8  8  8]\n",
            " [38 38 38]\n",
            " [14 14 14]\n",
            " [18 18 18]\n",
            " [ 2  2  2]\n",
            " [17 39 17]\n",
            " [ 4  4  4]\n",
            " [32 32 32]\n",
            " [33 33 33]\n",
            " [ 7  9  7]\n",
            " [37 37 37]\n",
            " [ 3  3  8]\n",
            " [22 22 22]\n",
            " [17 17 17]\n",
            " [ 3  3  3]\n",
            " [ 0 15 15]\n",
            " [12 12 12]\n",
            " [29 29 29]\n",
            " [25 25 25]\n",
            " [17  0 28]\n",
            " [10 10 10]\n",
            " [14  3 19]\n",
            " [35 35 35]\n",
            " [26 12 36]\n",
            " [37 39 30]\n",
            " [ 7  9  7]\n",
            " [32 32 32]\n",
            " [14 14 14]\n",
            " [ 0  0 31]\n",
            " [ 4  4  4]\n",
            " [38 38 38]\n",
            " [24 24 24]\n",
            " [22 22 22]\n",
            " [36 36 36]\n",
            " [17  9 17]\n",
            " [28 28 28]]\n"
          ]
        }
      ]
    },
    {
      "cell_type": "code",
      "source": [
        "from scipy.stats import mode\n",
        "y_pred_mode, _ = mode(y_pred, axis=0)\n",
        "vote_hits = (y_pred_mode == y_test)\n",
        "print(vote_hits)\n",
        "print(vote_hits.mean())"
      ],
      "metadata": {
        "colab": {
          "base_uri": "https://localhost:8080/"
        },
        "id": "ID73sMcy2H94",
        "outputId": "5b302812-cb8c-436f-d052-f02252139820"
      },
      "execution_count": 17,
      "outputs": [
        {
          "output_type": "stream",
          "name": "stdout",
          "text": [
            "[ True  True  True  True  True  True  True  True  True  True  True  True\n",
            "  True  True  True  True  True  True  True  True  True  True False  True\n",
            "  True  True  True  True  True  True  True  True  True  True  True  True\n",
            "  True  True  True  True  True  True  True  True  True  True  True  True\n",
            "  True  True  True  True  True  True  True  True  True  True  True  True\n",
            "  True  True  True False  True  True  True False False  True  True  True\n",
            "  True  True  True  True  True  True  True  True]\n",
            "0.95\n"
          ]
        }
      ]
    },
    {
      "cell_type": "code",
      "source": [
        "from sklearn.base import BaseEstimator, ClassifierMixin\n",
        "\n",
        "class MajorityVoteClassifier(BaseEstimator, ClassifierMixin):\n",
        "    def __init__(self, classifiers):\n",
        "        self.classifiers = classifiers\n",
        "\n",
        "    def fit(self, X, y):\n",
        "        for _, clf in self.classifiers:\n",
        "            clf.fit(X, y)\n",
        "\n",
        "    def predict(self, X):\n",
        "        y_preds = []\n",
        "        for _, clf in self.classifiers:\n",
        "            y_preds.append(clf.predict(X))\n",
        "        y_preds = np.stack(y_preds)\n",
        "        y_pred_mode, _ = mode(y_preds, axis=0)\n",
        "        return y_pred_mode\n",
        "\n",
        "base_estimators = [\n",
        "    ('knn', KNeighborsClassifier()),\n",
        "    ('gnb', GaussianNB()),\n",
        "    ('ppn', Perceptron())\n",
        "]\n",
        "\n",
        "mv_clf = MajorityVoteClassifier(base_estimators)\n",
        "mv_clf.fit(X_train, y_train)\n",
        "mv_clf_pred = mv_clf.predict(X_test)\n",
        "mv_clf_hits = (mv_clf_pred == y_test)\n",
        "print(mv_clf_hits)\n",
        "print(mv_clf_hits.mean())"
      ],
      "metadata": {
        "colab": {
          "base_uri": "https://localhost:8080/"
        },
        "id": "Hn_1QO1R2kYL",
        "outputId": "3c26308a-3d07-471b-f158-7d50c7b63daa"
      },
      "execution_count": 20,
      "outputs": [
        {
          "output_type": "stream",
          "name": "stdout",
          "text": [
            "[ True  True  True  True  True  True  True  True  True  True  True  True\n",
            "  True  True  True  True  True  True  True  True  True  True False  True\n",
            "  True  True  True  True  True  True  True  True  True  True  True  True\n",
            "  True  True  True  True  True  True  True  True  True  True  True  True\n",
            "  True  True  True  True  True  True  True  True  True  True  True  True\n",
            "  True  True  True False  True  True  True False False  True  True  True\n",
            "  True  True  True  True  True  True  True  True]\n",
            "0.95\n"
          ]
        }
      ]
    },
    {
      "cell_type": "code",
      "source": [
        "from sklearn.ensemble import VotingClassifier\n",
        "\n",
        "mv_clf = VotingClassifier(base_estimators)\n",
        "mv_clf.fit(X_train, y_train)\n",
        "mv_clf_pred = mv_clf.predict(X_test)\n",
        "mv_clf_hits = (mv_clf_pred == y_test)\n",
        "print(mv_clf_hits)\n",
        "print(mv_clf_hits.mean())"
      ],
      "metadata": {
        "colab": {
          "base_uri": "https://localhost:8080/"
        },
        "id": "z78SY77Y3WMy",
        "outputId": "229f6177-bcd3-441c-a7e2-ce14f43ad6c5"
      },
      "execution_count": 21,
      "outputs": [
        {
          "output_type": "stream",
          "name": "stdout",
          "text": [
            "[ True  True  True  True  True  True  True  True  True  True  True  True\n",
            "  True  True  True  True  True  True  True  True  True  True False  True\n",
            "  True  True  True  True  True  True  True  True  True  True  True  True\n",
            "  True  True  True  True  True  True  True  True  True  True  True  True\n",
            "  True  True  True  True  True  True  True  True  True  True  True  True\n",
            "  True  True  True False  True  True  True False False  True  True  True\n",
            "  True  True  True  True  True  True  True  True]\n",
            "0.95\n"
          ]
        }
      ]
    },
    {
      "cell_type": "code",
      "source": [
        "ks = [1, 5 ,9]\n",
        "base_estimators = [(f\"KNN({k})\", KNeighborsClassifier(k)) for k in ks]\n",
        "mv_clf = MajorityVoteClassifier(base_estimators)\n",
        "mv_clf.fit(X_train, y_train)\n",
        "mv_clf_pred = mv_clf.predict(X_test)\n",
        "mv_clf_hits = (mv_clf_pred == y_test)\n",
        "print(mv_clf_hits)\n",
        "print(mv_clf_hits.mean())"
      ],
      "metadata": {
        "colab": {
          "base_uri": "https://localhost:8080/"
        },
        "id": "V04WTGeY3mPn",
        "outputId": "be1a280c-f95c-43a9-ced3-d5913e0ca390"
      },
      "execution_count": 25,
      "outputs": [
        {
          "output_type": "stream",
          "name": "stdout",
          "text": [
            "[ True  True  True  True  True  True  True  True  True  True  True  True\n",
            "  True  True  True  True  True  True  True  True  True  True False False\n",
            "  True False False  True  True  True  True False  True  True  True  True\n",
            " False False  True  True  True  True  True  True  True  True  True  True\n",
            "  True  True  True  True  True  True  True  True  True  True  True  True\n",
            "  True  True  True False  True False  True  True False  True  True  True\n",
            "  True  True  True  True  True  True  True  True]\n",
            "0.875\n"
          ]
        }
      ]
    },
    {
      "cell_type": "code",
      "source": [
        "from sklearn.tree import DecisionTreeClassifier\n",
        "dt = DecisionTreeClassifier()\n",
        "dt.fit(X_train, y_train)\n",
        "dt_pred = dt.predict(X_test)\n",
        "dt_hits = (dt_pred == y_test)\n",
        "print(dt_hits)\n",
        "print(dt_hits.mean())"
      ],
      "metadata": {
        "colab": {
          "base_uri": "https://localhost:8080/"
        },
        "id": "u2wbgT365Te0",
        "outputId": "96f6cc01-1a2a-4423-dcc2-f844566989bb"
      },
      "execution_count": 30,
      "outputs": [
        {
          "output_type": "stream",
          "name": "stdout",
          "text": [
            "[ True False  True  True  True False  True False False False False  True\n",
            "  True False False  True False  True  True  True  True  True False  True\n",
            "  True False False False False  True False  True False False False False\n",
            " False False False  True False  True False False  True False  True  True\n",
            "  True  True False  True  True False  True False False False False  True\n",
            " False  True False False False  True  True  True False False  True False\n",
            " False  True  True  True  True False  True False]\n",
            "0.475\n"
          ]
        }
      ]
    },
    {
      "cell_type": "code",
      "source": [
        "base_estimators = [\n",
        "    ('knn', KNeighborsClassifier()),\n",
        "    ('gnb', GaussianNB()),\n",
        "    ('dt', DecisionTreeClassifier())\n",
        "]\n",
        "\n",
        "mv_clf = VotingClassifier(base_estimators)\n",
        "mv_clf.fit(X_train, y_train)\n",
        "mv_clf_pred = mv_clf.predict(X_test)\n",
        "mv_clf_hits = (mv_clf_pred == y_test)\n",
        "print(mv_clf_hits)\n",
        "print(mv_clf_hits.mean())"
      ],
      "metadata": {
        "colab": {
          "base_uri": "https://localhost:8080/"
        },
        "id": "Z7rUjAaN52Ze",
        "outputId": "3321b8a6-bc65-44a8-ba39-5f34a44d6490"
      },
      "execution_count": 35,
      "outputs": [
        {
          "output_type": "stream",
          "name": "stdout",
          "text": [
            "[ True  True  True  True  True  True  True  True  True False  True  True\n",
            "  True False  True False  True  True  True  True  True  True False False\n",
            "  True  True False  True  True  True  True  True  True  True  True  True\n",
            " False False  True  True  True  True  True  True  True  True  True  True\n",
            "  True  True  True  True  True  True  True  True  True  True  True  True\n",
            "  True  True  True False  True  True  True  True False False  True  True\n",
            "  True  True  True  True  True  True False  True]\n",
            "0.85\n"
          ]
        }
      ]
    },
    {
      "cell_type": "code",
      "source": [
        "base_estimators = [(f\"dt({i})\", DecisionTreeClassifier()) for i in range(10)]\n",
        "\n",
        "mv_clf = VotingClassifier(base_estimators)\n",
        "mv_clf.fit(X_train, y_train)\n",
        "mv_clf_pred = mv_clf.predict(X_test)\n",
        "mv_clf_hits = (mv_clf_pred == y_test)\n",
        "print(mv_clf_hits)\n",
        "print(mv_clf_hits.mean())"
      ],
      "metadata": {
        "colab": {
          "base_uri": "https://localhost:8080/"
        },
        "id": "ZS-q4oExEGp-",
        "outputId": "489c82fb-f001-42c3-fa80-135108e097ac"
      },
      "execution_count": 88,
      "outputs": [
        {
          "output_type": "stream",
          "name": "stdout",
          "text": [
            "[ True  True  True  True  True False  True  True False False False  True\n",
            "  True False False False False  True  True  True  True  True False  True\n",
            "  True  True False False False  True False  True  True False False False\n",
            " False False False  True False  True False False  True False  True  True\n",
            "  True  True False  True  True False  True False False False False  True\n",
            " False  True False False  True  True  True  True False False  True  True\n",
            " False  True  True  True  True False  True  True]\n",
            "0.55\n"
          ]
        }
      ]
    },
    {
      "cell_type": "code",
      "source": [
        "base_estimators = [(f\"dt({i})\", DecisionTreeClassifier(splitter='random')) for i in range(10)]\n",
        "\n",
        "mv_clf = VotingClassifier(base_estimators)\n",
        "mv_clf.fit(X_train, y_train)\n",
        "mv_clf_pred = mv_clf.predict(X_test)\n",
        "mv_clf_hits = (mv_clf_pred == y_test)\n",
        "print(mv_clf_hits)\n",
        "print(mv_clf_hits.mean())"
      ],
      "metadata": {
        "colab": {
          "base_uri": "https://localhost:8080/"
        },
        "id": "Nksb7KO36xEb",
        "outputId": "4009bb47-a92e-4eaa-88c5-b11fd037edab"
      },
      "execution_count": 89,
      "outputs": [
        {
          "output_type": "stream",
          "name": "stdout",
          "text": [
            "[ True  True  True  True  True False  True  True  True False  True  True\n",
            "  True  True  True  True False  True  True  True  True  True  True False\n",
            "  True  True  True  True  True False  True  True  True  True  True  True\n",
            "  True  True  True  True False  True  True  True  True  True  True  True\n",
            "  True  True False  True  True False  True  True False  True  True  True\n",
            "  True  True False False  True False  True  True False False  True  True\n",
            "  True  True  True  True  True False  True  True]\n",
            "0.8125\n"
          ]
        }
      ]
    },
    {
      "cell_type": "code",
      "source": [
        "from sklearn.ensemble import BaggingClassifier\n",
        "\n",
        "base_estimator = DecisionTreeClassifier()\n",
        "bagging = BaggingClassifier(base_estimator,\n",
        "                            n_estimators=10,\n",
        "                            random_state=42)\n",
        "bagging.fit(X_train, y_train)\n",
        "bagging_pred = bagging.predict(X_test)\n",
        "bagging_hits = (bagging_pred == y_test)\n",
        "print(bagging_hits)\n",
        "print(bagging_hits.mean())"
      ],
      "metadata": {
        "colab": {
          "base_uri": "https://localhost:8080/"
        },
        "id": "3SFibliiEfhR",
        "outputId": "c73cd009-0ba2-4163-93a8-b92a42518794"
      },
      "execution_count": 90,
      "outputs": [
        {
          "output_type": "stream",
          "name": "stdout",
          "text": [
            "[ True  True  True  True  True  True  True  True  True False  True  True\n",
            "  True  True  True  True False False  True  True  True  True False False\n",
            "  True False  True  True  True False  True  True  True  True  True False\n",
            " False  True  True  True False  True  True False False False  True  True\n",
            "  True False False  True  True False  True  True False  True  True  True\n",
            "  True  True False False  True False  True False False False False  True\n",
            "  True  True  True  True  True False False  True]\n",
            "0.675\n"
          ]
        }
      ]
    },
    {
      "cell_type": "code",
      "source": [
        "from sklearn.ensemble import BaggingClassifier\n",
        "\n",
        "base_estimator = DecisionTreeClassifier(splitter='random')\n",
        "bagging = BaggingClassifier(base_estimator,\n",
        "                            n_estimators=10,\n",
        "                            random_state=42)\n",
        "bagging.fit(X_train, y_train)\n",
        "bagging_pred = bagging.predict(X_test)\n",
        "bagging_hits = (bagging_pred == y_test)\n",
        "print(bagging_hits)\n",
        "print(bagging_hits.mean())"
      ],
      "metadata": {
        "colab": {
          "base_uri": "https://localhost:8080/"
        },
        "id": "QIXtX3cj8F_c",
        "outputId": "00136e8d-d29b-44da-c852-deeed040b999"
      },
      "execution_count": 91,
      "outputs": [
        {
          "output_type": "stream",
          "name": "stdout",
          "text": [
            "[ True  True  True  True  True  True  True False  True False  True  True\n",
            "  True False  True  True False  True  True  True  True  True False False\n",
            "  True False False  True  True  True False  True  True  True  True False\n",
            " False False  True  True False  True False  True  True False  True  True\n",
            "  True  True  True  True  True  True  True False  True False  True  True\n",
            "  True  True False False  True False  True False False False  True  True\n",
            "  True  True  True  True  True False False  True]\n",
            "0.6875\n"
          ]
        }
      ]
    },
    {
      "cell_type": "code",
      "source": [
        "from sklearn.ensemble import BaggingClassifier\n",
        "\n",
        "base_estimator = DecisionTreeClassifier(splitter='random')\n",
        "bagging = BaggingClassifier(base_estimator,\n",
        "                            n_estimators=100,\n",
        "                            random_state=42)\n",
        "bagging.fit(X_train, y_train)\n",
        "bagging_pred = bagging.predict(X_test)\n",
        "bagging_hits = (bagging_pred == y_test)\n",
        "print(bagging_hits)\n",
        "print(bagging_hits.mean())"
      ],
      "metadata": {
        "colab": {
          "base_uri": "https://localhost:8080/"
        },
        "id": "mfELmPQIFG8y",
        "outputId": "b95873ec-c488-4349-99b9-a59017a3b984"
      },
      "execution_count": 98,
      "outputs": [
        {
          "output_type": "stream",
          "name": "stdout",
          "text": [
            "[ True  True  True  True  True  True  True  True  True  True  True  True\n",
            "  True  True  True  True False  True  True  True  True  True  True  True\n",
            "  True  True  True  True  True  True  True  True  True  True  True  True\n",
            " False  True  True  True  True  True  True  True  True  True  True  True\n",
            "  True  True  True  True  True  True  True  True  True  True  True  True\n",
            "  True  True False False  True False  True  True False False  True  True\n",
            "  True  True  True  True  True  True  True  True]\n",
            "0.9125\n"
          ]
        }
      ]
    },
    {
      "cell_type": "code",
      "source": [
        "from sklearn.ensemble import RandomForestClassifier\n",
        "\n",
        "rf = RandomForestClassifier(n_estimators=100,\n",
        "                            random_state=42)\n",
        "rf.fit(X_train, y_train)\n",
        "rf_pred = rf.predict(X_test)\n",
        "rf_hits = (rf_pred == y_test)\n",
        "print(rf_hits)\n",
        "print(rf_hits.mean())"
      ],
      "metadata": {
        "colab": {
          "base_uri": "https://localhost:8080/"
        },
        "id": "mVmgI4-o_x3s",
        "outputId": "6d1750d7-f0d8-415e-94ef-e5bf282f6742"
      },
      "execution_count": 99,
      "outputs": [
        {
          "output_type": "stream",
          "name": "stdout",
          "text": [
            "[ True  True  True  True  True  True  True  True  True  True  True  True\n",
            "  True  True  True  True  True  True  True  True  True  True  True  True\n",
            "  True  True  True  True  True  True  True  True  True  True  True  True\n",
            "  True  True  True  True False  True False  True  True  True  True  True\n",
            "  True  True  True  True  True False  True  True  True  True  True  True\n",
            "  True  True False False  True  True  True  True False  True  True  True\n",
            "  True  True  True  True  True  True  True  True]\n",
            "0.925\n"
          ]
        }
      ]
    },
    {
      "cell_type": "code",
      "source": [
        "from sklearn.ensemble import ExtraTreesClassifier\n",
        "\n",
        "et = ExtraTreesClassifier(n_estimators=100,\n",
        "                            random_state=42)\n",
        "et.fit(X_train, y_train)\n",
        "et_pred = et.predict(X_test)\n",
        "et_hits = (et_pred == y_test)\n",
        "print(et_hits)\n",
        "print(et_hits.mean())"
      ],
      "metadata": {
        "colab": {
          "base_uri": "https://localhost:8080/"
        },
        "id": "8WmSZM5lBwvM",
        "outputId": "6e483c31-9eb5-4bc0-87bd-5bdd4aa102aa"
      },
      "execution_count": 100,
      "outputs": [
        {
          "output_type": "stream",
          "name": "stdout",
          "text": [
            "[ True  True  True  True  True  True  True  True  True  True  True  True\n",
            "  True  True  True  True  True  True  True  True  True  True  True  True\n",
            "  True  True  True  True  True  True  True  True  True  True  True  True\n",
            "  True False  True  True  True  True  True  True  True  True  True  True\n",
            "  True  True  True  True  True  True  True  True  True  True  True  True\n",
            "  True  True False False  True  True  True  True  True  True  True  True\n",
            "  True  True  True  True  True  True  True  True]\n",
            "0.9625\n"
          ]
        }
      ]
    },
    {
      "cell_type": "code",
      "source": [
        "from sklearn.ensemble import AdaBoostClassifier\n",
        "\n",
        "ada = AdaBoostClassifier(DecisionTreeClassifier(max_depth=20, splitter='random'),\n",
        "                         learning_rate=0.15, random_state=42)\n",
        "ada.fit(X_train, y_train)\n",
        "ada_pred = ada.predict(X_test)\n",
        "ada_hits = (ada_pred == y_test)\n",
        "print(ada_hits)\n",
        "print(ada_hits.mean())"
      ],
      "metadata": {
        "colab": {
          "base_uri": "https://localhost:8080/"
        },
        "id": "La6fo_mYICj2",
        "outputId": "555207bb-b325-48b6-cfbe-127af804d033"
      },
      "execution_count": 110,
      "outputs": [
        {
          "output_type": "stream",
          "name": "stdout",
          "text": [
            "[ True  True  True  True  True  True  True  True  True  True  True  True\n",
            "  True  True  True  True  True  True  True  True  True  True  True  True\n",
            "  True  True  True  True  True  True False  True  True  True  True  True\n",
            "  True  True  True  True False  True  True  True  True  True  True  True\n",
            "  True  True False  True  True  True  True  True False  True  True  True\n",
            "  True  True False False  True  True  True  True  True  True  True  True\n",
            "  True  True  True  True  True  True  True  True]\n",
            "0.925\n"
          ]
        }
      ]
    },
    {
      "cell_type": "code",
      "source": [
        "from sklearn.ensemble import StackingClassifier\n",
        "import warnings\n",
        "warnings.filterwarnings('ignore')\n",
        "\n",
        "voting = VotingClassifier([\n",
        "    ('knn', KNeighborsClassifier()),\n",
        "    ('gnb', GaussianNB()),\n",
        "    ('ppn', Perceptron())\n",
        "])\n",
        "\n",
        "base_estimators = [\n",
        "    ('voting', voting),\n",
        "    ('rf', RandomForestClassifier()),\n",
        "    ('et', ExtraTreesClassifier())\n",
        "]\n",
        "\n",
        "stacking = StackingClassifier(base_estimators,\n",
        "                              cv=3, passthrough=True)\n",
        "stacking.fit(X_train, y_train)\n",
        "stacking_pred = stacking.predict(X_test)\n",
        "stacking_hits = (stacking_pred == y_test)\n",
        "print(stacking_hits)\n",
        "print(stacking_hits.mean())"
      ],
      "metadata": {
        "colab": {
          "base_uri": "https://localhost:8080/"
        },
        "id": "un3mhY0uJnkU",
        "outputId": "c482456a-4189-4268-eb05-4447d2ba16af"
      },
      "execution_count": 118,
      "outputs": [
        {
          "output_type": "stream",
          "name": "stdout",
          "text": [
            "[ True  True  True  True  True  True  True  True  True  True  True  True\n",
            "  True  True  True  True  True  True  True  True  True  True  True  True\n",
            "  True  True  True  True  True  True  True  True  True  True  True  True\n",
            "  True  True  True  True  True  True  True  True  True  True  True  True\n",
            "  True  True  True  True  True  True  True  True  True  True  True  True\n",
            "  True  True  True False  True  True  True  True False  True  True  True\n",
            "  True  True  True  True  True  True  True  True]\n",
            "0.975\n"
          ]
        }
      ]
    },
    {
      "cell_type": "code",
      "source": [
        "from sklearn.linear_model import LogisticRegression\n",
        "\n",
        "lr = LogisticRegression()\n",
        "lr.fit(X_train, y_train)\n",
        "lr_pred = lr.predict(X_test)\n",
        "lr_hits = (lr_pred == y_test)\n",
        "print(lr_hits)\n",
        "print(lr_hits.mean())"
      ],
      "metadata": {
        "colab": {
          "base_uri": "https://localhost:8080/"
        },
        "id": "Wi0qtUleMVR4",
        "outputId": "a491d5c7-13e0-4c4c-9a6a-697321cc713d"
      },
      "execution_count": 119,
      "outputs": [
        {
          "output_type": "stream",
          "name": "stdout",
          "text": [
            "[ True  True  True  True  True  True  True  True  True  True  True  True\n",
            "  True  True  True  True  True  True  True  True  True  True  True  True\n",
            "  True  True  True  True  True  True  True  True  True  True  True  True\n",
            "  True  True  True  True  True  True  True  True  True  True  True  True\n",
            "  True  True  True  True  True  True  True  True  True  True  True  True\n",
            "  True  True  True False  True  True  True  True False  True  True  True\n",
            "  True  True  True  True  True  True  True  True]\n",
            "0.975\n"
          ]
        }
      ]
    },
    {
      "cell_type": "code",
      "source": [
        "from sklearn.model_selection import cross_validate, StratifiedKFold\n",
        "from pprint import pprint\n",
        "from sklearn.linear_model import LogisticRegression\n",
        "\n",
        "lr = LogisticRegression()\n",
        "scores = cross_validate(lr, X, y, cv=StratifiedKFold(), return_train_score=True)\n",
        "pprint(scores)\n",
        "print(scores['test_score'].mean())"
      ],
      "metadata": {
        "colab": {
          "base_uri": "https://localhost:8080/"
        },
        "id": "yVqa5_j1O-eU",
        "outputId": "48878314-a68c-498c-e561-a04f61e29ac4"
      },
      "execution_count": 130,
      "outputs": [
        {
          "output_type": "stream",
          "name": "stdout",
          "text": [
            "{'fit_time': array([11.33430243, 11.98795342, 11.24827361, 11.28192091, 10.66648602]),\n",
            " 'score_time': array([0.00576997, 0.02064586, 0.00738096, 0.10807204, 0.00335217]),\n",
            " 'test_score': array([1.   , 0.95 , 0.95 , 0.975, 0.95 ]),\n",
            " 'train_score': array([1., 1., 1., 1., 1.])}\n",
            "0.9650000000000001\n"
          ]
        }
      ]
    },
    {
      "cell_type": "code",
      "source": [
        "!pip install optuna -qq"
      ],
      "metadata": {
        "id": "fbKVNnU7NT4z"
      },
      "execution_count": 124,
      "outputs": []
    },
    {
      "cell_type": "code",
      "source": [
        "import optuna\n",
        "from sklearn.model_selection import cross_val_score\n",
        "from sklearn.neighbors import KNeighborsClassifier\n",
        "from sklearn.naive_bayes import GaussianNB\n",
        "from sklearn.linear_model import Perceptron, LogisticRegression\n",
        "from sklearn.ensemble import VotingClassifier, RandomForestClassifier, ExtraTreesClassifier, StackingClassifier\n",
        "from sklearn.tree import DecisionTreeClassifier\n",
        "import warnings\n",
        "import numpy as np\n",
        "\n",
        "warnings.filterwarnings('ignore')\n",
        "\n",
        "def objective(trial):\n",
        "    # Define hyperparameters for base estimators\n",
        "    knn_n_neighbors = trial.suggest_int('knn_n_neighbors', 1, 20)\n",
        "    gnb_var_smoothing = trial.suggest_float('gnb_var_smoothing', 1e-10, 1e-8, log=True)\n",
        "    ppn_eta0 = trial.suggest_float('ppn_eta0', 0.0001, 1.0, log=True)\n",
        "\n",
        "    # Define hyperparameters for the meta-classifier (Logistic Regression)\n",
        "    lr_C = trial.suggest_float('lr_C', 0.01, 10.0, log=True)\n",
        "    lr_solver = trial.suggest_categorical('lr_solver', ['liblinear', 'lbfgs', 'newton-cg', 'sag', 'saga'])\n",
        "\n",
        "    # Define hyperparameters for the ensemble methods within the stacking\n",
        "    rf_n_estimators = trial.suggest_int('rf_n_estimators', 50, 300)\n",
        "    et_n_estimators = trial.suggest_int('et_n_estimators', 50, 300)\n",
        "\n",
        "    stacking_passthrough = trial.suggest_categorical('stacking_passthrough', [True, False])\n",
        "\n",
        "    # Create base estimators with suggested hyperparameters\n",
        "    knn = KNeighborsClassifier(n_neighbors=knn_n_neighbors)\n",
        "    gnb = GaussianNB(var_smoothing=gnb_var_smoothing)\n",
        "    ppn = Perceptron(eta0=ppn_eta0)\n",
        "    lr = LogisticRegression(C=lr_C, solver=lr_solver)\n",
        "    rf = RandomForestClassifier(n_estimators=rf_n_estimators, random_state=42)\n",
        "    et = ExtraTreesClassifier(n_estimators=et_n_estimators, random_state=42)\n",
        "\n",
        "    # Create the VotingClassifier\n",
        "    voting = VotingClassifier([\n",
        "        ('knn', knn),\n",
        "        ('gnb', gnb),\n",
        "        ('ppn', ppn)\n",
        "    ])\n",
        "\n",
        "    # Create the StackingClassifier\n",
        "    base_estimators = [\n",
        "        ('voting', voting),\n",
        "        ('rf', rf),\n",
        "        ('et', et)\n",
        "    ]\n",
        "\n",
        "    stacking = StackingClassifier(base_estimators,\n",
        "                                  final_estimator=lr,\n",
        "                                  cv=3,\n",
        "                                  passthrough=stacking_passthrough)\n",
        "\n",
        "    # Evaluate the StackingClassifier using cross-validation\n",
        "    score = cross_val_score(stacking, X_train, y_train, n_jobs=-1, cv=3).mean()\n",
        "    return score\n",
        "\n",
        "study = optuna.create_study(direction='maximize')\n",
        "study.optimize(objective, n_trials=50)\n",
        "\n",
        "print(\"Best parameters found by Optuna:\")\n",
        "print(study.best_params)\n",
        "print(\"Best cross-validation score (negative MSE):\")\n",
        "print(study.best_value)"
      ],
      "metadata": {
        "colab": {
          "base_uri": "https://localhost:8080/"
        },
        "id": "L22qClclNhJn",
        "outputId": "0c126dcd-4985-4b16-86b7-f2e1e3428557"
      },
      "execution_count": null,
      "outputs": [
        {
          "output_type": "stream",
          "name": "stderr",
          "text": [
            "[I 2025-09-25 00:25:22,249] A new study created in memory with name: no-name-2ab73e3d-1e1c-4300-a70a-68c8f509f31e\n",
            "[I 2025-09-25 00:26:18,732] Trial 0 finished with value: 0.3126432727913948 and parameters: {'knn_n_neighbors': 18, 'gnb_var_smoothing': 4.671470755945215e-10, 'ppn_eta0': 0.005886995306825281, 'lr_C': 1.7594711581067959, 'lr_solver': 'saga', 'rf_n_estimators': 124, 'et_n_estimators': 293, 'stacking_passthrough': False}. Best is trial 0 with value: 0.3126432727913948.\n",
            "[I 2025-09-25 00:28:07,656] Trial 1 finished with value: 0.9155939575618645 and parameters: {'knn_n_neighbors': 15, 'gnb_var_smoothing': 1.1377214860904804e-10, 'ppn_eta0': 0.14954309829262577, 'lr_C': 1.0096816957968953, 'lr_solver': 'sag', 'rf_n_estimators': 242, 'et_n_estimators': 212, 'stacking_passthrough': True}. Best is trial 1 with value: 0.9155939575618645.\n",
            "[I 2025-09-25 00:28:49,859] Trial 2 finished with value: 0.37800505495797326 and parameters: {'knn_n_neighbors': 5, 'gnb_var_smoothing': 4.2961085676410603e-10, 'ppn_eta0': 0.014539034730203014, 'lr_C': 0.05906032368802536, 'lr_solver': 'newton-cg', 'rf_n_estimators': 111, 'et_n_estimators': 117, 'stacking_passthrough': False}. Best is trial 1 with value: 0.9155939575618645.\n",
            "[I 2025-09-25 00:29:46,344] Trial 3 finished with value: 0.10932816081819785 and parameters: {'knn_n_neighbors': 8, 'gnb_var_smoothing': 2.209222249349958e-09, 'ppn_eta0': 0.021547401181944658, 'lr_C': 0.011168741709406205, 'lr_solver': 'sag', 'rf_n_estimators': 143, 'et_n_estimators': 281, 'stacking_passthrough': False}. Best is trial 1 with value: 0.9155939575618645.\n",
            "[I 2025-09-25 00:30:23,465] Trial 4 finished with value: 0.3156115911361899 and parameters: {'knn_n_neighbors': 13, 'gnb_var_smoothing': 1.1565539148545606e-09, 'ppn_eta0': 0.003513853932769024, 'lr_C': 2.202428865042951, 'lr_solver': 'saga', 'rf_n_estimators': 61, 'et_n_estimators': 215, 'stacking_passthrough': False}. Best is trial 1 with value: 0.9155939575618645.\n",
            "[I 2025-09-25 00:31:24,221] Trial 5 finished with value: 0.9344324927996238 and parameters: {'knn_n_neighbors': 18, 'gnb_var_smoothing': 1.8756656659166197e-10, 'ppn_eta0': 0.04162766322314321, 'lr_C': 0.24090843351782845, 'lr_solver': 'newton-cg', 'rf_n_estimators': 162, 'et_n_estimators': 230, 'stacking_passthrough': True}. Best is trial 5 with value: 0.9344324927996238.\n",
            "[I 2025-09-25 00:32:21,485] Trial 6 finished with value: 0.5249221183800623 and parameters: {'knn_n_neighbors': 7, 'gnb_var_smoothing': 1.641593460981715e-09, 'ppn_eta0': 0.0019593796427300014, 'lr_C': 8.543176466134412, 'lr_solver': 'sag', 'rf_n_estimators': 190, 'et_n_estimators': 86, 'stacking_passthrough': False}. Best is trial 5 with value: 0.9344324927996238.\n",
            "[I 2025-09-25 00:32:56,297] Trial 7 finished with value: 0.49673778874977953 and parameters: {'knn_n_neighbors': 2, 'gnb_var_smoothing': 3.894805343567404e-09, 'ppn_eta0': 0.35589966494017045, 'lr_C': 0.6568083654111515, 'lr_solver': 'sag', 'rf_n_estimators': 76, 'et_n_estimators': 112, 'stacking_passthrough': False}. Best is trial 5 with value: 0.9344324927996238.\n",
            "[I 2025-09-25 00:34:17,703] Trial 8 finished with value: 0.4873919943572562 and parameters: {'knn_n_neighbors': 2, 'gnb_var_smoothing': 2.2394830528974124e-10, 'ppn_eta0': 0.0004519533805963441, 'lr_C': 0.1734481369170913, 'lr_solver': 'lbfgs', 'rf_n_estimators': 287, 'et_n_estimators': 190, 'stacking_passthrough': False}. Best is trial 5 with value: 0.9344324927996238.\n",
            "[I 2025-09-25 00:35:38,668] Trial 9 finished with value: 0.11250220419679069 and parameters: {'knn_n_neighbors': 20, 'gnb_var_smoothing': 2.7965776578740156e-10, 'ppn_eta0': 0.06267221900156113, 'lr_C': 0.020631054584409676, 'lr_solver': 'sag', 'rf_n_estimators': 265, 'et_n_estimators': 259, 'stacking_passthrough': False}. Best is trial 5 with value: 0.9344324927996238.\n",
            "[I 2025-09-25 00:36:45,234] Trial 10 finished with value: 0.9375477575971316 and parameters: {'knn_n_neighbors': 12, 'gnb_var_smoothing': 8.585131116090467e-09, 'ppn_eta0': 0.8670901663770878, 'lr_C': 0.15997728530123279, 'lr_solver': 'newton-cg', 'rf_n_estimators': 199, 'et_n_estimators': 145, 'stacking_passthrough': True}. Best is trial 10 with value: 0.9375477575971316.\n",
            "[I 2025-09-25 00:37:52,174] Trial 11 finished with value: 0.9375477575971316 and parameters: {'knn_n_neighbors': 12, 'gnb_var_smoothing': 8.397812261933851e-09, 'ppn_eta0': 0.9852082976979336, 'lr_C': 0.15845993740363157, 'lr_solver': 'newton-cg', 'rf_n_estimators': 200, 'et_n_estimators': 146, 'stacking_passthrough': True}. Best is trial 10 with value: 0.9375477575971316.\n",
            "[I 2025-09-25 00:39:01,510] Trial 12 finished with value: 0.9282019632046082 and parameters: {'knn_n_neighbors': 11, 'gnb_var_smoothing': 9.340584685204428e-09, 'ppn_eta0': 0.9842915712058775, 'lr_C': 0.08473551163236148, 'lr_solver': 'newton-cg', 'rf_n_estimators': 207, 'et_n_estimators': 147, 'stacking_passthrough': True}. Best is trial 10 with value: 0.9375477575971316.\n",
            "[I 2025-09-25 00:40:29,481] Trial 13 finished with value: 0.9312290601304886 and parameters: {'knn_n_neighbors': 13, 'gnb_var_smoothing': 8.821038612372719e-09, 'ppn_eta0': 0.7849382027331848, 'lr_C': 0.05551317961524674, 'lr_solver': 'liblinear', 'rf_n_estimators': 222, 'et_n_estimators': 53, 'stacking_passthrough': True}. Best is trial 10 with value: 0.9375477575971316.\n"
          ]
        }
      ]
    }
  ]
}
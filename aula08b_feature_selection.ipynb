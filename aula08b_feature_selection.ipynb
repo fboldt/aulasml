{
  "nbformat": 4,
  "nbformat_minor": 0,
  "metadata": {
    "colab": {
      "provenance": [],
      "authorship_tag": "ABX9TyMMBUf1nJNKLPEeYOn3upHD",
      "include_colab_link": true
    },
    "kernelspec": {
      "name": "python3",
      "display_name": "Python 3"
    },
    "language_info": {
      "name": "python"
    }
  },
  "cells": [
    {
      "cell_type": "markdown",
      "metadata": {
        "id": "view-in-github",
        "colab_type": "text"
      },
      "source": [
        "<a href=\"https://colab.research.google.com/github/fboldt/aulasml/blob/master/aula08b_feature_selection.ipynb\" target=\"_parent\"><img src=\"https://colab.research.google.com/assets/colab-badge.svg\" alt=\"Open In Colab\"/></a>"
      ]
    },
    {
      "cell_type": "code",
      "execution_count": 1,
      "metadata": {
        "colab": {
          "base_uri": "https://localhost:8080/"
        },
        "id": "OCJl5MuwOo5Y",
        "outputId": "96f38b16-d42b-4c34-e082-598f4137d01a"
      },
      "outputs": [
        {
          "output_type": "stream",
          "name": "stdout",
          "text": [
            "(581012, 54)\n",
            "(581012,)\n"
          ]
        }
      ],
      "source": [
        "from sklearn.datasets import fetch_covtype\n",
        "X, y = fetch_covtype(return_X_y=True)\n",
        "print(X.shape)\n",
        "print(y.shape)"
      ]
    },
    {
      "cell_type": "code",
      "source": [
        "from sklearn.model_selection import cross_validate, StratifiedKFold\n",
        "from sklearn.linear_model import RidgeClassifier\n",
        "from pprint import pprint\n",
        "\n",
        "model = RidgeClassifier()\n",
        "scores = cross_validate(model, X, y,\n",
        "                            cv=StratifiedKFold(shuffle=True, random_state=42))\n",
        "pprint(scores)\n",
        "print(scores['test_score'].mean())"
      ],
      "metadata": {
        "colab": {
          "base_uri": "https://localhost:8080/"
        },
        "id": "el8MSjpcPuHL",
        "outputId": "9ae7b774-015c-4c52-ae2a-ddbfc90776dc"
      },
      "execution_count": 2,
      "outputs": [
        {
          "output_type": "stream",
          "name": "stdout",
          "text": [
            "{'fit_time': array([0.98981977, 0.74078918, 0.86217332, 1.92224932, 0.99425697]),\n",
            " 'score_time': array([0.03517938, 0.02949691, 0.04720283, 0.04604387, 0.02907944]),\n",
            " 'test_score': array([0.70053269, 0.70196122, 0.70087434, 0.70059896, 0.70120136])}\n",
            "0.7010337128553527\n"
          ]
        }
      ]
    },
    {
      "cell_type": "code",
      "source": [
        "from sklearn.preprocessing import StandardScaler\n",
        "from sklearn.pipeline import Pipeline\n",
        "\n",
        "model = Pipeline([\n",
        "    ('scaler', StandardScaler()),\n",
        "    ('classifier', RidgeClassifier())\n",
        "])\n",
        "scores = cross_validate(model, X, y,\n",
        "                            cv=StratifiedKFold(shuffle=True, random_state=42))\n",
        "pprint(scores)\n",
        "print(scores['test_score'].mean())"
      ],
      "metadata": {
        "colab": {
          "base_uri": "https://localhost:8080/"
        },
        "id": "NFam69f6Qq5j",
        "outputId": "14ab2056-53f6-45f8-9b4a-173da8d6de0c"
      },
      "execution_count": 3,
      "outputs": [
        {
          "output_type": "stream",
          "name": "stdout",
          "text": [
            "{'fit_time': array([1.17189527, 1.23398995, 1.16201067, 1.16048121, 2.71721482]),\n",
            " 'score_time': array([0.07748365, 0.08143139, 0.07726288, 0.0763545 , 0.11488366]),\n",
            " 'test_score': array([0.70055851, 0.70196983, 0.70085713, 0.70057314, 0.70121857])}\n",
            "0.7010354339368788\n"
          ]
        }
      ]
    },
    {
      "cell_type": "code",
      "source": [
        "from sklearn.feature_selection import VarianceThreshold\n",
        "\n",
        "model = Pipeline([\n",
        "    ('selector', VarianceThreshold(threshold=0.01)),\n",
        "    ('scaler', StandardScaler()),\n",
        "    ('classifier', RidgeClassifier())\n",
        "])\n",
        "\n",
        "scores = cross_validate(model, X, y,\n",
        "                            cv=StratifiedKFold(shuffle=True, random_state=42))\n",
        "pprint(scores)\n",
        "print(scores['test_score'].mean())"
      ],
      "metadata": {
        "colab": {
          "base_uri": "https://localhost:8080/"
        },
        "id": "Llw3PljWRUwE",
        "outputId": "d07dd661-435a-43a2-fd42-f69fd6aca3c0"
      },
      "execution_count": 5,
      "outputs": [
        {
          "output_type": "stream",
          "name": "stdout",
          "text": [
            "{'fit_time': array([1.16414738, 1.17463756, 1.17663145, 1.17357016, 1.18423486]),\n",
            " 'score_time': array([0.10451245, 0.09851456, 0.09213495, 0.08786464, 0.09606242]),\n",
            " 'test_score': array([0.69679785, 0.69829522, 0.69817215, 0.69653706, 0.69826681])}\n",
            "0.6976138188790728\n"
          ]
        }
      ]
    },
    {
      "cell_type": "code",
      "source": [
        "from sklearn.feature_selection import SelectPercentile, f_classif\n",
        "\n",
        "model = Pipeline([\n",
        "    ('selector', SelectPercentile()),\n",
        "    ('scaler', StandardScaler()),\n",
        "    ('classifier', RidgeClassifier())\n",
        "])\n",
        "scores = cross_validate(model, X, y,\n",
        "                            cv=StratifiedKFold(shuffle=True, random_state=42))\n",
        "pprint(scores)\n",
        "print(scores['test_score'].mean())"
      ],
      "metadata": {
        "colab": {
          "base_uri": "https://localhost:8080/"
        },
        "id": "Mi2AAsJBR0i0",
        "outputId": "41c0ffa0-0d83-470a-b195-498a87616997"
      },
      "execution_count": 7,
      "outputs": [
        {
          "output_type": "stream",
          "name": "stdout",
          "text": [
            "{'fit_time': array([0.83469987, 0.88676047, 0.74428105, 0.69286656, 0.69693184]),\n",
            " 'score_time': array([0.04282212, 0.05588984, 0.03419733, 0.03467822, 0.04114342]),\n",
            " 'test_score': array([0.66816691, 0.66902748, 0.6694377 , 0.66600403, 0.66816406])}\n",
            "0.6681600364978355\n"
          ]
        }
      ]
    },
    {
      "cell_type": "code",
      "source": [
        "from sklearn.feature_selection import SequentialFeatureSelector\n",
        "\n",
        "### ERRADO ####\n",
        "selector = SequentialFeatureSelector(RidgeClassifier(), n_features_to_select=2)\n",
        "X_small = selector.fit_transform(X, y)\n",
        "\n",
        "model = Pipeline([\n",
        "    ('scaler', StandardScaler()),\n",
        "    ('classifier', RidgeClassifier())\n",
        "])\n",
        "scores = cross_validate(model, X_small, y,\n",
        "                            cv=StratifiedKFold(shuffle=True, random_state=42))\n",
        "pprint(scores)\n",
        "print(scores['test_score'].mean())"
      ],
      "metadata": {
        "colab": {
          "base_uri": "https://localhost:8080/"
        },
        "id": "8c5QgDIGTGQd",
        "outputId": "c9da470e-599a-4c16-fc3c-f44465493bc4"
      },
      "execution_count": 8,
      "outputs": [
        {
          "output_type": "stream",
          "name": "stdout",
          "text": [
            "{'fit_time': array([0.30939436, 0.33892465, 0.34374428, 0.33378887, 0.31229401]),\n",
            " 'score_time': array([0.01870084, 0.0411222 , 0.02180052, 0.02373195, 0.01689219]),\n",
            " 'test_score': array([0.66336497, 0.66453534, 0.66547908, 0.66289737, 0.66378376])}\n",
            "0.6640121032334858\n"
          ]
        }
      ]
    },
    {
      "cell_type": "markdown",
      "source": [
        "mas do jeito certo demora muito!"
      ],
      "metadata": {
        "id": "mcFmpL3XaQWg"
      }
    },
    {
      "cell_type": "code",
      "source": [
        "from sklearn.feature_selection import SequentialFeatureSelector\n",
        "\n",
        "model = Pipeline([\n",
        "    ('selector', SequentialFeatureSelector(RidgeClassifier(), n_features_to_select=10)),\n",
        "    ('scaler', StandardScaler()),\n",
        "    ('classifier', RidgeClassifier())\n",
        "])\n",
        "\n",
        "scores = cross_validate(model, X, y,\n",
        "                            cv=StratifiedKFold(shuffle=True, random_state=42))\n",
        "pprint(scores)\n",
        "print(scores['test_score'].mean())"
      ],
      "metadata": {
        "id": "ec8wVZHrSkpj"
      },
      "execution_count": null,
      "outputs": []
    }
  ]
}
{
  "nbformat": 4,
  "nbformat_minor": 0,
  "metadata": {
    "colab": {
      "provenance": [],
      "authorship_tag": "ABX9TyNHML3S4Z822gMJCo9l2q5t",
      "include_colab_link": true
    },
    "kernelspec": {
      "name": "python3",
      "display_name": "Python 3"
    },
    "language_info": {
      "name": "python"
    }
  },
  "cells": [
    {
      "cell_type": "markdown",
      "metadata": {
        "id": "view-in-github",
        "colab_type": "text"
      },
      "source": [
        "<a href=\"https://colab.research.google.com/github/fboldt/aulasml/blob/master/aula6a_gridsearch.ipynb\" target=\"_parent\"><img src=\"https://colab.research.google.com/assets/colab-badge.svg\" alt=\"Open In Colab\"/></a>"
      ]
    },
    {
      "cell_type": "code",
      "execution_count": 1,
      "metadata": {
        "colab": {
          "base_uri": "https://localhost:8080/"
        },
        "id": "Enj-ztekMM_c",
        "outputId": "437c51d5-7d08-437d-80cb-dbbaf3f7d89e"
      },
      "outputs": [
        {
          "output_type": "stream",
          "name": "stdout",
          "text": [
            "(20640, 8)\n",
            "(20640,)\n"
          ]
        }
      ],
      "source": [
        "from sklearn.datasets import fetch_california_housing\n",
        "X, y = fetch_california_housing(return_X_y=True)\n",
        "print(X.shape)\n",
        "print(y.shape)"
      ]
    },
    {
      "cell_type": "code",
      "source": [
        "from sklearn.model_selection import train_test_split\n",
        "Xtr, Xte, ytr, yte = train_test_split(X, y, random_state=42)\n",
        "Xtr.shape, Xte.shape, ytr.shape, yte.shape"
      ],
      "metadata": {
        "colab": {
          "base_uri": "https://localhost:8080/"
        },
        "id": "U9C7yL2_SeXA",
        "outputId": "77ff3a49-a538-436e-d2ee-8f7789fc1364"
      },
      "execution_count": 6,
      "outputs": [
        {
          "output_type": "execute_result",
          "data": {
            "text/plain": [
              "((15480, 8), (5160, 8), (15480,), (5160,))"
            ]
          },
          "metadata": {},
          "execution_count": 6
        }
      ]
    },
    {
      "cell_type": "code",
      "source": [
        "from sklearn.metrics import mean_squared_error, make_scorer\n",
        "from sklearn.model_selection import cross_validate, RepeatedKFold\n",
        "from sklearn.neighbors import KNeighborsRegressor\n",
        "import numpy as np\n",
        "\n",
        "modeloKnn = KNeighborsRegressor()\n",
        "scores = cross_validate(modeloKnn, Xtr, ytr, cv=RepeatedKFold(random_state=42),\n",
        "                        scoring=make_scorer(mean_squared_error,\n",
        "                                            greater_is_better=False))\n",
        "np.mean(scores['test_score']) #, scores['test_score']"
      ],
      "metadata": {
        "colab": {
          "base_uri": "https://localhost:8080/"
        },
        "id": "TM2xwCwxTB_f",
        "outputId": "e92a8129-5f7f-4024-a3a5-ba576033a03f"
      },
      "execution_count": 11,
      "outputs": [
        {
          "output_type": "execute_result",
          "data": {
            "text/plain": [
              "-1.1769315482657852"
            ]
          },
          "metadata": {},
          "execution_count": 11
        }
      ]
    },
    {
      "cell_type": "code",
      "source": [
        "from sklearn.model_selection import GridSearchCV\n",
        "\n",
        "param = {'n_neighbors': [1, 7, 15]}\n",
        "\n",
        "modeloGS15 = GridSearchCV(KNeighborsRegressor(), param, verbose=3,\n",
        "                        scoring=make_scorer(mean_squared_error,\n",
        "                                            greater_is_better=False))\n",
        "modeloGS15.fit(Xtr, ytr)\n",
        "modeloGS15.best_params_, modeloGS15.best_score_"
      ],
      "metadata": {
        "colab": {
          "base_uri": "https://localhost:8080/"
        },
        "id": "ExIkZscbVmoI",
        "outputId": "a6dcd039-5bbe-43e5-ad1e-a53fd3aba97e"
      },
      "execution_count": 18,
      "outputs": [
        {
          "output_type": "stream",
          "name": "stdout",
          "text": [
            "Fitting 5 folds for each of 3 candidates, totalling 15 fits\n",
            "[CV 1/5] END ....................n_neighbors=1;, score=-1.629 total time=   0.0s\n",
            "[CV 2/5] END ....................n_neighbors=1;, score=-1.581 total time=   0.0s\n",
            "[CV 3/5] END ....................n_neighbors=1;, score=-1.663 total time=   0.0s\n",
            "[CV 4/5] END ....................n_neighbors=1;, score=-1.641 total time=   0.0s\n",
            "[CV 5/5] END ....................n_neighbors=1;, score=-1.747 total time=   0.0s\n",
            "[CV 1/5] END ....................n_neighbors=7;, score=-1.177 total time=   0.0s\n",
            "[CV 2/5] END ....................n_neighbors=7;, score=-1.106 total time=   0.0s\n",
            "[CV 3/5] END ....................n_neighbors=7;, score=-1.193 total time=   0.0s\n",
            "[CV 4/5] END ....................n_neighbors=7;, score=-1.129 total time=   0.0s\n",
            "[CV 5/5] END ....................n_neighbors=7;, score=-1.184 total time=   0.0s\n",
            "[CV 1/5] END ...................n_neighbors=15;, score=-1.205 total time=   0.0s\n",
            "[CV 2/5] END ...................n_neighbors=15;, score=-1.122 total time=   0.0s\n",
            "[CV 3/5] END ...................n_neighbors=15;, score=-1.205 total time=   0.0s\n",
            "[CV 4/5] END ...................n_neighbors=15;, score=-1.149 total time=   0.0s\n",
            "[CV 5/5] END ...................n_neighbors=15;, score=-1.194 total time=   0.0s\n"
          ]
        },
        {
          "output_type": "execute_result",
          "data": {
            "text/plain": [
              "({'n_neighbors': 7}, -1.157725048976956)"
            ]
          },
          "metadata": {},
          "execution_count": 18
        }
      ]
    },
    {
      "cell_type": "code",
      "source": [
        "modeloGS15.cv_results_"
      ],
      "metadata": {
        "colab": {
          "base_uri": "https://localhost:8080/"
        },
        "id": "hU1yF5pDX1l8",
        "outputId": "35b4153f-ee99-4a14-b60a-389ec3edb13f"
      },
      "execution_count": 19,
      "outputs": [
        {
          "output_type": "execute_result",
          "data": {
            "text/plain": [
              "{'mean_fit_time': array([0.01206031, 0.0126163 , 0.01327839]),\n",
              " 'std_fit_time': array([0.00089938, 0.00109487, 0.00189514]),\n",
              " 'mean_score_time': array([0.01112766, 0.01520071, 0.02003636]),\n",
              " 'std_score_time': array([0.00047129, 0.00037486, 0.00071626]),\n",
              " 'param_n_neighbors': masked_array(data=[1, 7, 15],\n",
              "              mask=[False, False, False],\n",
              "        fill_value=999999),\n",
              " 'params': [{'n_neighbors': 1}, {'n_neighbors': 7}, {'n_neighbors': 15}],\n",
              " 'split0_test_score': array([-1.62906669, -1.17686686, -1.20473666]),\n",
              " 'split1_test_score': array([-1.58073762, -1.10643004, -1.12155902]),\n",
              " 'split2_test_score': array([-1.66312837, -1.19311375, -1.20469472]),\n",
              " 'split3_test_score': array([-1.64065279, -1.12860307, -1.14912536]),\n",
              " 'split4_test_score': array([-1.74667338, -1.18361152, -1.19391883]),\n",
              " 'mean_test_score': array([-1.65205177, -1.15772505, -1.17480692]),\n",
              " 'std_test_score': array([0.05444245, 0.03396512, 0.03361314]),\n",
              " 'rank_test_score': array([3, 1, 2], dtype=int32)}"
            ]
          },
          "metadata": {},
          "execution_count": 19
        }
      ]
    },
    {
      "cell_type": "code",
      "source": [
        "modeloGS150 = GridSearchCV(KNeighborsRegressor(), param, verbose=3,\n",
        "                          cv=RepeatedKFold(random_state=42),\n",
        "                        scoring=make_scorer(mean_squared_error,\n",
        "                                            greater_is_better=False))\n",
        "modeloGS150.fit(Xtr, ytr)\n",
        "modeloGS150.best_params_, modeloGS150.best_score_"
      ],
      "metadata": {
        "colab": {
          "base_uri": "https://localhost:8080/"
        },
        "id": "eTkOTnwoYJDi",
        "outputId": "75d9d2b2-4f0e-428a-d035-08e5aa715336"
      },
      "execution_count": 20,
      "outputs": [
        {
          "output_type": "stream",
          "name": "stdout",
          "text": [
            "Fitting 50 folds for each of 3 candidates, totalling 150 fits\n",
            "[CV 1/50] END ...................n_neighbors=1;, score=-1.664 total time=   0.2s\n",
            "[CV 2/50] END ...................n_neighbors=1;, score=-1.643 total time=   0.1s\n",
            "[CV 3/50] END ...................n_neighbors=1;, score=-1.679 total time=   0.1s\n",
            "[CV 4/50] END ...................n_neighbors=1;, score=-1.622 total time=   0.0s\n",
            "[CV 5/50] END ...................n_neighbors=1;, score=-1.685 total time=   0.0s\n",
            "[CV 6/50] END ...................n_neighbors=1;, score=-1.584 total time=   0.0s\n",
            "[CV 7/50] END ...................n_neighbors=1;, score=-1.654 total time=   0.0s\n",
            "[CV 8/50] END ...................n_neighbors=1;, score=-1.662 total time=   0.0s\n",
            "[CV 9/50] END ...................n_neighbors=1;, score=-1.651 total time=   0.0s\n",
            "[CV 10/50] END ..................n_neighbors=1;, score=-1.676 total time=   0.0s\n",
            "[CV 11/50] END ..................n_neighbors=1;, score=-1.681 total time=   0.0s\n",
            "[CV 12/50] END ..................n_neighbors=1;, score=-1.621 total time=   0.0s\n",
            "[CV 13/50] END ..................n_neighbors=1;, score=-1.604 total time=   0.0s\n",
            "[CV 14/50] END ..................n_neighbors=1;, score=-1.636 total time=   0.0s\n",
            "[CV 15/50] END ..................n_neighbors=1;, score=-1.678 total time=   0.0s\n",
            "[CV 16/50] END ..................n_neighbors=1;, score=-1.716 total time=   0.0s\n",
            "[CV 17/50] END ..................n_neighbors=1;, score=-1.700 total time=   0.0s\n",
            "[CV 18/50] END ..................n_neighbors=1;, score=-1.620 total time=   0.0s\n",
            "[CV 19/50] END ..................n_neighbors=1;, score=-1.600 total time=   0.0s\n",
            "[CV 20/50] END ..................n_neighbors=1;, score=-1.622 total time=   0.0s\n",
            "[CV 21/50] END ..................n_neighbors=1;, score=-1.661 total time=   0.0s\n",
            "[CV 22/50] END ..................n_neighbors=1;, score=-1.640 total time=   0.0s\n",
            "[CV 23/50] END ..................n_neighbors=1;, score=-1.641 total time=   0.0s\n",
            "[CV 24/50] END ..................n_neighbors=1;, score=-1.656 total time=   0.0s\n",
            "[CV 25/50] END ..................n_neighbors=1;, score=-1.614 total time=   0.0s\n",
            "[CV 26/50] END ..................n_neighbors=1;, score=-1.624 total time=   0.0s\n",
            "[CV 27/50] END ..................n_neighbors=1;, score=-1.640 total time=   0.0s\n",
            "[CV 28/50] END ..................n_neighbors=1;, score=-1.727 total time=   0.0s\n",
            "[CV 29/50] END ..................n_neighbors=1;, score=-1.575 total time=   0.0s\n",
            "[CV 30/50] END ..................n_neighbors=1;, score=-1.634 total time=   0.0s\n",
            "[CV 31/50] END ..................n_neighbors=1;, score=-1.723 total time=   0.0s\n",
            "[CV 32/50] END ..................n_neighbors=1;, score=-1.656 total time=   0.0s\n",
            "[CV 33/50] END ..................n_neighbors=1;, score=-1.668 total time=   0.0s\n",
            "[CV 34/50] END ..................n_neighbors=1;, score=-1.547 total time=   0.0s\n",
            "[CV 35/50] END ..................n_neighbors=1;, score=-1.619 total time=   0.0s\n",
            "[CV 36/50] END ..................n_neighbors=1;, score=-1.612 total time=   0.0s\n",
            "[CV 37/50] END ..................n_neighbors=1;, score=-1.684 total time=   0.0s\n",
            "[CV 38/50] END ..................n_neighbors=1;, score=-1.611 total time=   0.0s\n",
            "[CV 39/50] END ..................n_neighbors=1;, score=-1.615 total time=   0.0s\n",
            "[CV 40/50] END ..................n_neighbors=1;, score=-1.665 total time=   0.0s\n",
            "[CV 41/50] END ..................n_neighbors=1;, score=-1.666 total time=   0.0s\n",
            "[CV 42/50] END ..................n_neighbors=1;, score=-1.674 total time=   0.0s\n",
            "[CV 43/50] END ..................n_neighbors=1;, score=-1.604 total time=   0.0s\n",
            "[CV 44/50] END ..................n_neighbors=1;, score=-1.691 total time=   0.0s\n",
            "[CV 45/50] END ..................n_neighbors=1;, score=-1.595 total time=   0.0s\n",
            "[CV 46/50] END ..................n_neighbors=1;, score=-1.644 total time=   0.0s\n",
            "[CV 47/50] END ..................n_neighbors=1;, score=-1.648 total time=   0.0s\n",
            "[CV 48/50] END ..................n_neighbors=1;, score=-1.656 total time=   0.0s\n",
            "[CV 49/50] END ..................n_neighbors=1;, score=-1.561 total time=   0.0s\n",
            "[CV 50/50] END ..................n_neighbors=1;, score=-1.659 total time=   0.0s\n",
            "[CV 1/50] END ...................n_neighbors=7;, score=-1.149 total time=   0.0s\n",
            "[CV 2/50] END ...................n_neighbors=7;, score=-1.159 total time=   0.0s\n",
            "[CV 3/50] END ...................n_neighbors=7;, score=-1.207 total time=   0.0s\n",
            "[CV 4/50] END ...................n_neighbors=7;, score=-1.142 total time=   0.0s\n",
            "[CV 5/50] END ...................n_neighbors=7;, score=-1.176 total time=   0.0s\n",
            "[CV 6/50] END ...................n_neighbors=7;, score=-1.136 total time=   0.0s\n",
            "[CV 7/50] END ...................n_neighbors=7;, score=-1.170 total time=   0.0s\n",
            "[CV 8/50] END ...................n_neighbors=7;, score=-1.187 total time=   0.0s\n",
            "[CV 9/50] END ...................n_neighbors=7;, score=-1.204 total time=   0.0s\n",
            "[CV 10/50] END ..................n_neighbors=7;, score=-1.126 total time=   0.0s\n",
            "[CV 11/50] END ..................n_neighbors=7;, score=-1.153 total time=   0.0s\n",
            "[CV 12/50] END ..................n_neighbors=7;, score=-1.143 total time=   0.0s\n",
            "[CV 13/50] END ..................n_neighbors=7;, score=-1.210 total time=   0.0s\n",
            "[CV 14/50] END ..................n_neighbors=7;, score=-1.117 total time=   0.0s\n",
            "[CV 15/50] END ..................n_neighbors=7;, score=-1.192 total time=   0.0s\n",
            "[CV 16/50] END ..................n_neighbors=7;, score=-1.192 total time=   0.0s\n",
            "[CV 17/50] END ..................n_neighbors=7;, score=-1.166 total time=   0.0s\n",
            "[CV 18/50] END ..................n_neighbors=7;, score=-1.156 total time=   0.0s\n",
            "[CV 19/50] END ..................n_neighbors=7;, score=-1.147 total time=   0.0s\n",
            "[CV 20/50] END ..................n_neighbors=7;, score=-1.191 total time=   0.0s\n",
            "[CV 21/50] END ..................n_neighbors=7;, score=-1.183 total time=   0.0s\n",
            "[CV 22/50] END ..................n_neighbors=7;, score=-1.134 total time=   0.0s\n",
            "[CV 23/50] END ..................n_neighbors=7;, score=-1.166 total time=   0.0s\n",
            "[CV 24/50] END ..................n_neighbors=7;, score=-1.172 total time=   0.0s\n",
            "[CV 25/50] END ..................n_neighbors=7;, score=-1.126 total time=   0.0s\n",
            "[CV 26/50] END ..................n_neighbors=7;, score=-1.151 total time=   0.0s\n",
            "[CV 27/50] END ..................n_neighbors=7;, score=-1.122 total time=   0.0s\n",
            "[CV 28/50] END ..................n_neighbors=7;, score=-1.240 total time=   0.0s\n",
            "[CV 29/50] END ..................n_neighbors=7;, score=-1.116 total time=   0.0s\n",
            "[CV 30/50] END ..................n_neighbors=7;, score=-1.185 total time=   0.0s\n",
            "[CV 31/50] END ..................n_neighbors=7;, score=-1.189 total time=   0.0s\n",
            "[CV 32/50] END ..................n_neighbors=7;, score=-1.159 total time=   0.0s\n",
            "[CV 33/50] END ..................n_neighbors=7;, score=-1.213 total time=   0.0s\n",
            "[CV 34/50] END ..................n_neighbors=7;, score=-1.080 total time=   0.0s\n",
            "[CV 35/50] END ..................n_neighbors=7;, score=-1.140 total time=   0.0s\n",
            "[CV 36/50] END ..................n_neighbors=7;, score=-1.142 total time=   0.0s\n",
            "[CV 37/50] END ..................n_neighbors=7;, score=-1.208 total time=   0.0s\n",
            "[CV 38/50] END ..................n_neighbors=7;, score=-1.153 total time=   0.0s\n",
            "[CV 39/50] END ..................n_neighbors=7;, score=-1.188 total time=   0.0s\n",
            "[CV 40/50] END ..................n_neighbors=7;, score=-1.132 total time=   0.0s\n",
            "[CV 41/50] END ..................n_neighbors=7;, score=-1.218 total time=   0.0s\n",
            "[CV 42/50] END ..................n_neighbors=7;, score=-1.198 total time=   0.0s\n",
            "[CV 43/50] END ..................n_neighbors=7;, score=-1.137 total time=   0.0s\n",
            "[CV 44/50] END ..................n_neighbors=7;, score=-1.164 total time=   0.0s\n",
            "[CV 45/50] END ..................n_neighbors=7;, score=-1.132 total time=   0.0s\n",
            "[CV 46/50] END ..................n_neighbors=7;, score=-1.125 total time=   0.0s\n",
            "[CV 47/50] END ..................n_neighbors=7;, score=-1.167 total time=   0.0s\n",
            "[CV 48/50] END ..................n_neighbors=7;, score=-1.153 total time=   0.0s\n",
            "[CV 49/50] END ..................n_neighbors=7;, score=-1.171 total time=   0.0s\n",
            "[CV 50/50] END ..................n_neighbors=7;, score=-1.177 total time=   0.0s\n",
            "[CV 1/50] END ..................n_neighbors=15;, score=-1.171 total time=   0.0s\n",
            "[CV 2/50] END ..................n_neighbors=15;, score=-1.153 total time=   0.0s\n",
            "[CV 3/50] END ..................n_neighbors=15;, score=-1.224 total time=   0.0s\n",
            "[CV 4/50] END ..................n_neighbors=15;, score=-1.160 total time=   0.0s\n",
            "[CV 5/50] END ..................n_neighbors=15;, score=-1.204 total time=   0.0s\n",
            "[CV 6/50] END ..................n_neighbors=15;, score=-1.130 total time=   0.0s\n",
            "[CV 7/50] END ..................n_neighbors=15;, score=-1.210 total time=   0.0s\n",
            "[CV 8/50] END ..................n_neighbors=15;, score=-1.188 total time=   0.0s\n",
            "[CV 9/50] END ..................n_neighbors=15;, score=-1.254 total time=   0.0s\n",
            "[CV 10/50] END .................n_neighbors=15;, score=-1.134 total time=   0.0s\n",
            "[CV 11/50] END .................n_neighbors=15;, score=-1.155 total time=   0.0s\n",
            "[CV 12/50] END .................n_neighbors=15;, score=-1.146 total time=   0.0s\n",
            "[CV 13/50] END .................n_neighbors=15;, score=-1.232 total time=   0.0s\n",
            "[CV 14/50] END .................n_neighbors=15;, score=-1.135 total time=   0.0s\n",
            "[CV 15/50] END .................n_neighbors=15;, score=-1.225 total time=   0.0s\n",
            "[CV 16/50] END .................n_neighbors=15;, score=-1.215 total time=   0.0s\n",
            "[CV 17/50] END .................n_neighbors=15;, score=-1.180 total time=   0.0s\n",
            "[CV 18/50] END .................n_neighbors=15;, score=-1.163 total time=   0.0s\n",
            "[CV 19/50] END .................n_neighbors=15;, score=-1.162 total time=   0.0s\n",
            "[CV 20/50] END .................n_neighbors=15;, score=-1.201 total time=   0.0s\n",
            "[CV 21/50] END .................n_neighbors=15;, score=-1.212 total time=   0.0s\n",
            "[CV 22/50] END .................n_neighbors=15;, score=-1.147 total time=   0.0s\n",
            "[CV 23/50] END .................n_neighbors=15;, score=-1.188 total time=   0.0s\n",
            "[CV 24/50] END .................n_neighbors=15;, score=-1.210 total time=   0.0s\n",
            "[CV 25/50] END .................n_neighbors=15;, score=-1.147 total time=   0.0s\n",
            "[CV 26/50] END .................n_neighbors=15;, score=-1.154 total time=   0.0s\n",
            "[CV 27/50] END .................n_neighbors=15;, score=-1.146 total time=   0.0s\n",
            "[CV 28/50] END .................n_neighbors=15;, score=-1.254 total time=   0.0s\n",
            "[CV 29/50] END .................n_neighbors=15;, score=-1.138 total time=   0.0s\n",
            "[CV 30/50] END .................n_neighbors=15;, score=-1.211 total time=   0.0s\n",
            "[CV 31/50] END .................n_neighbors=15;, score=-1.201 total time=   0.0s\n",
            "[CV 32/50] END .................n_neighbors=15;, score=-1.184 total time=   0.0s\n",
            "[CV 33/50] END .................n_neighbors=15;, score=-1.245 total time=   0.0s\n",
            "[CV 34/50] END .................n_neighbors=15;, score=-1.111 total time=   0.0s\n",
            "[CV 35/50] END .................n_neighbors=15;, score=-1.174 total time=   0.0s\n",
            "[CV 36/50] END .................n_neighbors=15;, score=-1.155 total time=   0.0s\n",
            "[CV 37/50] END .................n_neighbors=15;, score=-1.226 total time=   0.0s\n",
            "[CV 38/50] END .................n_neighbors=15;, score=-1.192 total time=   0.0s\n",
            "[CV 39/50] END .................n_neighbors=15;, score=-1.202 total time=   0.0s\n",
            "[CV 40/50] END .................n_neighbors=15;, score=-1.130 total time=   0.0s\n",
            "[CV 41/50] END .................n_neighbors=15;, score=-1.238 total time=   0.0s\n",
            "[CV 42/50] END .................n_neighbors=15;, score=-1.230 total time=   0.0s\n",
            "[CV 43/50] END .................n_neighbors=15;, score=-1.159 total time=   0.0s\n",
            "[CV 44/50] END .................n_neighbors=15;, score=-1.172 total time=   0.0s\n",
            "[CV 45/50] END .................n_neighbors=15;, score=-1.147 total time=   0.0s\n",
            "[CV 46/50] END .................n_neighbors=15;, score=-1.142 total time=   0.0s\n",
            "[CV 47/50] END .................n_neighbors=15;, score=-1.188 total time=   0.0s\n",
            "[CV 48/50] END .................n_neighbors=15;, score=-1.199 total time=   0.0s\n",
            "[CV 49/50] END .................n_neighbors=15;, score=-1.188 total time=   0.0s\n",
            "[CV 50/50] END .................n_neighbors=15;, score=-1.175 total time=   0.0s\n"
          ]
        },
        {
          "output_type": "execute_result",
          "data": {
            "text/plain": [
              "({'n_neighbors': 7}, -1.1632495612704894)"
            ]
          },
          "metadata": {},
          "execution_count": 20
        }
      ]
    },
    {
      "cell_type": "code",
      "source": [
        "param = {'n_neighbors': [1, 7, 15],\n",
        "         'metric': ['cosine', 'cityblock', 'euclidean']}\n",
        "\n",
        "modeloGS45 = GridSearchCV(KNeighborsRegressor(), param, verbose=3, cv=5,\n",
        "                        scoring=make_scorer(mean_squared_error,\n",
        "                                            greater_is_better=False))\n",
        "modeloGS45.fit(Xtr, ytr)\n",
        "modeloGS45.best_params_, modeloGS45.best_score_"
      ],
      "metadata": {
        "colab": {
          "base_uri": "https://localhost:8080/"
        },
        "id": "vu9BxR7TYi9R",
        "outputId": "5ea88d54-d57d-4b06-d12b-3a9975dacd37"
      },
      "execution_count": 21,
      "outputs": [
        {
          "output_type": "stream",
          "name": "stdout",
          "text": [
            "Fitting 5 folds for each of 9 candidates, totalling 45 fits\n",
            "[CV 1/5] END .....metric=cosine, n_neighbors=1;, score=-1.201 total time=   0.5s\n",
            "[CV 2/5] END .....metric=cosine, n_neighbors=1;, score=-1.155 total time=   0.5s\n",
            "[CV 3/5] END .....metric=cosine, n_neighbors=1;, score=-1.205 total time=   0.5s\n",
            "[CV 4/5] END .....metric=cosine, n_neighbors=1;, score=-1.123 total time=   0.5s\n",
            "[CV 5/5] END .....metric=cosine, n_neighbors=1;, score=-1.175 total time=   0.5s\n",
            "[CV 1/5] END .....metric=cosine, n_neighbors=7;, score=-0.791 total time=   0.9s\n",
            "[CV 2/5] END .....metric=cosine, n_neighbors=7;, score=-0.761 total time=   0.9s\n",
            "[CV 3/5] END .....metric=cosine, n_neighbors=7;, score=-0.857 total time=   0.9s\n",
            "[CV 4/5] END .....metric=cosine, n_neighbors=7;, score=-0.771 total time=   0.9s\n",
            "[CV 5/5] END .....metric=cosine, n_neighbors=7;, score=-0.811 total time=   0.7s\n",
            "[CV 1/5] END ....metric=cosine, n_neighbors=15;, score=-0.835 total time=   0.8s\n",
            "[CV 2/5] END ....metric=cosine, n_neighbors=15;, score=-0.789 total time=   0.7s\n",
            "[CV 3/5] END ....metric=cosine, n_neighbors=15;, score=-0.885 total time=   0.7s\n",
            "[CV 4/5] END ....metric=cosine, n_neighbors=15;, score=-0.798 total time=   0.7s\n",
            "[CV 5/5] END ....metric=cosine, n_neighbors=15;, score=-0.844 total time=   0.7s\n",
            "[CV 1/5] END ..metric=cityblock, n_neighbors=1;, score=-1.536 total time=   0.0s\n",
            "[CV 2/5] END ..metric=cityblock, n_neighbors=1;, score=-1.488 total time=   0.0s\n",
            "[CV 3/5] END ..metric=cityblock, n_neighbors=1;, score=-1.516 total time=   0.0s\n",
            "[CV 4/5] END ..metric=cityblock, n_neighbors=1;, score=-1.504 total time=   0.0s\n",
            "[CV 5/5] END ..metric=cityblock, n_neighbors=1;, score=-1.634 total time=   0.0s\n",
            "[CV 1/5] END ..metric=cityblock, n_neighbors=7;, score=-1.060 total time=   0.0s\n",
            "[CV 2/5] END ..metric=cityblock, n_neighbors=7;, score=-0.968 total time=   0.0s\n",
            "[CV 3/5] END ..metric=cityblock, n_neighbors=7;, score=-1.079 total time=   0.0s\n",
            "[CV 4/5] END ..metric=cityblock, n_neighbors=7;, score=-1.003 total time=   0.0s\n",
            "[CV 5/5] END ..metric=cityblock, n_neighbors=7;, score=-1.056 total time=   0.0s\n",
            "[CV 1/5] END .metric=cityblock, n_neighbors=15;, score=-1.073 total time=   0.0s\n",
            "[CV 2/5] END .metric=cityblock, n_neighbors=15;, score=-0.985 total time=   0.0s\n",
            "[CV 3/5] END .metric=cityblock, n_neighbors=15;, score=-1.076 total time=   0.0s\n",
            "[CV 4/5] END .metric=cityblock, n_neighbors=15;, score=-1.027 total time=   0.0s\n",
            "[CV 5/5] END .metric=cityblock, n_neighbors=15;, score=-1.070 total time=   0.0s\n",
            "[CV 1/5] END ..metric=euclidean, n_neighbors=1;, score=-1.629 total time=   0.0s\n",
            "[CV 2/5] END ..metric=euclidean, n_neighbors=1;, score=-1.581 total time=   0.0s\n",
            "[CV 3/5] END ..metric=euclidean, n_neighbors=1;, score=-1.663 total time=   0.0s\n",
            "[CV 4/5] END ..metric=euclidean, n_neighbors=1;, score=-1.641 total time=   0.0s\n",
            "[CV 5/5] END ..metric=euclidean, n_neighbors=1;, score=-1.747 total time=   0.0s\n",
            "[CV 1/5] END ..metric=euclidean, n_neighbors=7;, score=-1.177 total time=   0.0s\n",
            "[CV 2/5] END ..metric=euclidean, n_neighbors=7;, score=-1.106 total time=   0.0s\n",
            "[CV 3/5] END ..metric=euclidean, n_neighbors=7;, score=-1.193 total time=   0.0s\n",
            "[CV 4/5] END ..metric=euclidean, n_neighbors=7;, score=-1.129 total time=   0.0s\n",
            "[CV 5/5] END ..metric=euclidean, n_neighbors=7;, score=-1.184 total time=   0.0s\n",
            "[CV 1/5] END .metric=euclidean, n_neighbors=15;, score=-1.205 total time=   0.0s\n",
            "[CV 2/5] END .metric=euclidean, n_neighbors=15;, score=-1.122 total time=   0.0s\n",
            "[CV 3/5] END .metric=euclidean, n_neighbors=15;, score=-1.205 total time=   0.0s\n",
            "[CV 4/5] END .metric=euclidean, n_neighbors=15;, score=-1.149 total time=   0.0s\n",
            "[CV 5/5] END .metric=euclidean, n_neighbors=15;, score=-1.194 total time=   0.0s\n"
          ]
        },
        {
          "output_type": "execute_result",
          "data": {
            "text/plain": [
              "({'metric': 'cosine', 'n_neighbors': 7}, -0.7979977106272027)"
            ]
          },
          "metadata": {},
          "execution_count": 21
        }
      ]
    },
    {
      "cell_type": "code",
      "source": [
        "modelos = [\n",
        "    (\"modeloGS15\", modeloGS15),\n",
        "    (\"modeloGS150\", modeloGS150),\n",
        "    (\"modeloGS45\", modeloGS45)\n",
        "    ]\n",
        "\n",
        "for nome, modelo in modelos:\n",
        "  mse = mean_squared_error(modelo.predict(Xte), yte)\n",
        "  print(nome, mse)\n"
      ],
      "metadata": {
        "colab": {
          "base_uri": "https://localhost:8080/"
        },
        "id": "ujVx5kgJZYQI",
        "outputId": "c87445e4-645b-4581-9ecd-8f73e9696349"
      },
      "execution_count": 22,
      "outputs": [
        {
          "output_type": "stream",
          "name": "stdout",
          "text": [
            "modeloGS15 1.1185550426887638\n",
            "modeloGS150 1.1185550426887638\n",
            "modeloGS45 0.7450083756017327\n"
          ]
        }
      ]
    },
    {
      "cell_type": "code",
      "source": [
        "for nome, modelo in modelos:\n",
        "  modelo.verbose = 0\n",
        "  scores = cross_validate(modelo, X, y,\n",
        "                          scoring=make_scorer(mean_squared_error,\n",
        "                                              greater_is_better=False))\n",
        "  print(nome, np.mean(scores['test_score']))"
      ],
      "metadata": {
        "colab": {
          "base_uri": "https://localhost:8080/"
        },
        "id": "BElIGxS_bQkP",
        "outputId": "8c569b7a-cf63-4fb4-a26f-d3f766efd9db"
      },
      "execution_count": 23,
      "outputs": [
        {
          "output_type": "stream",
          "name": "stdout",
          "text": [
            "modeloGS15 -1.2340087401769488\n",
            "modeloGS150 -1.230186033171933\n",
            "modeloGS45 -0.8737280962690767\n"
          ]
        }
      ]
    },
    {
      "cell_type": "code",
      "source": [
        "from sklearn.preprocessing import StandardScaler\n",
        "from sklearn.pipeline import Pipeline\n",
        "\n",
        "pipe = Pipeline([\n",
        "    ('scaler', StandardScaler()),\n",
        "    ('clf', KNeighborsRegressor(n_neighbors=7))\n",
        "])\n",
        "\n",
        "scores = cross_validate(pipe, X, y,\n",
        "                        scoring=make_scorer(mean_squared_error,\n",
        "                                            greater_is_better=False))\n",
        "np.mean(scores['test_score'])"
      ],
      "metadata": {
        "colab": {
          "base_uri": "https://localhost:8080/"
        },
        "id": "DxjyQERRdGyl",
        "outputId": "4867f388-a73c-4562-de06-0de52dc016c2"
      },
      "execution_count": 29,
      "outputs": [
        {
          "output_type": "execute_result",
          "data": {
            "text/plain": [
              "-0.5794714514842296"
            ]
          },
          "metadata": {},
          "execution_count": 29
        }
      ]
    },
    {
      "cell_type": "code",
      "source": [
        "for nome, modelo in modelos:\n",
        "  modelo.verbose = 0\n",
        "  pipe = Pipeline([\n",
        "    ('scaler', StandardScaler()),\n",
        "    ('modelo', modelo)\n",
        "  ])\n",
        "  scores = cross_validate(pipe, X, y,\n",
        "                          scoring=make_scorer(mean_squared_error,\n",
        "                                              greater_is_better=False))\n",
        "  print(nome, np.mean(scores['test_score']))"
      ],
      "metadata": {
        "colab": {
          "base_uri": "https://localhost:8080/"
        },
        "id": "KIydv1gseFt8",
        "outputId": "e1fd9806-cdeb-4f6a-bace-305dfa0ee9f1"
      },
      "execution_count": 28,
      "outputs": [
        {
          "output_type": "stream",
          "name": "stdout",
          "text": [
            "modeloGS15 -0.5602334294995837\n",
            "modeloGS150 -0.5658099997863507\n",
            "modeloGS45 -0.5552164909398922\n"
          ]
        }
      ]
    },
    {
      "cell_type": "code",
      "source": [
        "pipe = Pipeline([\n",
        "    ('scaler', StandardScaler()),\n",
        "    ('clf', KNeighborsRegressor())\n",
        "])\n",
        "\n",
        "param = {'clf__n_neighbors': [1, 7, 15],\n",
        "         'clf__metric': ['cosine', 'cityblock', 'euclidean'],\n",
        "         'scaler__with_mean': [True, False]}\n",
        "\n",
        "modeloGS90 = GridSearchCV(pipe, param, cv=5, verbose=1,\n",
        "                        scoring=make_scorer(mean_squared_error,\n",
        "                                            greater_is_better=False))\n",
        "scores = cross_validate(modeloGS90, X, y, verbose=3, return_estimator=True,\n",
        "                        scoring=make_scorer(mean_squared_error,\n",
        "                                            greater_is_better=False))\n",
        "np.mean(scores['test_score'])"
      ],
      "metadata": {
        "colab": {
          "base_uri": "https://localhost:8080/"
        },
        "id": "myWanr24eoQI",
        "outputId": "c9a5a1c9-ffbe-439f-c554-69d66827efba"
      },
      "execution_count": 36,
      "outputs": [
        {
          "output_type": "stream",
          "name": "stdout",
          "text": [
            "Fitting 5 folds for each of 18 candidates, totalling 90 fits\n",
            "[CV] END ......................................, score=-0.517 total time=  44.6s\n",
            "Fitting 5 folds for each of 18 candidates, totalling 90 fits\n",
            "[CV] END ......................................, score=-0.536 total time=  46.2s\n",
            "Fitting 5 folds for each of 18 candidates, totalling 90 fits\n",
            "[CV] END ......................................, score=-0.589 total time=  43.0s\n",
            "Fitting 5 folds for each of 18 candidates, totalling 90 fits\n",
            "[CV] END ......................................, score=-0.565 total time=  42.2s\n",
            "Fitting 5 folds for each of 18 candidates, totalling 90 fits\n",
            "[CV] END ......................................, score=-0.568 total time=  41.6s\n"
          ]
        },
        {
          "output_type": "execute_result",
          "data": {
            "text/plain": [
              "-0.5552164909398922"
            ]
          },
          "metadata": {},
          "execution_count": 36
        }
      ]
    },
    {
      "cell_type": "code",
      "source": [
        "for modelo in scores['estimator']:\n",
        "  print(modelo.best_params_, modelo.best_score_)"
      ],
      "metadata": {
        "colab": {
          "base_uri": "https://localhost:8080/"
        },
        "id": "1mYsvP7binP0",
        "outputId": "e3c895b4-9d71-4e20-80cd-6f2d7585daff"
      },
      "execution_count": 37,
      "outputs": [
        {
          "output_type": "stream",
          "name": "stdout",
          "text": [
            "{'clf__metric': 'cityblock', 'clf__n_neighbors': 15, 'scaler__with_mean': True} -0.5380868189174538\n",
            "{'clf__metric': 'cosine', 'clf__n_neighbors': 15, 'scaler__with_mean': True} -0.5764514000528239\n",
            "{'clf__metric': 'cosine', 'clf__n_neighbors': 15, 'scaler__with_mean': True} -0.5924712389663743\n",
            "{'clf__metric': 'cityblock', 'clf__n_neighbors': 15, 'scaler__with_mean': True} -0.5017991991430303\n",
            "{'clf__metric': 'cityblock', 'clf__n_neighbors': 15, 'scaler__with_mean': True} -0.5189740649095438\n"
          ]
        }
      ]
    },
    {
      "cell_type": "code",
      "source": [
        "from sklearn.preprocessing import PolynomialFeatures\n",
        "from sklearn.linear_model import LinearRegression\n",
        "\n",
        "pipe = Pipeline([\n",
        "    ('scaler', StandardScaler()),\n",
        "    ('poly', PolynomialFeatures()),\n",
        "    ('clf', LinearRegression())\n",
        "])\n",
        "\n",
        "param = {'poly__degree': [1, 2, 3],\n",
        "         'clf__positive': [True, False]}\n",
        "\n",
        "modeloPoly = GridSearchCV(pipe, param, cv=5, verbose=1,\n",
        "                        scoring=make_scorer(mean_squared_error,\n",
        "                                            greater_is_better=False))\n",
        "scores = cross_validate(modeloPoly, X, y, return_estimator=True,\n",
        "                        scoring=make_scorer(mean_squared_error,\n",
        "                                            greater_is_better=False))\n",
        "np.mean(scores['test_score'])"
      ],
      "metadata": {
        "colab": {
          "base_uri": "https://localhost:8080/"
        },
        "id": "8ztwC5QtkN_p",
        "outputId": "9179b597-a666-494d-c244-c419b5fade7b"
      },
      "execution_count": 42,
      "outputs": [
        {
          "output_type": "stream",
          "name": "stdout",
          "text": [
            "Fitting 5 folds for each of 6 candidates, totalling 30 fits\n",
            "Fitting 5 folds for each of 6 candidates, totalling 30 fits\n",
            "Fitting 5 folds for each of 6 candidates, totalling 30 fits\n",
            "Fitting 5 folds for each of 6 candidates, totalling 30 fits\n",
            "Fitting 5 folds for each of 6 candidates, totalling 30 fits\n"
          ]
        },
        {
          "output_type": "execute_result",
          "data": {
            "text/plain": [
              "-0.5582901717686554"
            ]
          },
          "metadata": {},
          "execution_count": 42
        }
      ]
    },
    {
      "cell_type": "code",
      "source": [
        "for modelo in scores['estimator']:\n",
        "  print(modelo.best_params_, modelo.best_score_)"
      ],
      "metadata": {
        "colab": {
          "base_uri": "https://localhost:8080/"
        },
        "id": "mL5mpO7Mk7vN",
        "outputId": "86e7ab94-41a4-42c3-8476-9afb99181eef"
      },
      "execution_count": 43,
      "outputs": [
        {
          "output_type": "stream",
          "name": "stdout",
          "text": [
            "{'clf__positive': False, 'poly__degree': 1} -0.5847593560581984\n",
            "{'clf__positive': False, 'poly__degree': 1} -0.5552131176776777\n",
            "{'clf__positive': False, 'poly__degree': 1} -0.5571502116400604\n",
            "{'clf__positive': False, 'poly__degree': 1} -0.5618397318830617\n",
            "{'clf__positive': False, 'poly__degree': 1} -0.624427192591885\n"
          ]
        }
      ]
    },
    {
      "cell_type": "code",
      "source": [
        "from sklearn.svm import SVR\n",
        "\n",
        "pipe = Pipeline([\n",
        "    ('scaler', StandardScaler()),\n",
        "    ('clf', SVR())])\n",
        "\n",
        "scores = cross_validate(pipe, X, y, return_estimator=True, verbose=1,\n",
        "                        scoring=make_scorer(mean_squared_error,\n",
        "                                            greater_is_better=False))\n",
        "print(np.mean(scores['test_score']), np.mean(scores['fit_time']))"
      ],
      "metadata": {
        "colab": {
          "base_uri": "https://localhost:8080/"
        },
        "id": "Gaj4vEpjnHJA",
        "outputId": "c403fc78-a79f-4462-9ffd-32141b7a781e"
      },
      "execution_count": 59,
      "outputs": [
        {
          "output_type": "stream",
          "name": "stdout",
          "text": [
            "-0.41663446793477227 12.452293205261231\n"
          ]
        }
      ]
    },
    {
      "cell_type": "code",
      "source": [
        "from sklearn.model_selection import RandomizedSearchCV\n",
        "\n",
        "param = {'clf__C': [0.1, 1, 10],\n",
        "         'clf__kernel': ['poly', 'rbf', 'sigmoid', 'linear']}\n",
        "\n",
        "modeloSVR = RandomizedSearchCV(pipe, param, cv=3, verbose=1, n_iter=5,\n",
        "                        scoring=make_scorer(mean_squared_error,\n",
        "                                            greater_is_better=False))\n",
        "\n",
        "scores = cross_validate(modeloSVR, X, y, return_estimator=True, verbose=1,\n",
        "                        scoring=make_scorer(mean_squared_error,\n",
        "                                            greater_is_better=False))\n",
        "print(np.mean(scores['test_score']), np.mean(scores['fit_time']))\n",
        "for modelo in scores['estimator']:\n",
        "  print(modelo.best_params_, modelo.best_score_)"
      ],
      "metadata": {
        "colab": {
          "base_uri": "https://localhost:8080/"
        },
        "id": "1lWJhiKlpXQW",
        "outputId": "4d9f3821-6267-47c5-e623-cd9786e1142a"
      },
      "execution_count": null,
      "outputs": [
        {
          "output_type": "stream",
          "name": "stdout",
          "text": [
            "Fitting 3 folds for each of 5 candidates, totalling 15 fits\n"
          ]
        }
      ]
    },
    {
      "cell_type": "code",
      "source": [
        "from sklearn.ensemble import RandomForestRegressor\n",
        "from sklearn.experimental import enable_halving_search_cv  # noqa\n",
        "from sklearn.model_selection import HalvingGridSearchCV\n",
        "\n",
        "clf = RandomForestRegressor(random_state=0)\n",
        "\n",
        "param_grid = {\"max_depth\": [3, None],\n",
        "              \"min_samples_split\": [5, 10]}\n",
        "\n",
        "modeloHGS = HalvingGridSearchCV(clf, param_grid, resource='n_estimators',\n",
        "                             max_resources=10, random_state=0)\n",
        "modeloHGS.fit(Xtr, ytr)\n",
        "modeloHGS.best_params_, modeloHGS.best_score_"
      ],
      "metadata": {
        "colab": {
          "base_uri": "https://localhost:8080/"
        },
        "id": "fIzu0pyXqZS7",
        "outputId": "43759ce4-65ae-40a6-a04b-26869a9b02fd"
      },
      "execution_count": 57,
      "outputs": [
        {
          "output_type": "execute_result",
          "data": {
            "text/plain": [
              "({'max_depth': None, 'min_samples_split': 10, 'n_estimators': 9},\n",
              " 0.7772668333341842)"
            ]
          },
          "metadata": {},
          "execution_count": 57
        }
      ]
    },
    {
      "cell_type": "code",
      "source": [
        "scores = cross_validate(modeloHGS, X, y, return_estimator=True, verbose=1,\n",
        "                        scoring=make_scorer(mean_squared_error,\n",
        "                                            greater_is_better=False))\n",
        "for modelo in scores['estimator']:\n",
        "  print(modelo.best_params_, modelo.best_score_)"
      ],
      "metadata": {
        "colab": {
          "base_uri": "https://localhost:8080/"
        },
        "id": "kHgT6yzLry1D",
        "outputId": "f1770d66-ccb6-4610-e8db-834cdc91c4bd"
      },
      "execution_count": 54,
      "outputs": [
        {
          "output_type": "stream",
          "name": "stdout",
          "text": [
            "{'max_depth': None, 'min_samples_split': 10, 'n_estimators': 9} 0.6116937346348644\n",
            "{'max_depth': None, 'min_samples_split': 10, 'n_estimators': 9} 0.5374938805889767\n",
            "{'max_depth': None, 'min_samples_split': 10, 'n_estimators': 9} 0.5032901881119891\n",
            "{'max_depth': None, 'min_samples_split': 10, 'n_estimators': 9} 0.6116993697537102\n",
            "{'max_depth': None, 'min_samples_split': 10, 'n_estimators': 9} 0.6085053490302922\n"
          ]
        }
      ]
    },
    {
      "cell_type": "code",
      "source": [
        "print(np.mean(scores['test_score']), scores['test_score'])"
      ],
      "metadata": {
        "colab": {
          "base_uri": "https://localhost:8080/"
        },
        "id": "MtV6H9H9sjS3",
        "outputId": "fbd48884-bafc-456e-9721-61f22559c183"
      },
      "execution_count": 56,
      "outputs": [
        {
          "output_type": "stream",
          "name": "stdout",
          "text": [
            "-0.46251951969387745 [-0.52639681 -0.37042382 -0.40471788 -0.52122319 -0.4898359 ]\n"
          ]
        }
      ]
    }
  ]
}
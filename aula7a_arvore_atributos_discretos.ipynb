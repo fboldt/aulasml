{
  "nbformat": 4,
  "nbformat_minor": 0,
  "metadata": {
    "colab": {
      "provenance": [],
      "authorship_tag": "ABX9TyOjf3lxBskYJD3QHJu5aVwe",
      "include_colab_link": true
    },
    "kernelspec": {
      "name": "python3",
      "display_name": "Python 3"
    },
    "language_info": {
      "name": "python"
    }
  },
  "cells": [
    {
      "cell_type": "markdown",
      "metadata": {
        "id": "view-in-github",
        "colab_type": "text"
      },
      "source": [
        "<a href=\"https://colab.research.google.com/github/fboldt/aulasml/blob/master/aula7a_arvore_atributos_discretos.ipynb\" target=\"_parent\"><img src=\"https://colab.research.google.com/assets/colab-badge.svg\" alt=\"Open In Colab\"/></a>"
      ]
    },
    {
      "cell_type": "code",
      "execution_count": 22,
      "metadata": {
        "colab": {
          "base_uri": "https://localhost:8080/"
        },
        "id": "rObPoINWTeVU",
        "outputId": "f4d4b2e8-9116-4009-c360-cb67644b4372"
      },
      "outputs": [
        {
          "output_type": "stream",
          "name": "stdout",
          "text": [
            "Requirement already satisfied: ucimlrepo in /usr/local/lib/python3.10/dist-packages (0.0.7)\n",
            "Requirement already satisfied: pandas>=1.0.0 in /usr/local/lib/python3.10/dist-packages (from ucimlrepo) (2.2.2)\n",
            "Requirement already satisfied: certifi>=2020.12.5 in /usr/local/lib/python3.10/dist-packages (from ucimlrepo) (2024.8.30)\n",
            "Requirement already satisfied: numpy>=1.22.4 in /usr/local/lib/python3.10/dist-packages (from pandas>=1.0.0->ucimlrepo) (1.26.4)\n",
            "Requirement already satisfied: python-dateutil>=2.8.2 in /usr/local/lib/python3.10/dist-packages (from pandas>=1.0.0->ucimlrepo) (2.8.2)\n",
            "Requirement already satisfied: pytz>=2020.1 in /usr/local/lib/python3.10/dist-packages (from pandas>=1.0.0->ucimlrepo) (2024.2)\n",
            "Requirement already satisfied: tzdata>=2022.7 in /usr/local/lib/python3.10/dist-packages (from pandas>=1.0.0->ucimlrepo) (2024.2)\n",
            "Requirement already satisfied: six>=1.5 in /usr/local/lib/python3.10/dist-packages (from python-dateutil>=2.8.2->pandas>=1.0.0->ucimlrepo) (1.16.0)\n"
          ]
        }
      ],
      "source": [
        "!pip install ucimlrepo"
      ]
    },
    {
      "cell_type": "code",
      "source": [
        "from ucimlrepo import fetch_ucirepo\n",
        "\n",
        "car_evaluation = fetch_ucirepo(id=19)\n",
        "\n",
        "X = car_evaluation.data.features.to_numpy()\n",
        "y = car_evaluation.data.targets.to_numpy()[:,0]\n",
        "\n",
        "print(car_evaluation.variables)"
      ],
      "metadata": {
        "colab": {
          "base_uri": "https://localhost:8080/"
        },
        "id": "BOyZa01mUPP0",
        "outputId": "a20b9495-4da3-4ad3-b496-de85b83f0d6a"
      },
      "execution_count": 23,
      "outputs": [
        {
          "output_type": "stream",
          "name": "stdout",
          "text": [
            "       name     role         type demographic  \\\n",
            "0    buying  Feature  Categorical        None   \n",
            "1     maint  Feature  Categorical        None   \n",
            "2     doors  Feature  Categorical        None   \n",
            "3   persons  Feature  Categorical        None   \n",
            "4  lug_boot  Feature  Categorical        None   \n",
            "5    safety  Feature  Categorical        None   \n",
            "6     class   Target  Categorical        None   \n",
            "\n",
            "                                         description units missing_values  \n",
            "0                                       buying price  None             no  \n",
            "1                           price of the maintenance  None             no  \n",
            "2                                    number of doors  None             no  \n",
            "3              capacity in terms of persons to carry  None             no  \n",
            "4                           the size of luggage boot  None             no  \n",
            "5                        estimated safety of the car  None             no  \n",
            "6  evaulation level (unacceptable, acceptable, go...  None             no  \n"
          ]
        }
      ]
    },
    {
      "cell_type": "code",
      "source": [
        "set(y), len(y)"
      ],
      "metadata": {
        "colab": {
          "base_uri": "https://localhost:8080/"
        },
        "id": "Qubu_O8ZU8Mn",
        "outputId": "9c05de5a-6568-4fc7-f551-e67b430ed817"
      },
      "execution_count": 24,
      "outputs": [
        {
          "output_type": "execute_result",
          "data": {
            "text/plain": [
              "({'acc', 'good', 'unacc', 'vgood'}, 1728)"
            ]
          },
          "metadata": {},
          "execution_count": 24
        }
      ]
    },
    {
      "cell_type": "code",
      "source": [
        "combinacoes = 1\n",
        "for i in range(X.shape[1]):\n",
        "  valores = set(X[:,i])\n",
        "  combinacoes *= len(valores)\n",
        "  print(f\"{i}: {valores}\")\n",
        "print(combinacoes)"
      ],
      "metadata": {
        "colab": {
          "base_uri": "https://localhost:8080/"
        },
        "id": "ECaH0xDJVGaI",
        "outputId": "2c9e94eb-83ca-4db4-e34e-87f3312640a2"
      },
      "execution_count": 25,
      "outputs": [
        {
          "output_type": "stream",
          "name": "stdout",
          "text": [
            "0: {'low', 'vhigh', 'high', 'med'}\n",
            "1: {'low', 'vhigh', 'high', 'med'}\n",
            "2: {'2', '4', '3', '5more'}\n",
            "3: {'2', '4', 'more'}\n",
            "4: {'small', 'big', 'med'}\n",
            "5: {'low', 'high', 'med'}\n",
            "1728\n"
          ]
        }
      ]
    },
    {
      "cell_type": "code",
      "source": [
        "from sklearn.base import BaseEstimator, ClassifierMixin\n",
        "from sklearn.metrics import accuracy_score\n",
        "from collections import Counter\n",
        "import numpy as np\n",
        "\n",
        "def maisFrequente(y):\n",
        "  counter = Counter(y)\n",
        "  maisFreq = counter.most_common(1)[0][0]\n",
        "  return maisFreq\n",
        "\n",
        "class ZeroR(BaseEstimator, ClassifierMixin):\n",
        "  def fit(self, X, y):\n",
        "    self.resposta = maisFrequente(y)\n",
        "    return self\n",
        "\n",
        "  def predict(self, X):\n",
        "    y = np.empty(X.shape[0], dtype='<U5')\n",
        "    y.fill(self.resposta)\n",
        "    return y\n",
        "\n",
        "modelo = ZeroR()\n",
        "modelo.fit(X, y)\n",
        "modelo.predict(X)\n",
        "accuracy_score(y, modelo.predict(X))"
      ],
      "metadata": {
        "colab": {
          "base_uri": "https://localhost:8080/"
        },
        "id": "D1yIIxvIYIkO",
        "outputId": "8a8c7c4c-c790-4c63-f521-7671587b75c3"
      },
      "execution_count": 26,
      "outputs": [
        {
          "output_type": "execute_result",
          "data": {
            "text/plain": [
              "0.7002314814814815"
            ]
          },
          "metadata": {},
          "execution_count": 26
        }
      ]
    },
    {
      "cell_type": "code",
      "source": [
        "maisFrequente(y)"
      ],
      "metadata": {
        "colab": {
          "base_uri": "https://localhost:8080/",
          "height": 36
        },
        "id": "we_IehInZ1EH",
        "outputId": "ec8afc42-20ee-49ed-c392-47088bb0bed5"
      },
      "execution_count": 27,
      "outputs": [
        {
          "output_type": "execute_result",
          "data": {
            "text/plain": [
              "'unacc'"
            ],
            "application/vnd.google.colaboratory.intrinsic+json": {
              "type": "string"
            }
          },
          "metadata": {},
          "execution_count": 27
        }
      ]
    },
    {
      "cell_type": "code",
      "source": [
        "sum(y=='unacc')/len(y)"
      ],
      "metadata": {
        "colab": {
          "base_uri": "https://localhost:8080/"
        },
        "id": "NBUDlTJRaFwe",
        "outputId": "06f92e8e-766b-433b-cee6-70d695236ef6"
      },
      "execution_count": 28,
      "outputs": [
        {
          "output_type": "execute_result",
          "data": {
            "text/plain": [
              "0.7002314814814815"
            ]
          },
          "metadata": {},
          "execution_count": 28
        }
      ]
    },
    {
      "cell_type": "code",
      "source": [
        "# apenas uma característica\n",
        "class Arvore(BaseEstimator, ClassifierMixin):\n",
        "  def fit(self, X, y):\n",
        "    self.caracteristica_do_no = 0\n",
        "    self.valor_do_no = list(set(X[:,self.caracteristica_do_no]))[0]\n",
        "    exemplos_com_valores_iguais_ao_no = X[:,self.caracteristica_do_no] == self.valor_do_no\n",
        "    if sum(exemplos_com_valores_iguais_ao_no)>0 and sum(~exemplos_com_valores_iguais_ao_no)>0:\n",
        "      self.arvore_de_exemplos_com_valores_iguais = Arvore()\n",
        "      self.arvore_de_exemplos_com_valores_iguais.fit(X[exemplos_com_valores_iguais_ao_no],\n",
        "                                                    y[exemplos_com_valores_iguais_ao_no])\n",
        "      self.arvore_de_exemplos_com_valores_diferentes = Arvore()\n",
        "      self.arvore_de_exemplos_com_valores_diferentes.fit(X[~exemplos_com_valores_iguais_ao_no],\n",
        "                                                        y[~exemplos_com_valores_iguais_ao_no])\n",
        "    else:\n",
        "      self.resposta = maisFrequente(y)\n",
        "    return self\n",
        "\n",
        "  def predict(self, X):\n",
        "    y = np.empty(X.shape[0], dtype='<U5')\n",
        "    if hasattr(self, 'resposta'):\n",
        "      y.fill(self.resposta)\n",
        "    else:\n",
        "      exemplos_com_valores_iguais_ao_no = X[:,self.caracteristica_do_no] == self.valor_do_no\n",
        "      y[exemplos_com_valores_iguais_ao_no] = self.arvore_de_exemplos_com_valores_iguais.predict(X[exemplos_com_valores_iguais_ao_no])\n",
        "      y[~exemplos_com_valores_iguais_ao_no] = self.arvore_de_exemplos_com_valores_diferentes.predict(X[~exemplos_com_valores_iguais_ao_no])\n",
        "    return y\n",
        "\n",
        "modelo = Arvore()\n",
        "modelo.fit(X, y)\n",
        "ypred = modelo.predict(X)\n",
        "accuracy_score(y, ypred)"
      ],
      "metadata": {
        "colab": {
          "base_uri": "https://localhost:8080/"
        },
        "id": "NPetDYU8aR6W",
        "outputId": "ac54955f-e986-45d5-d108-cefe37d54884"
      },
      "execution_count": 29,
      "outputs": [
        {
          "output_type": "execute_result",
          "data": {
            "text/plain": [
              "0.7002314814814815"
            ]
          },
          "metadata": {},
          "execution_count": 29
        }
      ]
    },
    {
      "cell_type": "code",
      "source": [
        "def print_arvore(arvore):\n",
        "  print(f\"Característica: {arvore.caracteristica_do_no}, Valor: {arvore.valor_do_no}\")\n",
        "  if hasattr(arvore, 'resposta'):\n",
        "    print(arvore.resposta)\n",
        "  else:\n",
        "    print_arvore(arvore.arvore_de_exemplos_com_valores_iguais)\n",
        "    print_arvore(arvore.arvore_de_exemplos_com_valores_diferentes)\n",
        "\n",
        "print_arvore(modelo)"
      ],
      "metadata": {
        "colab": {
          "base_uri": "https://localhost:8080/"
        },
        "id": "stDf3YUCea_W",
        "outputId": "18d52e51-72bf-4f91-befb-c7a80997ddd8"
      },
      "execution_count": 30,
      "outputs": [
        {
          "output_type": "stream",
          "name": "stdout",
          "text": [
            "Característica: 0, Valor: low\n",
            "Característica: 0, Valor: low\n",
            "unacc\n",
            "Característica: 0, Valor: vhigh\n",
            "Característica: 0, Valor: vhigh\n",
            "unacc\n",
            "Característica: 0, Valor: high\n",
            "Característica: 0, Valor: high\n",
            "unacc\n",
            "Característica: 0, Valor: med\n",
            "unacc\n"
          ]
        }
      ]
    },
    {
      "cell_type": "code",
      "source": [
        "def impureza(y): #Gini\n",
        "  labels = list(set(y))\n",
        "  labels.sort()\n",
        "  probabilidades = np.zeros((len(labels),))\n",
        "  for i in range(len(labels)):\n",
        "    probabilidades[i] = sum(y==labels[i])/len(y)\n",
        "  result = 1 - sum(probabilidades**2)\n",
        "  return result\n",
        "\n",
        "ytmp = y[:]\n",
        "valor = impureza(ytmp)\n",
        "print(valor)"
      ],
      "metadata": {
        "colab": {
          "base_uri": "https://localhost:8080/"
        },
        "id": "89Iwmjr6k-UM",
        "outputId": "6a170a34-417a-4aa5-d7e9-d555bc35ca21"
      },
      "execution_count": 31,
      "outputs": [
        {
          "output_type": "stream",
          "name": "stdout",
          "text": [
            "0.457283763074417\n"
          ]
        }
      ]
    },
    {
      "cell_type": "code",
      "source": [
        "def impurezaValor(x, y, valor):\n",
        "  iguais = x == valor\n",
        "  impurezaIguais = impureza(y[iguais])\n",
        "  impurezaDiferentes = impureza(y[~iguais])\n",
        "  propIguais = sum(iguais)/len(y)\n",
        "  propDiferentes = sum(~iguais)/len(y)\n",
        "  result = propIguais*impurezaIguais + propDiferentes*impurezaDiferentes\n",
        "  return result\n",
        "\n",
        "print(impurezaValor(X[:,0], y, 'vhigh'))\n"
      ],
      "metadata": {
        "colab": {
          "base_uri": "https://localhost:8080/"
        },
        "id": "Y1w9jFgzmIVl",
        "outputId": "438ce40f-dcdb-40df-b2e3-fc19bd283130"
      },
      "execution_count": 32,
      "outputs": [
        {
          "output_type": "stream",
          "name": "stdout",
          "text": [
            "0.44934645776177407\n"
          ]
        }
      ]
    },
    {
      "cell_type": "code",
      "source": [
        "def impurezaMinima(X, y):\n",
        "  impurezas = []\n",
        "  caracteristicaValores = []\n",
        "  for i in range(X.shape[1]):\n",
        "    valores = sorted(list(set(X[:,i])))\n",
        "    for valor in valores:\n",
        "      caracteristicaValores.append([i, valor])\n",
        "      impurezas.append(impurezaValor(X[:,i], y, valor))\n",
        "  caracteristicaValores = np.array(caracteristicaValores)\n",
        "  impurezas = np.array(impurezas)\n",
        "  indiceMenorImpureza = np.argmin(impurezas)\n",
        "  caracteristica, valor = caracteristicaValores[indiceMenorImpureza]\n",
        "  return impurezas[indiceMenorImpureza], int(caracteristica), valor\n",
        "\n",
        "impurezaMinima(X, y)"
      ],
      "metadata": {
        "colab": {
          "base_uri": "https://localhost:8080/"
        },
        "id": "wEy8tmkvnTw-",
        "outputId": "319cbacd-25d8-4782-a071-b825ba51e329"
      },
      "execution_count": 33,
      "outputs": [
        {
          "output_type": "execute_result",
          "data": {
            "text/plain": [
              "(0.38615712609310704, 3, '2')"
            ]
          },
          "metadata": {},
          "execution_count": 33
        }
      ]
    },
    {
      "cell_type": "code",
      "source": [
        "class Arvore(BaseEstimator, ClassifierMixin):\n",
        "  def fit(self, X, y):\n",
        "    self.impureza, self.caracteristica_do_no, self.valor_do_no = impurezaMinima(X, y)\n",
        "    exemplos_com_valores_iguais_ao_no = X[:,self.caracteristica_do_no] == self.valor_do_no\n",
        "    if sum(exemplos_com_valores_iguais_ao_no)>0 and sum(~exemplos_com_valores_iguais_ao_no)>0:\n",
        "      self.arvore_de_exemplos_com_valores_iguais = Arvore()\n",
        "      self.arvore_de_exemplos_com_valores_iguais.fit(X[exemplos_com_valores_iguais_ao_no],\n",
        "                                                    y[exemplos_com_valores_iguais_ao_no])\n",
        "      self.arvore_de_exemplos_com_valores_diferentes = Arvore()\n",
        "      self.arvore_de_exemplos_com_valores_diferentes.fit(X[~exemplos_com_valores_iguais_ao_no],\n",
        "                                                        y[~exemplos_com_valores_iguais_ao_no])\n",
        "    else:\n",
        "      self.resposta = maisFrequente(y)\n",
        "    return self\n",
        "\n",
        "  def predict(self, X):\n",
        "    y = np.empty(X.shape[0], dtype='<U5')\n",
        "    if hasattr(self, 'resposta'):\n",
        "      y.fill(self.resposta)\n",
        "    else:\n",
        "      exemplos_com_valores_iguais_ao_no = X[:,self.caracteristica_do_no] == self.valor_do_no\n",
        "      y[exemplos_com_valores_iguais_ao_no] = self.arvore_de_exemplos_com_valores_iguais.predict(X[exemplos_com_valores_iguais_ao_no])\n",
        "      y[~exemplos_com_valores_iguais_ao_no] = self.arvore_de_exemplos_com_valores_diferentes.predict(X[~exemplos_com_valores_iguais_ao_no])\n",
        "    return y\n",
        "\n",
        "modelo = Arvore()\n",
        "modelo.fit(X, y)\n",
        "ypred = modelo.predict(X)\n",
        "accuracy_score(y, ypred)"
      ],
      "metadata": {
        "colab": {
          "base_uri": "https://localhost:8080/"
        },
        "id": "m1veNmDCm8nR",
        "outputId": "e89c006b-451b-4492-ce57-b9951c84a490"
      },
      "execution_count": 34,
      "outputs": [
        {
          "output_type": "execute_result",
          "data": {
            "text/plain": [
              "1.0"
            ]
          },
          "metadata": {},
          "execution_count": 34
        }
      ]
    },
    {
      "cell_type": "code",
      "source": [
        "from sklearn.model_selection import cross_validate\n",
        "\n",
        "scores = cross_validate(Arvore(), X, y)\n",
        "scores['test_score'], np.mean(scores['test_score'])"
      ],
      "metadata": {
        "colab": {
          "base_uri": "https://localhost:8080/"
        },
        "id": "7iHCG7O7pyXh",
        "outputId": "b9ac9aa7-eb1c-49e5-b0f6-7ad8daf8f456"
      },
      "execution_count": 35,
      "outputs": [
        {
          "output_type": "execute_result",
          "data": {
            "text/plain": [
              "(array([0.62716763, 0.73121387, 0.75144509, 0.75362319, 0.8057971 ]),\n",
              " 0.7338493758900897)"
            ]
          },
          "metadata": {},
          "execution_count": 35
        }
      ]
    },
    {
      "cell_type": "code",
      "source": [
        "class Arvore(BaseEstimator, ClassifierMixin):\n",
        "  def __init__(self, max_depth=None):\n",
        "    self.max_depth = max_depth\n",
        "\n",
        "  def fit(self, X, y):\n",
        "    self.impureza, self.caracteristica_do_no, self.valor_do_no = impurezaMinima(X, y)\n",
        "    exemplos_com_valores_iguais_ao_no = X[:,self.caracteristica_do_no] == self.valor_do_no\n",
        "    if sum(exemplos_com_valores_iguais_ao_no)>0 and sum(~exemplos_com_valores_iguais_ao_no)>0 and (self.max_depth == None or self.max_depth > 0):\n",
        "      max_depth = None if self.max_depth == None else self.max_depth - 1\n",
        "      self.arvore_de_exemplos_com_valores_iguais = Arvore(max_depth)\n",
        "      self.arvore_de_exemplos_com_valores_iguais.fit(X[exemplos_com_valores_iguais_ao_no],\n",
        "                                                    y[exemplos_com_valores_iguais_ao_no])\n",
        "      self.arvore_de_exemplos_com_valores_diferentes = Arvore(max_depth)\n",
        "      self.arvore_de_exemplos_com_valores_diferentes.fit(X[~exemplos_com_valores_iguais_ao_no],\n",
        "                                                        y[~exemplos_com_valores_iguais_ao_no])\n",
        "    else:\n",
        "      self.resposta = maisFrequente(y)\n",
        "    return self\n",
        "\n",
        "  def predict(self, X):\n",
        "    y = np.empty(X.shape[0], dtype='<U5')\n",
        "    if hasattr(self, 'resposta'):\n",
        "      y.fill(self.resposta)\n",
        "    else:\n",
        "      exemplos_com_valores_iguais_ao_no = X[:,self.caracteristica_do_no] == self.valor_do_no\n",
        "      y[exemplos_com_valores_iguais_ao_no] = self.arvore_de_exemplos_com_valores_iguais.predict(X[exemplos_com_valores_iguais_ao_no])\n",
        "      y[~exemplos_com_valores_iguais_ao_no] = self.arvore_de_exemplos_com_valores_diferentes.predict(X[~exemplos_com_valores_iguais_ao_no])\n",
        "    return y\n",
        "\n",
        "modelo = Arvore(2)\n",
        "modelo.fit(X, y)\n",
        "ypred = modelo.predict(X)\n",
        "print(accuracy_score(y, ypred))\n",
        "scores = cross_validate(modelo, X, y)\n",
        "scores['test_score'], np.mean(scores['test_score'])"
      ],
      "metadata": {
        "colab": {
          "base_uri": "https://localhost:8080/"
        },
        "id": "MRZpBjMjrFTq",
        "outputId": "5e4883c5-d25a-419f-d3d5-4e042944b36a"
      },
      "execution_count": 36,
      "outputs": [
        {
          "output_type": "stream",
          "name": "stdout",
          "text": [
            "0.7777777777777778\n"
          ]
        },
        {
          "output_type": "execute_result",
          "data": {
            "text/plain": [
              "(array([0.6300578 , 0.71965318, 0.80346821, 0.85797101, 0.87826087]),\n",
              " 0.7778822149618833)"
            ]
          },
          "metadata": {},
          "execution_count": 36
        }
      ]
    },
    {
      "cell_type": "code",
      "source": [
        "print_arvore(modelo)"
      ],
      "metadata": {
        "colab": {
          "base_uri": "https://localhost:8080/"
        },
        "id": "6vG4LJf2sZ2X",
        "outputId": "d37bc970-9dd4-4434-f9aa-5bc0e531244a"
      },
      "execution_count": 37,
      "outputs": [
        {
          "output_type": "stream",
          "name": "stdout",
          "text": [
            "Característica: 3, Valor: 2\n",
            "Característica: 0, Valor: high\n",
            "Característica: 0, Valor: high\n",
            "unacc\n",
            "Característica: 0, Valor: low\n",
            "unacc\n",
            "Característica: 5, Valor: low\n",
            "Característica: 0, Valor: high\n",
            "unacc\n",
            "Característica: 0, Valor: vhigh\n",
            "acc\n"
          ]
        }
      ]
    },
    {
      "cell_type": "code",
      "source": [
        "from sklearn.model_selection import StratifiedShuffleSplit\n",
        "\n",
        "scores = cross_validate(modelo, X, y, cv=StratifiedShuffleSplit(n_splits=5, random_state=42))\n",
        "scores['test_score'], np.mean(scores['test_score'])"
      ],
      "metadata": {
        "colab": {
          "base_uri": "https://localhost:8080/"
        },
        "id": "sQAH3BHXuGj4",
        "outputId": "39c7ae80-99f0-4b17-dd34-bf9b14aa4e23"
      },
      "execution_count": 38,
      "outputs": [
        {
          "output_type": "execute_result",
          "data": {
            "text/plain": [
              "(array([0.79768786, 0.76878613, 0.78034682, 0.80346821, 0.76878613]),\n",
              " 0.7838150289017342)"
            ]
          },
          "metadata": {},
          "execution_count": 38
        }
      ]
    },
    {
      "cell_type": "code",
      "source": [
        "class Arvore(BaseEstimator, ClassifierMixin):\n",
        "  def __init__(self, max_depth=None, min_samples_split=2):\n",
        "    self.max_depth = max_depth\n",
        "    self.min_samples_split = min_samples_split\n",
        "\n",
        "  def fit(self, X, y):\n",
        "    self.impureza, self.caracteristica_do_no, self.valor_do_no = impurezaMinima(X, y)\n",
        "    exemplos_com_valores_iguais_ao_no = X[:,self.caracteristica_do_no] == self.valor_do_no\n",
        "    if sum(exemplos_com_valores_iguais_ao_no)>self.min_samples_split and sum(~exemplos_com_valores_iguais_ao_no)>self.min_samples_split and (self.max_depth == None or self.max_depth > 0):\n",
        "      max_depth = None if self.max_depth == None else self.max_depth - 1\n",
        "      self.arvore_de_exemplos_com_valores_iguais = Arvore(max_depth, self.min_samples_split)\n",
        "      self.arvore_de_exemplos_com_valores_iguais.fit(X[exemplos_com_valores_iguais_ao_no],\n",
        "                                                    y[exemplos_com_valores_iguais_ao_no])\n",
        "      self.arvore_de_exemplos_com_valores_diferentes = Arvore(max_depth, self.min_samples_split)\n",
        "      self.arvore_de_exemplos_com_valores_diferentes.fit(X[~exemplos_com_valores_iguais_ao_no],\n",
        "                                                        y[~exemplos_com_valores_iguais_ao_no])\n",
        "    else:\n",
        "      self.resposta = maisFrequente(y)\n",
        "    return self\n",
        "\n",
        "  def predict(self, X):\n",
        "    y = np.empty(X.shape[0], dtype='<U5')\n",
        "    if hasattr(self, 'resposta'):\n",
        "      y.fill(self.resposta)\n",
        "    else:\n",
        "      exemplos_com_valores_iguais_ao_no = X[:,self.caracteristica_do_no] == self.valor_do_no\n",
        "      y[exemplos_com_valores_iguais_ao_no] = self.arvore_de_exemplos_com_valores_iguais.predict(X[exemplos_com_valores_iguais_ao_no])\n",
        "      y[~exemplos_com_valores_iguais_ao_no] = self.arvore_de_exemplos_com_valores_diferentes.predict(X[~exemplos_com_valores_iguais_ao_no])\n",
        "    return y\n",
        "\n",
        "modelo = Arvore(None, 10)\n",
        "modelo.fit(X, y)\n",
        "ypred = modelo.predict(X)\n",
        "print(accuracy_score(y, ypred))\n",
        "scores = cross_validate(modelo, X, y)\n",
        "scores['test_score'], np.mean(scores['test_score'])"
      ],
      "metadata": {
        "colab": {
          "base_uri": "https://localhost:8080/"
        },
        "id": "fedn1_z3u6Hy",
        "outputId": "cca7a252-1512-42a8-bcc7-a4e869b5be3e"
      },
      "execution_count": 39,
      "outputs": [
        {
          "output_type": "stream",
          "name": "stdout",
          "text": [
            "0.9502314814814815\n"
          ]
        },
        {
          "output_type": "execute_result",
          "data": {
            "text/plain": [
              "(array([0.6416185 , 0.72543353, 0.64739884, 0.79710145, 0.76521739]),\n",
              " 0.7153539415263467)"
            ]
          },
          "metadata": {},
          "execution_count": 39
        }
      ]
    }
  ]
}
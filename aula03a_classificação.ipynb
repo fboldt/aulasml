{
  "nbformat": 4,
  "nbformat_minor": 0,
  "metadata": {
    "colab": {
      "provenance": [],
      "authorship_tag": "ABX9TyMzPW/4Jh5A/nagR6kx0ZRf",
      "include_colab_link": true
    },
    "kernelspec": {
      "name": "python3",
      "display_name": "Python 3"
    },
    "language_info": {
      "name": "python"
    }
  },
  "cells": [
    {
      "cell_type": "markdown",
      "metadata": {
        "id": "view-in-github",
        "colab_type": "text"
      },
      "source": [
        "<a href=\"https://colab.research.google.com/github/fboldt/aulasml/blob/master/aula03a_classifica%C3%A7%C3%A3o.ipynb\" target=\"_parent\"><img src=\"https://colab.research.google.com/assets/colab-badge.svg\" alt=\"Open In Colab\"/></a>"
      ]
    },
    {
      "cell_type": "code",
      "execution_count": 3,
      "metadata": {
        "colab": {
          "base_uri": "https://localhost:8080/"
        },
        "id": "PvLi-7OYj-jV",
        "outputId": "7dc4325b-cb79-49d3-a18d-c77083e89d2e"
      },
      "outputs": [
        {
          "output_type": "stream",
          "name": "stdout",
          "text": [
            ".. _breast_cancer_dataset:\n",
            "\n",
            "Breast cancer wisconsin (diagnostic) dataset\n",
            "--------------------------------------------\n",
            "\n",
            "**Data Set Characteristics:**\n",
            "\n",
            ":Number of Instances: 569\n",
            "\n",
            ":Number of Attributes: 30 numeric, predictive attributes and the class\n",
            "\n",
            ":Attribute Information:\n",
            "    - radius (mean of distances from center to points on the perimeter)\n",
            "    - texture (standard deviation of gray-scale values)\n",
            "    - perimeter\n",
            "    - area\n",
            "    - smoothness (local variation in radius lengths)\n",
            "    - compactness (perimeter^2 / area - 1.0)\n",
            "    - concavity (severity of concave portions of the contour)\n",
            "    - concave points (number of concave portions of the contour)\n",
            "    - symmetry\n",
            "    - fractal dimension (\"coastline approximation\" - 1)\n",
            "\n",
            "    The mean, standard error, and \"worst\" or largest (mean of the three\n",
            "    worst/largest values) of these features were computed for each image,\n",
            "    resulting in 30 features.  For instance, field 0 is Mean Radius, field\n",
            "    10 is Radius SE, field 20 is Worst Radius.\n",
            "\n",
            "    - class:\n",
            "            - WDBC-Malignant\n",
            "            - WDBC-Benign\n",
            "\n",
            ":Summary Statistics:\n",
            "\n",
            "===================================== ====== ======\n",
            "                                        Min    Max\n",
            "===================================== ====== ======\n",
            "radius (mean):                        6.981  28.11\n",
            "texture (mean):                       9.71   39.28\n",
            "perimeter (mean):                     43.79  188.5\n",
            "area (mean):                          143.5  2501.0\n",
            "smoothness (mean):                    0.053  0.163\n",
            "compactness (mean):                   0.019  0.345\n",
            "concavity (mean):                     0.0    0.427\n",
            "concave points (mean):                0.0    0.201\n",
            "symmetry (mean):                      0.106  0.304\n",
            "fractal dimension (mean):             0.05   0.097\n",
            "radius (standard error):              0.112  2.873\n",
            "texture (standard error):             0.36   4.885\n",
            "perimeter (standard error):           0.757  21.98\n",
            "area (standard error):                6.802  542.2\n",
            "smoothness (standard error):          0.002  0.031\n",
            "compactness (standard error):         0.002  0.135\n",
            "concavity (standard error):           0.0    0.396\n",
            "concave points (standard error):      0.0    0.053\n",
            "symmetry (standard error):            0.008  0.079\n",
            "fractal dimension (standard error):   0.001  0.03\n",
            "radius (worst):                       7.93   36.04\n",
            "texture (worst):                      12.02  49.54\n",
            "perimeter (worst):                    50.41  251.2\n",
            "area (worst):                         185.2  4254.0\n",
            "smoothness (worst):                   0.071  0.223\n",
            "compactness (worst):                  0.027  1.058\n",
            "concavity (worst):                    0.0    1.252\n",
            "concave points (worst):               0.0    0.291\n",
            "symmetry (worst):                     0.156  0.664\n",
            "fractal dimension (worst):            0.055  0.208\n",
            "===================================== ====== ======\n",
            "\n",
            ":Missing Attribute Values: None\n",
            "\n",
            ":Class Distribution: 212 - Malignant, 357 - Benign\n",
            "\n",
            ":Creator:  Dr. William H. Wolberg, W. Nick Street, Olvi L. Mangasarian\n",
            "\n",
            ":Donor: Nick Street\n",
            "\n",
            ":Date: November, 1995\n",
            "\n",
            "This is a copy of UCI ML Breast Cancer Wisconsin (Diagnostic) datasets.\n",
            "https://goo.gl/U2Uwz2\n",
            "\n",
            "Features are computed from a digitized image of a fine needle\n",
            "aspirate (FNA) of a breast mass.  They describe\n",
            "characteristics of the cell nuclei present in the image.\n",
            "\n",
            "Separating plane described above was obtained using\n",
            "Multisurface Method-Tree (MSM-T) [K. P. Bennett, \"Decision Tree\n",
            "Construction Via Linear Programming.\" Proceedings of the 4th\n",
            "Midwest Artificial Intelligence and Cognitive Science Society,\n",
            "pp. 97-101, 1992], a classification method which uses linear\n",
            "programming to construct a decision tree.  Relevant features\n",
            "were selected using an exhaustive search in the space of 1-4\n",
            "features and 1-3 separating planes.\n",
            "\n",
            "The actual linear program used to obtain the separating plane\n",
            "in the 3-dimensional space is that described in:\n",
            "[K. P. Bennett and O. L. Mangasarian: \"Robust Linear\n",
            "Programming Discrimination of Two Linearly Inseparable Sets\",\n",
            "Optimization Methods and Software 1, 1992, 23-34].\n",
            "\n",
            "This database is also available through the UW CS ftp server:\n",
            "\n",
            "ftp ftp.cs.wisc.edu\n",
            "cd math-prog/cpo-dataset/machine-learn/WDBC/\n",
            "\n",
            ".. dropdown:: References\n",
            "\n",
            "  - W.N. Street, W.H. Wolberg and O.L. Mangasarian. Nuclear feature extraction\n",
            "    for breast tumor diagnosis. IS&T/SPIE 1993 International Symposium on\n",
            "    Electronic Imaging: Science and Technology, volume 1905, pages 861-870,\n",
            "    San Jose, CA, 1993.\n",
            "  - O.L. Mangasarian, W.N. Street and W.H. Wolberg. Breast cancer diagnosis and\n",
            "    prognosis via linear programming. Operations Research, 43(4), pages 570-577,\n",
            "    July-August 1995.\n",
            "  - W.H. Wolberg, W.N. Street, and O.L. Mangasarian. Machine learning techniques\n",
            "    to diagnose breast cancer from fine-needle aspirates. Cancer Letters 77 (1994)\n",
            "    163-171.\n",
            "\n"
          ]
        }
      ],
      "source": [
        "from sklearn.datasets import load_breast_cancer\n",
        "data = load_breast_cancer()\n",
        "print(data.DESCR)"
      ]
    },
    {
      "cell_type": "code",
      "source": [
        "X, y = data.data, data.target\n",
        "print(X.shape, y.shape)"
      ],
      "metadata": {
        "colab": {
          "base_uri": "https://localhost:8080/"
        },
        "id": "ISNJGS8WmNwl",
        "outputId": "34abd152-ba85-4bfd-a98d-2b4ad7de2b46"
      },
      "execution_count": 4,
      "outputs": [
        {
          "output_type": "stream",
          "name": "stdout",
          "text": [
            "(569, 30) (569,)\n"
          ]
        }
      ]
    },
    {
      "cell_type": "code",
      "source": [
        "from sklearn.model_selection import train_test_split\n",
        "X_train, X_test, y_train, y_test = train_test_split(X, y, test_size=0.2, random_state=42)\n"
      ],
      "metadata": {
        "id": "jPqz3q62mmG7"
      },
      "execution_count": 5,
      "outputs": []
    },
    {
      "cell_type": "markdown",
      "source": [
        "#adendo de numpy"
      ],
      "metadata": {
        "id": "AaM0DMUmpIul"
      }
    },
    {
      "cell_type": "code",
      "source": [
        "import numpy as np\n",
        "vetor = [1,2,3,4,5]\n",
        "vetor = np.array(vetor)\n",
        "print(type(vetor.shape), '\\n', vetor.shape)\n"
      ],
      "metadata": {
        "colab": {
          "base_uri": "https://localhost:8080/"
        },
        "id": "htBsCjeopIdS",
        "outputId": "b1ec01e2-54b7-4ab1-bf1e-271369e9219c"
      },
      "execution_count": 13,
      "outputs": [
        {
          "output_type": "stream",
          "name": "stdout",
          "text": [
            "<class 'tuple'> \n",
            " (5,)\n"
          ]
        }
      ]
    },
    {
      "cell_type": "code",
      "source": [
        "matriz = [[1,2,3],[4,5,6],[7,8,9]]\n",
        "matriz = np.array(matriz)\n",
        "print(type(matriz.shape), '\\n', matriz.shape)"
      ],
      "metadata": {
        "colab": {
          "base_uri": "https://localhost:8080/"
        },
        "id": "5hGBq7psplmf",
        "outputId": "14681c15-2662-4a4c-b29d-8b6d55b2f0e4"
      },
      "execution_count": 14,
      "outputs": [
        {
          "output_type": "stream",
          "name": "stdout",
          "text": [
            "<class 'tuple'> \n",
            " (3, 3)\n"
          ]
        }
      ]
    },
    {
      "cell_type": "code",
      "source": [
        "matriz3d = [[[1,2],[3,4]],[[5,6],[7,8]]]\n",
        "matriz3d = np.array(matriz3d)\n",
        "print(type(matriz3d.shape), '\\n', matriz3d.shape)"
      ],
      "metadata": {
        "colab": {
          "base_uri": "https://localhost:8080/"
        },
        "id": "hRxrB5t3pqk7",
        "outputId": "491e8ae0-371b-429c-b302-cb3d34eb35b8"
      },
      "execution_count": 15,
      "outputs": [
        {
          "output_type": "stream",
          "name": "stdout",
          "text": [
            "<class 'tuple'> \n",
            " (2, 2, 2)\n"
          ]
        }
      ]
    },
    {
      "cell_type": "code",
      "source": [
        "print(matriz, end='\\n\\n')\n",
        "vetor = np.array([1,2,3])\n",
        "print(vetor, end='\\n\\n')\n",
        "print(matriz * vetor)"
      ],
      "metadata": {
        "colab": {
          "base_uri": "https://localhost:8080/"
        },
        "id": "uw12vTsvsZS0",
        "outputId": "41adcee7-9190-4725-ae1f-31a8706820ee"
      },
      "execution_count": 29,
      "outputs": [
        {
          "output_type": "stream",
          "name": "stdout",
          "text": [
            "[[1 2 3]\n",
            " [4 5 6]\n",
            " [7 8 9]]\n",
            "\n",
            "[1 2 3]\n",
            "\n",
            "[[ 1  4  9]\n",
            " [ 4 10 18]\n",
            " [ 7 16 27]]\n"
          ]
        }
      ]
    },
    {
      "cell_type": "code",
      "source": [
        "print(matriz, end='\\n\\n')\n",
        "print(vetor, end='\\n\\n')\n",
        "print(matriz.dot(vetor))"
      ],
      "metadata": {
        "colab": {
          "base_uri": "https://localhost:8080/"
        },
        "id": "lBaVvnQ9s_xu",
        "outputId": "5dd61e45-f15d-463a-d501-849c68747862"
      },
      "execution_count": 30,
      "outputs": [
        {
          "output_type": "stream",
          "name": "stdout",
          "text": [
            "[[1 2 3]\n",
            " [4 5 6]\n",
            " [7 8 9]]\n",
            "\n",
            "[1 2 3]\n",
            "\n",
            "[14 32 50]\n"
          ]
        }
      ]
    },
    {
      "cell_type": "code",
      "source": [
        "print(matriz @ vetor)"
      ],
      "metadata": {
        "colab": {
          "base_uri": "https://localhost:8080/"
        },
        "id": "K4bN-IRHtmoI",
        "outputId": "b4fb5431-c3d7-402f-98c9-85a790fb69a7"
      },
      "execution_count": 31,
      "outputs": [
        {
          "output_type": "stream",
          "name": "stdout",
          "text": [
            "[14 32 50]\n"
          ]
        }
      ]
    },
    {
      "cell_type": "markdown",
      "source": [
        "# Distribuição das classes"
      ],
      "metadata": {
        "id": "tTN3wju-m8uk"
      }
    },
    {
      "cell_type": "code",
      "source": [
        "print(sum(y)/len(y))\n",
        "print(sum(y_train)/len(y_train))"
      ],
      "metadata": {
        "colab": {
          "base_uri": "https://localhost:8080/"
        },
        "id": "lj-SHhfZmuZ0",
        "outputId": "ce3a0c5a-23a9-4ef9-f195-999bc35f7b82"
      },
      "execution_count": 9,
      "outputs": [
        {
          "output_type": "stream",
          "name": "stdout",
          "text": [
            "0.6274165202108963\n",
            "0.6285714285714286\n"
          ]
        }
      ]
    },
    {
      "cell_type": "code",
      "source": [
        "import matplotlib.pyplot as plt\n",
        "for i in [27]: #range(X_train.shape[1]):\n",
        "    plt.xlabel(f\"{i}: {data.feature_names[i]}\")\n",
        "    plt.ylabel(data.target_names[0])\n",
        "    plt.scatter(X[:,i], y)\n",
        "    plt.show()"
      ],
      "metadata": {
        "colab": {
          "base_uri": "https://localhost:8080/",
          "height": 449
        },
        "id": "GX4ZLKvvn4Yg",
        "outputId": "e02de579-9434-46c2-c3aa-86ded976559a"
      },
      "execution_count": 19,
      "outputs": [
        {
          "output_type": "display_data",
          "data": {
            "text/plain": [
              "<Figure size 640x480 with 1 Axes>"
            ],
            "image/png": "[encoded data removed]"
          },
          "metadata": {}
        }
      ]
    },
    {
      "cell_type": "code",
      "source": [
        "X_train27 = X_train[:,27:28]\n",
        "X_test27 = X_test[:,27:28]"
      ],
      "metadata": {
        "id": "YhvTHFqBucS6"
      },
      "execution_count": 33,
      "outputs": []
    },
    {
      "cell_type": "code",
      "source": [
        "import numpy as np\n",
        "\n",
        "def add_bias(X):\n",
        "    bias = np.ones((X.shape[0], 1))\n",
        "    return np.concatenate((bias, X), axis=1)\n",
        "\n",
        "class LinearClassifier():\n",
        "  def fit(self, X, y):\n",
        "    X = add_bias(X)\n",
        "    self.w = np.linalg.pinv(X) @ y\n",
        "    return self\n",
        "\n",
        "  def predict(self, X):\n",
        "    X = add_bias(X)\n",
        "    return X @ self.w\n",
        "\n",
        "model = LinearClassifier().fit(X_train27, y_train)\n",
        "y_pred = model.predict(X_train27)\n",
        "plt.scatter(X_train27, y_train)\n",
        "plt.scatter(X_train27, y_pred)\n",
        "plt.show()"
      ],
      "metadata": {
        "colab": {
          "base_uri": "https://localhost:8080/",
          "height": 430
        },
        "id": "2WHjjgZ2rfLa",
        "outputId": "d4cf8b7f-d8db-483f-d56e-ab2be221861b"
      },
      "execution_count": 50,
      "outputs": [
        {
          "output_type": "display_data",
          "data": {
            "text/plain": [
              "<Figure size 640x480 with 1 Axes>"
            ],
            "image/png": "[encoded data removed]"
          },
          "metadata": {}
        }
      ]
    },
    {
      "cell_type": "code",
      "source": [
        "from sklearn.metrics import mean_squared_error\n",
        "\n",
        "print(mean_squared_error(y_train, y_pred))"
      ],
      "metadata": {
        "colab": {
          "base_uri": "https://localhost:8080/"
        },
        "id": "PzT_1CFwvBFL",
        "outputId": "e524169f-fa7d-435c-8141-96707d0350d7"
      },
      "execution_count": 61,
      "outputs": [
        {
          "output_type": "stream",
          "name": "stdout",
          "text": [
            "0.08817201142291226\n"
          ]
        }
      ]
    },
    {
      "cell_type": "code",
      "source": [
        "print(sum(y_train == y_pred))"
      ],
      "metadata": {
        "colab": {
          "base_uri": "https://localhost:8080/"
        },
        "id": "rLcpFC4xvvn7",
        "outputId": "8776b9fc-feec-4fda-9075-da2da9db87a8"
      },
      "execution_count": 52,
      "outputs": [
        {
          "output_type": "stream",
          "name": "stdout",
          "text": [
            "0\n"
          ]
        }
      ]
    },
    {
      "cell_type": "code",
      "source": [
        "new_pred = y_pred>=0.5\n",
        "print(sum(new_pred == y_train))"
      ],
      "metadata": {
        "colab": {
          "base_uri": "https://localhost:8080/"
        },
        "id": "u-6FzuX1wGDM",
        "outputId": "3231756c-514c-41a2-bd58-2db9dd3ecf10"
      },
      "execution_count": 62,
      "outputs": [
        {
          "output_type": "stream",
          "name": "stdout",
          "text": [
            "414\n"
          ]
        }
      ]
    },
    {
      "cell_type": "code",
      "source": [
        "mean_squared_error(y_train, new_pred)"
      ],
      "metadata": {
        "colab": {
          "base_uri": "https://localhost:8080/"
        },
        "id": "v1DVA-uNwZ-Q",
        "outputId": "2b774b8b-8e1d-4752-81b9-6e41ec5d822a"
      },
      "execution_count": 63,
      "outputs": [
        {
          "output_type": "execute_result",
          "data": {
            "text/plain": [
              "0.09010989010989011"
            ]
          },
          "metadata": {},
          "execution_count": 63
        }
      ]
    },
    {
      "cell_type": "code",
      "source": [
        "print(sum(y_pred == y_train)/len(y_train))\n",
        "print(sum(new_pred == y_train)/len(y_train))"
      ],
      "metadata": {
        "colab": {
          "base_uri": "https://localhost:8080/"
        },
        "id": "L8hvwxHZxmN0",
        "outputId": "795c72af-afc1-40d7-f06c-7f9f2f542cdb"
      },
      "execution_count": 66,
      "outputs": [
        {
          "output_type": "stream",
          "name": "stdout",
          "text": [
            "0.0\n",
            "0.9098901098901099\n"
          ]
        }
      ]
    },
    {
      "cell_type": "code",
      "source": [
        "from sklearn.metrics import accuracy_score\n",
        "acc = accuracy_score(y_train, new_pred)\n",
        "print(1-acc)"
      ],
      "metadata": {
        "colab": {
          "base_uri": "https://localhost:8080/"
        },
        "id": "84nNxB81yGFM",
        "outputId": "2101b1c9-5dcc-4ee5-bb91-69411a8a8e7c"
      },
      "execution_count": 67,
      "outputs": [
        {
          "output_type": "stream",
          "name": "stdout",
          "text": [
            "0.09010989010989012\n"
          ]
        }
      ]
    },
    {
      "cell_type": "code",
      "source": [
        "def add_bias(X):\n",
        "    bias = np.ones((X.shape[0], 1))\n",
        "    return np.concatenate((bias, X), axis=1)\n",
        "\n",
        "class LinearClassifier():\n",
        "  def fit(self, X, y):\n",
        "    X = add_bias(X)\n",
        "    self.w = np.linalg.pinv(X) @ y\n",
        "    return self\n",
        "\n",
        "  def predict(self, X):\n",
        "    X = add_bias(X)\n",
        "    return (X @ self.w) >= 0.5\n",
        "\n",
        "model = LinearClassifier().fit(X_train27, y_train)\n",
        "y_pred = model.predict(X_train27)\n",
        "print(accuracy_score(y_train, y_pred))\n",
        "plt.scatter(X_train27, y_train)\n",
        "plt.scatter(X_train27, y_pred)\n",
        "plt.show()"
      ],
      "metadata": {
        "colab": {
          "base_uri": "https://localhost:8080/",
          "height": 448
        },
        "id": "qbWaw4XIynz0",
        "outputId": "552da60f-2d6f-475c-e041-f2e68d21c441"
      },
      "execution_count": 68,
      "outputs": [
        {
          "output_type": "stream",
          "name": "stdout",
          "text": [
            "0.9098901098901099\n"
          ]
        },
        {
          "output_type": "display_data",
          "data": {
            "text/plain": [
              "<Figure size 640x480 with 1 Axes>"
            ],
            "image/png": "[encoded data removed]"
          },
          "metadata": {}
        }
      ]
    },
    {
      "cell_type": "code",
      "source": [
        "model = LinearClassifier().fit(X_train, y_train)\n",
        "y_pred = model.predict(X_train)\n",
        "print(accuracy_score(y_train, y_pred))"
      ],
      "metadata": {
        "colab": {
          "base_uri": "https://localhost:8080/"
        },
        "id": "Ey2nKW_5y6C-",
        "outputId": "bdf3a925-0670-4468-8638-d85fc414efbc"
      },
      "execution_count": 69,
      "outputs": [
        {
          "output_type": "stream",
          "name": "stdout",
          "text": [
            "0.9626373626373627\n"
          ]
        }
      ]
    },
    {
      "cell_type": "code",
      "source": [
        "plt.scatter(X_train27, y_train)\n",
        "plt.scatter(X_train27, y_pred, alpha=0.2)\n",
        "plt.show()"
      ],
      "metadata": {
        "colab": {
          "base_uri": "https://localhost:8080/",
          "height": 430
        },
        "id": "tDxoAGqjzBCE",
        "outputId": "21d63fc3-ed3d-4f2f-a712-f75ff3c36057"
      },
      "execution_count": 71,
      "outputs": [
        {
          "output_type": "display_data",
          "data": {
            "text/plain": [
              "<Figure size 640x480 with 1 Axes>"
            ],
            "image/png": "[encoded data removed]"
          },
          "metadata": {}
        }
      ]
    },
    {
      "cell_type": "code",
      "source": [
        "import matplotlib.pyplot as plt\n",
        "\n",
        "# Select features 27 and 28\n",
        "X_train27_28 = X_train[:, [27, 28]]\n",
        "\n",
        "# Make predictions using the model trained on all features\n",
        "y_pred_all = model.predict(X_train)\n",
        "\n",
        "# Create boolean masks for different categories\n",
        "real_negative = y_train == 0\n",
        "real_positive = y_train == 1\n",
        "correct_predictions = y_train == y_pred_all\n",
        "incorrect_predictions = y_train != y_pred_all\n",
        "\n",
        "# Plot the data\n",
        "plt.figure(figsize=(10, 8))\n",
        "plt.scatter(X_train27_28[real_positive, 0], X_train27_28[real_positive, 1], marker='s', c='cyan', label='Positive', alpha=0.7)\n",
        "plt.scatter(X_train27_28[real_negative, 0], X_train27_28[real_negative, 1], marker='s', c='pink', label='Negative', alpha=0.7)\n",
        "plt.scatter(X_train27_28[correct_predictions, 0], X_train27_28[correct_predictions, 1], c='green', label='Correct', alpha=0.2)\n",
        "plt.scatter(X_train27_28[incorrect_predictions, 0], X_train27_28[incorrect_predictions, 1], c='red', label='Incorrect', alpha=0.2)\n",
        "\n",
        "plt.xlabel(f\"{data.feature_names[27]}\")\n",
        "plt.ylabel(f\"{data.feature_names[28]}\")\n",
        "plt.title('Classification Results for Features 27 and 28')\n",
        "plt.legend()\n",
        "plt.show()"
      ],
      "metadata": {
        "colab": {
          "base_uri": "https://localhost:8080/",
          "height": 718
        },
        "id": "GJAQ4nNNzNQt",
        "outputId": "b74a2fc6-e91b-424e-b0eb-f018890cd75d"
      },
      "execution_count": 76,
      "outputs": [
        {
          "output_type": "display_data",
          "data": {
            "text/plain": [
              "<Figure size 1000x800 with 1 Axes>"
            ],
            "image/png": "[encoded data removed]"
          },
          "metadata": {}
        }
      ]
    },
    {
      "cell_type": "code",
      "source": [
        "y_pred = model.predict(X_test)\n",
        "print(accuracy_score(y_test, y_pred))"
      ],
      "metadata": {
        "colab": {
          "base_uri": "https://localhost:8080/"
        },
        "id": "X5E_6cXk19M-",
        "outputId": "ea52d843-d62d-4c5c-d008-e65dbcc3c988"
      },
      "execution_count": 77,
      "outputs": [
        {
          "output_type": "stream",
          "name": "stdout",
          "text": [
            "0.956140350877193\n"
          ]
        }
      ]
    },
    {
      "cell_type": "code",
      "source": [
        "from sklearn.linear_model import LogisticRegression\n",
        "model = LogisticRegression(max_iter=9999).fit(X_train, y_train)\n",
        "y_pred = model.predict(X_test)\n",
        "print(accuracy_score(y_test, y_pred))"
      ],
      "metadata": {
        "colab": {
          "base_uri": "https://localhost:8080/"
        },
        "id": "-StSwIEv2Q8P",
        "outputId": "f327100a-f165-467d-cf00-2215a06fc33f"
      },
      "execution_count": 82,
      "outputs": [
        {
          "output_type": "stream",
          "name": "stdout",
          "text": [
            "0.956140350877193\n"
          ]
        }
      ]
    },
    {
      "cell_type": "code",
      "source": [
        "from sklearn.linear_model import SGDClassifier\n",
        "model = SGDClassifier(loss='log_loss').fit(X_train, y_train)\n",
        "y_pred = model.predict(X_test)\n",
        "print(accuracy_score(y_test, y_pred))"
      ],
      "metadata": {
        "colab": {
          "base_uri": "https://localhost:8080/"
        },
        "id": "6xTlrBP92WBk",
        "outputId": "189f74dd-4c37-44c2-e7d6-daa5ad6d5162"
      },
      "execution_count": 99,
      "outputs": [
        {
          "output_type": "stream",
          "name": "stdout",
          "text": [
            "0.9473684210526315\n"
          ]
        }
      ]
    },
    {
      "cell_type": "code",
      "source": [
        "losses = ['hinge', 'log_loss', 'modified_huber', 'squared_hinge', 'perceptron', 'squared_error', 'huber', 'epsilon_insensitive', 'squared_epsilon_insensitive']\n",
        "for loss in losses:\n",
        "    model = SGDClassifier(loss=loss).fit(X_train, y_train)\n",
        "    y_pred = model.predict(X_train)\n",
        "    print(loss, accuracy_score(y_train, y_pred))"
      ],
      "metadata": {
        "colab": {
          "base_uri": "https://localhost:8080/"
        },
        "id": "FKE0ivMA2x7t",
        "outputId": "a2b0f426-d137-4565-ae5a-f7b8974b76f5"
      },
      "execution_count": 100,
      "outputs": [
        {
          "output_type": "stream",
          "name": "stdout",
          "text": [
            "hinge 0.9076923076923077\n",
            "log_loss 0.9120879120879121\n",
            "modified_huber 0.8747252747252747\n",
            "squared_hinge 0.756043956043956\n",
            "perceptron 0.8989010989010989\n",
            "squared_error 0.37142857142857144\n",
            "huber 0.6285714285714286\n",
            "epsilon_insensitive 0.37142857142857144\n",
            "squared_epsilon_insensitive 0.37142857142857144\n"
          ]
        }
      ]
    },
    {
      "cell_type": "code",
      "source": [
        "from sklearn.svm import SVC\n",
        "model = SVC().fit(X_train, y_train)\n",
        "y_pred = model.predict(X_test)\n",
        "print(accuracy_score(y_test, y_pred))"
      ],
      "metadata": {
        "colab": {
          "base_uri": "https://localhost:8080/"
        },
        "id": "pmF5TXFI39l7",
        "outputId": "02e7db6c-5fe2-4efc-aaa9-d3adc6a0e28f"
      },
      "execution_count": 101,
      "outputs": [
        {
          "output_type": "stream",
          "name": "stdout",
          "text": [
            "0.9473684210526315\n"
          ]
        }
      ]
    },
    {
      "cell_type": "code",
      "source": [
        "from sklearn.neighbors import KNeighborsClassifier\n",
        "model = KNeighborsClassifier(n_neighbors=1).fit(X_train, y_train)\n",
        "y_pred = model.predict(X_train)\n",
        "print(accuracy_score(y_train, y_pred))"
      ],
      "metadata": {
        "colab": {
          "base_uri": "https://localhost:8080/"
        },
        "id": "EYkLt0YV4XZ0",
        "outputId": "2a3af16c-2ad2-4708-e854-f2228dda532f"
      },
      "execution_count": 102,
      "outputs": [
        {
          "output_type": "stream",
          "name": "stdout",
          "text": [
            "1.0\n"
          ]
        }
      ]
    },
    {
      "cell_type": "code",
      "source": [
        "model = KNeighborsClassifier(n_neighbors=1).fit(X_train, y_train)\n",
        "y_pred = model.predict(X_test)\n",
        "print(accuracy_score(y_test, y_pred))"
      ],
      "metadata": {
        "colab": {
          "base_uri": "https://localhost:8080/"
        },
        "id": "UHtj4xel4rMg",
        "outputId": "2a0ff590-4dd9-43fe-8ef3-c2f3ce5a60cb"
      },
      "execution_count": 103,
      "outputs": [
        {
          "output_type": "stream",
          "name": "stdout",
          "text": [
            "0.9298245614035088\n"
          ]
        }
      ]
    },
    {
      "cell_type": "code",
      "source": [
        "from sklearn.metrics import confusion_matrix\n",
        "\n",
        "model = LinearClassifier().fit(X_train, y_train)\n",
        "y_pred = model.predict(X_test)\n",
        "cm = confusion_matrix(y_test, y_pred)\n",
        "print(cm)"
      ],
      "metadata": {
        "colab": {
          "base_uri": "https://localhost:8080/"
        },
        "id": "jeTnPSEP43XD",
        "outputId": "6ca24c61-9e25-44a1-ad66-9e0b3a99c119"
      },
      "execution_count": 104,
      "outputs": [
        {
          "output_type": "stream",
          "name": "stdout",
          "text": [
            "[[39  4]\n",
            " [ 1 70]]\n"
          ]
        }
      ]
    },
    {
      "cell_type": "code",
      "source": [
        "from sklearn.metrics import ConfusionMatrixDisplay\n",
        "_ = ConfusionMatrixDisplay(cm).plot()"
      ],
      "metadata": {
        "colab": {
          "base_uri": "https://localhost:8080/",
          "height": 455
        },
        "id": "UtBGxYou5aJ7",
        "outputId": "c2b2a945-e712-4120-bcf8-0eeda14f87e4"
      },
      "execution_count": 106,
      "outputs": [
        {
          "output_type": "display_data",
          "data": {
            "text/plain": [
              "<Figure size 640x480 with 2 Axes>"
            ],
            "image/png": "[encoded data removed]"
          },
          "metadata": {}
        }
      ]
    },
    {
      "cell_type": "code",
      "source": [
        "from sklearn.metrics import classification_report\n",
        "print(classification_report(y_test, y_pred))"
      ],
      "metadata": {
        "colab": {
          "base_uri": "https://localhost:8080/"
        },
        "id": "YJV1JRgl6d1n",
        "outputId": "37cdbacf-517b-4b8a-cdfc-b6c85efe5356"
      },
      "execution_count": 107,
      "outputs": [
        {
          "output_type": "stream",
          "name": "stdout",
          "text": [
            "              precision    recall  f1-score   support\n",
            "\n",
            "           0       0.97      0.91      0.94        43\n",
            "           1       0.95      0.99      0.97        71\n",
            "\n",
            "    accuracy                           0.96       114\n",
            "   macro avg       0.96      0.95      0.95       114\n",
            "weighted avg       0.96      0.96      0.96       114\n",
            "\n"
          ]
        }
      ]
    },
    {
      "cell_type": "code",
      "source": [
        "X_train, X_test, y_train, y_test = train_test_split(X, y, test_size=0.2, random_state=43)\n",
        "model = LinearClassifier().fit(X_train, y_train)\n",
        "y_pred = model.predict(X_test)\n",
        "print(classification_report(y_test, y_pred))"
      ],
      "metadata": {
        "colab": {
          "base_uri": "https://localhost:8080/"
        },
        "id": "kXhb5guOAovP",
        "outputId": "495f1012-a501-40f7-a6fd-31cd09987002"
      },
      "execution_count": 108,
      "outputs": [
        {
          "output_type": "stream",
          "name": "stdout",
          "text": [
            "              precision    recall  f1-score   support\n",
            "\n",
            "           0       1.00      0.87      0.93        39\n",
            "           1       0.94      1.00      0.97        75\n",
            "\n",
            "    accuracy                           0.96       114\n",
            "   macro avg       0.97      0.94      0.95       114\n",
            "weighted avg       0.96      0.96      0.96       114\n",
            "\n"
          ]
        }
      ]
    },
    {
      "cell_type": "code",
      "source": [
        "X_train, X_test, y_train, y_test = train_test_split(X, y, test_size=0.2, random_state=44)\n",
        "model = LinearClassifier().fit(X_train, y_train)\n",
        "y_pred = model.predict(X_test)\n",
        "print(classification_report(y_test, y_pred))"
      ],
      "metadata": {
        "colab": {
          "base_uri": "https://localhost:8080/"
        },
        "id": "Jot6morjBb6E",
        "outputId": "f50a1123-f1e7-4700-c0e5-aed203fdb901"
      },
      "execution_count": 109,
      "outputs": [
        {
          "output_type": "stream",
          "name": "stdout",
          "text": [
            "              precision    recall  f1-score   support\n",
            "\n",
            "           0       1.00      0.97      0.99        39\n",
            "           1       0.99      1.00      0.99        75\n",
            "\n",
            "    accuracy                           0.99       114\n",
            "   macro avg       0.99      0.99      0.99       114\n",
            "weighted avg       0.99      0.99      0.99       114\n",
            "\n"
          ]
        }
      ]
    },
    {
      "cell_type": "code",
      "source": [
        "from sklearn.base import BaseEstimator, ClassifierMixin\n",
        "\n",
        "def add_bias(X):\n",
        "    bias = np.ones((X.shape[0], 1))\n",
        "    return np.concatenate((bias, X), axis=1)\n",
        "\n",
        "class LinearClassifier(BaseEstimator, ClassifierMixin):\n",
        "  def fit(self, X, y):\n",
        "    X = add_bias(X)\n",
        "    self.w = np.linalg.pinv(X) @ y\n",
        "    return self\n",
        "\n",
        "  def predict(self, X):\n",
        "    X = add_bias(X)\n",
        "    return (X @ self.w) >= 0.5"
      ],
      "metadata": {
        "id": "d6QIX7H-Cl6R"
      },
      "execution_count": 111,
      "outputs": []
    },
    {
      "cell_type": "code",
      "source": [
        "from sklearn.model_selection import cross_validate\n",
        "import pprint\n",
        "\n",
        "model = LinearClassifier()\n",
        "cv_results = cross_validate(model, X, y, cv=5, scoring='accuracy')\n",
        "pprint.pprint(cv_results)\n",
        "print(cv_results['test_score'].mean())"
      ],
      "metadata": {
        "colab": {
          "base_uri": "https://localhost:8080/"
        },
        "id": "BmhcVL_HCL2a",
        "outputId": "bda6d97d-97b9-40b2-8214-ce534b912fbb"
      },
      "execution_count": 119,
      "outputs": [
        {
          "output_type": "stream",
          "name": "stdout",
          "text": [
            "{'fit_time': array([0.0030334 , 0.00093102, 0.01439118, 0.0034678 , 0.00092316]),\n",
            " 'score_time': array([0.00078773, 0.00063872, 0.0011344 , 0.00072503, 0.00684166]),\n",
            " 'test_score': array([0.9122807 , 0.93859649, 0.96491228, 0.99122807, 0.97345133])}\n",
            "0.9560937742586555\n"
          ]
        }
      ]
    },
    {
      "cell_type": "code",
      "source": [
        "from sklearn.model_selection import KFold\n",
        "kf = KFold(n_splits=5)\n",
        "cv_results = cross_validate(model, X, y, cv=kf, scoring='accuracy')\n",
        "pprint.pprint(cv_results)\n",
        "print(cv_results['test_score'].mean())"
      ],
      "metadata": {
        "colab": {
          "base_uri": "https://localhost:8080/"
        },
        "id": "1D4d6DyjDAwE",
        "outputId": "8ce1b03a-9ddf-4da2-a74d-7b48b5111dd7"
      },
      "execution_count": 120,
      "outputs": [
        {
          "output_type": "stream",
          "name": "stdout",
          "text": [
            "{'fit_time': array([0.0029273 , 0.00087762, 0.00078845, 0.00082445, 0.00095963]),\n",
            " 'score_time': array([0.00079203, 0.00056839, 0.00067925, 0.0028398 , 0.00057578]),\n",
            " 'test_score': array([0.9122807 , 0.93859649, 0.96491228, 0.99122807, 0.97345133])}\n",
            "0.9560937742586555\n"
          ]
        }
      ]
    },
    {
      "cell_type": "code",
      "source": [
        "kf = KFold(n_splits=5, shuffle=True)\n",
        "cv_results = cross_validate(model, X, y, cv=kf, scoring='accuracy')\n",
        "pprint.pprint(cv_results)\n",
        "print(cv_results['test_score'].mean())"
      ],
      "metadata": {
        "colab": {
          "base_uri": "https://localhost:8080/"
        },
        "id": "ubJIY-ByEBWB",
        "outputId": "248f8596-9be0-4450-96aa-66f1e9faed85"
      },
      "execution_count": 146,
      "outputs": [
        {
          "output_type": "stream",
          "name": "stdout",
          "text": [
            "{'fit_time': array([0.20901942, 0.0596993 , 0.00100422, 0.01606369, 0.00820231]),\n",
            " 'score_time': array([0.00139141, 0.00098729, 0.00070667, 0.00104928, 0.00096464]),\n",
            " 'test_score': array([0.94736842, 0.95614035, 0.93859649, 0.96491228, 0.96460177])}\n",
            "0.9543238627542306\n"
          ]
        }
      ]
    },
    {
      "cell_type": "code",
      "source": [
        "from sklearn.model_selection import StratifiedKFold\n",
        "kf = StratifiedKFold(n_splits=5, shuffle=True)\n",
        "cv_results = cross_validate(model, X, y, cv=kf, scoring='accuracy')\n",
        "pprint.pprint(cv_results)\n",
        "print(cv_results['test_score'].mean())"
      ],
      "metadata": {
        "colab": {
          "base_uri": "https://localhost:8080/"
        },
        "id": "QPqRcM7yEUU3",
        "outputId": "d1e2d06e-307c-4c13-9642-83d8185277f0"
      },
      "execution_count": 157,
      "outputs": [
        {
          "output_type": "stream",
          "name": "stdout",
          "text": [
            "{'fit_time': array([0.00255322, 0.00093341, 0.00086212, 0.00129342, 0.00089478]),\n",
            " 'score_time': array([0.00078154, 0.00065231, 0.00057292, 0.00071311, 0.00059628]),\n",
            " 'test_score': array([0.96491228, 0.93859649, 0.93859649, 0.98245614, 0.94690265])}\n",
            "0.9542928116752056\n"
          ]
        }
      ]
    },
    {
      "cell_type": "code",
      "source": [
        "from sklearn.model_selection import RepeatedStratifiedKFold\n",
        "kf = RepeatedStratifiedKFold(n_splits=5, n_repeats=10)\n",
        "model = LinearClassifier()\n",
        "cv_results1 = cross_validate(model, X, y, cv=kf, scoring='accuracy')\n",
        "pprint.pprint(cv_results1['test_score'])\n",
        "print(cv_results1['test_score'].mean())"
      ],
      "metadata": {
        "colab": {
          "base_uri": "https://localhost:8080/"
        },
        "id": "1db0Em-DEjyK",
        "outputId": "3fdedce7-bd90-4a9c-d46b-b00bf4ea57af"
      },
      "execution_count": 165,
      "outputs": [
        {
          "output_type": "stream",
          "name": "stdout",
          "text": [
            "array([0.94736842, 0.9122807 , 0.95614035, 0.99122807, 0.9380531 ,\n",
            "       0.96491228, 0.97368421, 0.95614035, 0.96491228, 0.92920354,\n",
            "       0.99122807, 0.96491228, 0.92105263, 0.96491228, 0.94690265,\n",
            "       0.93859649, 0.92982456, 0.97368421, 0.97368421, 0.96460177,\n",
            "       0.94736842, 0.96491228, 0.95614035, 0.96491228, 0.96460177,\n",
            "       0.92982456, 0.96491228, 1.        , 0.93859649, 0.94690265,\n",
            "       0.97368421, 0.93859649, 0.94736842, 0.93859649, 0.97345133,\n",
            "       0.93859649, 0.95614035, 0.96491228, 0.95614035, 0.97345133,\n",
            "       0.97368421, 0.95614035, 0.95614035, 0.96491228, 0.9380531 ,\n",
            "       0.96491228, 0.92105263, 0.94736842, 0.96491228, 0.95575221])\n",
            "0.9557071883247942\n"
          ]
        }
      ]
    },
    {
      "cell_type": "code",
      "source": [
        "from sklearn.ensemble import RandomForestClassifier\n",
        "model = RandomForestClassifier()\n",
        "kf = RepeatedStratifiedKFold(n_splits=5, n_repeats=10)\n",
        "cv_results2 = cross_validate(model, X, y, cv=kf, scoring='accuracy')\n",
        "pprint.pprint(cv_results2['test_score'])\n",
        "print(cv_results2['test_score'].mean())"
      ],
      "metadata": {
        "colab": {
          "base_uri": "https://localhost:8080/"
        },
        "id": "xKymdarSFBaC",
        "outputId": "93144213-76a6-425d-a8c9-e781ca663b39"
      },
      "execution_count": 166,
      "outputs": [
        {
          "output_type": "stream",
          "name": "stdout",
          "text": [
            "array([0.92982456, 0.98245614, 0.95614035, 0.98245614, 0.95575221,\n",
            "       0.94736842, 0.95614035, 0.99122807, 0.95614035, 0.95575221,\n",
            "       0.94736842, 0.95614035, 0.96491228, 0.96491228, 0.95575221,\n",
            "       0.95614035, 0.96491228, 0.93859649, 0.95614035, 0.97345133,\n",
            "       0.95614035, 0.96491228, 0.94736842, 0.97368421, 0.98230088,\n",
            "       0.94736842, 0.98245614, 0.98245614, 0.95614035, 0.92035398,\n",
            "       0.96491228, 0.96491228, 0.97368421, 0.96491228, 0.9380531 ,\n",
            "       0.94736842, 0.92982456, 0.95614035, 0.96491228, 0.98230088,\n",
            "       0.97368421, 0.99122807, 0.93859649, 0.94736842, 0.9380531 ,\n",
            "       0.95614035, 0.96491228, 0.95614035, 0.97368421, 0.99115044])\n",
            "0.9604548983077161\n"
          ]
        }
      ]
    },
    {
      "cell_type": "code",
      "source": [
        "from scipy.stats import ttest_ind\n",
        "\n",
        "t_statistic, p_value = ttest_ind(cv_results1['test_score'], cv_results2['test_score'])\n",
        "print(\"t-statistic:\", t_statistic)\n",
        "print(\"p-value:\", p_value)\n",
        "\n",
        "alpha = 0.05\n",
        "if p_value < alpha:\n",
        "    print(\"Reject the null hypothesis: There is a significant difference between the models.\")\n",
        "else:\n",
        "    print(\"Fail to reject the null hypothesis: There is no significant difference between the models.\")"
      ],
      "metadata": {
        "colab": {
          "base_uri": "https://localhost:8080/"
        },
        "id": "U1AGghejFdSz",
        "outputId": "dc9520c1-0953-49bf-e3ff-c4a0415a74c5"
      },
      "execution_count": 167,
      "outputs": [
        {
          "output_type": "stream",
          "name": "stdout",
          "text": [
            "t-statistic: -1.3524946045488562\n",
            "p-value: 0.1793297020043074\n",
            "Fail to reject the null hypothesis: There is no significant difference between the models.\n"
          ]
        }
      ]
    }
  ]
}
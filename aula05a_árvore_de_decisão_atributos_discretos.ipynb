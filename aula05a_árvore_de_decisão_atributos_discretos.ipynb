{
  "nbformat": 4,
  "nbformat_minor": 0,
  "metadata": {
    "colab": {
      "provenance": [],
      "authorship_tag": "ABX9TyMrLE23sf83it+XkrmH1JF1",
      "include_colab_link": true
    },
    "kernelspec": {
      "name": "python3",
      "display_name": "Python 3"
    },
    "language_info": {
      "name": "python"
    }
  },
  "cells": [
    {
      "cell_type": "markdown",
      "metadata": {
        "id": "view-in-github",
        "colab_type": "text"
      },
      "source": [
        "<a href=\"https://colab.research.google.com/github/fboldt/aulasml/blob/master/aula05a_%C3%A1rvore_de_decis%C3%A3o_atributos_discretos.ipynb\" target=\"_parent\"><img src=\"https://colab.research.google.com/assets/colab-badge.svg\" alt=\"Open In Colab\"/></a>"
      ]
    },
    {
      "cell_type": "code",
      "execution_count": 1,
      "metadata": {
        "colab": {
          "base_uri": "https://localhost:8080/"
        },
        "id": "7l5JxOT_qRKe",
        "outputId": "e8bda4aa-f0f0-46dd-da9f-98204ff4d789"
      },
      "outputs": [
        {
          "output_type": "stream",
          "name": "stdout",
          "text": [
            "Collecting ucimlrepo\n",
            "  Downloading ucimlrepo-0.0.7-py3-none-any.whl.metadata (5.5 kB)\n",
            "Requirement already satisfied: pandas>=1.0.0 in /usr/local/lib/python3.12/dist-packages (from ucimlrepo) (2.2.2)\n",
            "Requirement already satisfied: certifi>=2020.12.5 in /usr/local/lib/python3.12/dist-packages (from ucimlrepo) (2025.8.3)\n",
            "Requirement already satisfied: numpy>=1.26.0 in /usr/local/lib/python3.12/dist-packages (from pandas>=1.0.0->ucimlrepo) (2.0.2)\n",
            "Requirement already satisfied: python-dateutil>=2.8.2 in /usr/local/lib/python3.12/dist-packages (from pandas>=1.0.0->ucimlrepo) (2.9.0.post0)\n",
            "Requirement already satisfied: pytz>=2020.1 in /usr/local/lib/python3.12/dist-packages (from pandas>=1.0.0->ucimlrepo) (2025.2)\n",
            "Requirement already satisfied: tzdata>=2022.7 in /usr/local/lib/python3.12/dist-packages (from pandas>=1.0.0->ucimlrepo) (2025.2)\n",
            "Requirement already satisfied: six>=1.5 in /usr/local/lib/python3.12/dist-packages (from python-dateutil>=2.8.2->pandas>=1.0.0->ucimlrepo) (1.17.0)\n",
            "Downloading ucimlrepo-0.0.7-py3-none-any.whl (8.0 kB)\n",
            "Installing collected packages: ucimlrepo\n",
            "Successfully installed ucimlrepo-0.0.7\n"
          ]
        }
      ],
      "source": [
        "!pip install ucimlrepo"
      ]
    },
    {
      "cell_type": "code",
      "source": [
        "from ucimlrepo import fetch_ucirepo\n",
        "\n",
        "car_evaluation = fetch_ucirepo(id=19)\n",
        "\n",
        "X = car_evaluation.data.features.to_numpy()\n",
        "y = car_evaluation.data.targets.to_numpy()[:,0]\n",
        "\n",
        "print(car_evaluation.variables)"
      ],
      "metadata": {
        "colab": {
          "base_uri": "https://localhost:8080/"
        },
        "id": "mON5NOQJrhbZ",
        "outputId": "2055116c-cd8e-4240-86a1-6db2c83292f3"
      },
      "execution_count": 7,
      "outputs": [
        {
          "output_type": "stream",
          "name": "stdout",
          "text": [
            "       name     role         type demographic  \\\n",
            "0    buying  Feature  Categorical        None   \n",
            "1     maint  Feature  Categorical        None   \n",
            "2     doors  Feature  Categorical        None   \n",
            "3   persons  Feature  Categorical        None   \n",
            "4  lug_boot  Feature  Categorical        None   \n",
            "5    safety  Feature  Categorical        None   \n",
            "6     class   Target  Categorical        None   \n",
            "\n",
            "                                         description units missing_values  \n",
            "0                                       buying price  None             no  \n",
            "1                           price of the maintenance  None             no  \n",
            "2                                    number of doors  None             no  \n",
            "3              capacity in terms of persons to carry  None             no  \n",
            "4                           the size of luggage boot  None             no  \n",
            "5                        estimated safety of the car  None             no  \n",
            "6  evaulation level (unacceptable, acceptable, go...  None             no  \n"
          ]
        }
      ]
    },
    {
      "cell_type": "code",
      "source": [
        "from sklearn.model_selection import train_test_split\n",
        "\n",
        "X_train, X_test, y_train, y_test = train_test_split(X, y, test_size=0.2, random_state=42, stratify=y)"
      ],
      "metadata": {
        "id": "F8ODrwyi21t1"
      },
      "execution_count": 97,
      "outputs": []
    },
    {
      "cell_type": "code",
      "source": [
        "set(y)"
      ],
      "metadata": {
        "colab": {
          "base_uri": "https://localhost:8080/"
        },
        "id": "5tuLsy0WsRku",
        "outputId": "a086baee-f3e8-402b-efaf-ed532bb80303"
      },
      "execution_count": 98,
      "outputs": [
        {
          "output_type": "execute_result",
          "data": {
            "text/plain": [
              "{'acc', 'good', 'unacc', 'vgood'}"
            ]
          },
          "metadata": {},
          "execution_count": 98
        }
      ]
    },
    {
      "cell_type": "code",
      "source": [
        "combinations = 1\n",
        "for i in range(X.shape[1]):\n",
        "  values = set(X[:,i])\n",
        "  combinations *= len(values)\n",
        "  print(f\"{i} - {car_evaluation.variables['name'][i]}:\\t{values}\")\n",
        "print(combinations)"
      ],
      "metadata": {
        "colab": {
          "base_uri": "https://localhost:8080/"
        },
        "id": "bXAFPGeMsucL",
        "outputId": "4cbbec1c-890d-49d9-c919-408eafa0516f"
      },
      "execution_count": 99,
      "outputs": [
        {
          "output_type": "stream",
          "name": "stdout",
          "text": [
            "0 - buying:\t{'high', 'vhigh', 'low', 'med'}\n",
            "1 - maint:\t{'high', 'vhigh', 'low', 'med'}\n",
            "2 - doors:\t{'4', '2', '5more', '3'}\n",
            "3 - persons:\t{'4', '2', 'more'}\n",
            "4 - lug_boot:\t{'small', 'big', 'med'}\n",
            "5 - safety:\t{'high', 'low', 'med'}\n",
            "1728\n"
          ]
        }
      ]
    },
    {
      "cell_type": "code",
      "source": [
        "len(y)"
      ],
      "metadata": {
        "colab": {
          "base_uri": "https://localhost:8080/"
        },
        "id": "H8EbS3b5t1Ul",
        "outputId": "ec9ec6e7-0d18-44d2-c6ff-978105b42b02"
      },
      "execution_count": 100,
      "outputs": [
        {
          "output_type": "execute_result",
          "data": {
            "text/plain": [
              "1728"
            ]
          },
          "metadata": {},
          "execution_count": 100
        }
      ]
    },
    {
      "cell_type": "code",
      "source": [
        "from sklearn.base import BaseEstimator, ClassifierMixin\n",
        "from sklearn.metrics import accuracy_score\n",
        "from collections import Counter\n",
        "\n",
        "def most_common(lst):\n",
        "  data = Counter(lst)\n",
        "  return data.most_common(1)[0][0]\n",
        "\n",
        "class ZeroR(BaseEstimator, ClassifierMixin):\n",
        "  def fit(self, X, y):\n",
        "    self.answer = most_common(y)\n",
        "    return self\n",
        "  def predict(self, X):\n",
        "    return [self.answer] * len(X)\n",
        "\n",
        "model = ZeroR()\n",
        "model.fit(X, y)\n",
        "y_pred = model.predict(X)\n",
        "print(accuracy_score(y, y_pred))"
      ],
      "metadata": {
        "colab": {
          "base_uri": "https://localhost:8080/"
        },
        "id": "mZERvp4tu_ct",
        "outputId": "84d8534b-0311-43f4-ee16-29a617e0804f"
      },
      "execution_count": 101,
      "outputs": [
        {
          "output_type": "stream",
          "name": "stdout",
          "text": [
            "0.7002314814814815\n"
          ]
        }
      ]
    },
    {
      "cell_type": "code",
      "source": [
        "model = ZeroR()\n",
        "model.fit(X_train, y_train)\n",
        "y_pred = model.predict(X_test)\n",
        "print(accuracy_score(y_test, y_pred))"
      ],
      "metadata": {
        "colab": {
          "base_uri": "https://localhost:8080/"
        },
        "id": "yTGZv_sp27P3",
        "outputId": "3279e235-1b37-43b3-8464-49a50fdecce3"
      },
      "execution_count": 102,
      "outputs": [
        {
          "output_type": "stream",
          "name": "stdout",
          "text": [
            "0.6994219653179191\n"
          ]
        }
      ]
    },
    {
      "cell_type": "code",
      "source": [
        "most_common(y)"
      ],
      "metadata": {
        "colab": {
          "base_uri": "https://localhost:8080/",
          "height": 36
        },
        "id": "FbY1hMVPxxs_",
        "outputId": "6cb12ce5-383a-43ea-919d-b2453ff589d9"
      },
      "execution_count": 103,
      "outputs": [
        {
          "output_type": "execute_result",
          "data": {
            "text/plain": [
              "'unacc'"
            ],
            "application/vnd.google.colaboratory.intrinsic+json": {
              "type": "string"
            }
          },
          "metadata": {},
          "execution_count": 103
        }
      ]
    },
    {
      "cell_type": "code",
      "source": [
        "car_evaluation.variables['description'][6]"
      ],
      "metadata": {
        "colab": {
          "base_uri": "https://localhost:8080/",
          "height": 36
        },
        "id": "XHv-0RY1x4_U",
        "outputId": "656c2df4-03c7-4cf3-8dce-ecabf7ee638d"
      },
      "execution_count": 104,
      "outputs": [
        {
          "output_type": "execute_result",
          "data": {
            "text/plain": [
              "'evaulation level (unacceptable, acceptable, good, very good)'"
            ],
            "application/vnd.google.colaboratory.intrinsic+json": {
              "type": "string"
            }
          },
          "metadata": {},
          "execution_count": 104
        }
      ]
    },
    {
      "cell_type": "code",
      "source": [
        "import numpy as np\n",
        "\n",
        "# apenas uma característica\n",
        "class DecisionTree(BaseEstimator, ClassifierMixin):\n",
        "  def __init__(self, feature=0):\n",
        "    self.feature = feature\n",
        "\n",
        "  def fit(self, X, y):\n",
        "    self.value = list(set(X[:,self.feature]))[0]\n",
        "    equals = X[:,self.feature] == self.value\n",
        "    if sum(equals)>0 and sum(~equals)>0:\n",
        "      self.equals_tree = DecisionTree(self.feature).fit(X[equals], y[equals])\n",
        "      self.not_equals_tree = DecisionTree(self.feature).fit(X[~equals], y[~equals])\n",
        "    else:\n",
        "      self.answer = most_common(y)\n",
        "    return self\n",
        "\n",
        "  def predict(self, X):\n",
        "    if hasattr(self, 'answer'):\n",
        "      return np.array([self.answer] * len(X))\n",
        "    else:\n",
        "      equals = X[:,self.feature] == self.value\n",
        "      return np.where(equals, self.equals_tree.predict(X), self.not_equals_tree.predict(X))\n",
        "\n",
        "model = DecisionTree(0)\n",
        "model.fit(X, y)\n",
        "y_pred = model.predict(X)\n",
        "print(accuracy_score(y, y_pred))"
      ],
      "metadata": {
        "colab": {
          "base_uri": "https://localhost:8080/"
        },
        "id": "z_7iTqYkyWM4",
        "outputId": "715d6511-8e1c-4ffb-d43e-3e3cc1639ad9"
      },
      "execution_count": 105,
      "outputs": [
        {
          "output_type": "stream",
          "name": "stdout",
          "text": [
            "0.7002314814814815\n"
          ]
        }
      ]
    },
    {
      "cell_type": "code",
      "source": [
        "def print_tree(tree, depth=0):\n",
        "  if hasattr(tree, 'answer'):\n",
        "    print('\\t' * depth + str(tree.answer))\n",
        "  else:\n",
        "    print('\\t' * depth + str(tree.value))\n",
        "    print_tree(tree.equals_tree, depth+1)\n",
        "    print_tree(tree.not_equals_tree, depth+1)\n",
        "\n",
        "print_tree(model)"
      ],
      "metadata": {
        "colab": {
          "base_uri": "https://localhost:8080/"
        },
        "id": "E8ozXw4n2dtI",
        "outputId": "a97bf6e2-678b-49f4-caa1-8948b71b3e4a"
      },
      "execution_count": 106,
      "outputs": [
        {
          "output_type": "stream",
          "name": "stdout",
          "text": [
            "high\n",
            "\tunacc\n",
            "\tlow\n",
            "\t\tunacc\n",
            "\t\tvhigh\n",
            "\t\t\tunacc\n",
            "\t\t\tunacc\n"
          ]
        }
      ]
    },
    {
      "cell_type": "code",
      "source": [
        "def gini(y):\n",
        "  labels = np.unique(y)\n",
        "  tmp = 0\n",
        "  for label in labels:\n",
        "    p_label = np.mean(y == label)\n",
        "    tmp += p_label**2\n",
        "  return 1 - tmp\n",
        "\n",
        "y_tmp = y[:]\n",
        "gini_value = gini(y_tmp)\n",
        "print(gini_value)"
      ],
      "metadata": {
        "colab": {
          "base_uri": "https://localhost:8080/"
        },
        "id": "YOhmv2NL4IFP",
        "outputId": "66e65c50-56e9-42c7-a3d3-7d9f31044e65"
      },
      "execution_count": 107,
      "outputs": [
        {
          "output_type": "stream",
          "name": "stdout",
          "text": [
            "0.457283763074417\n"
          ]
        }
      ]
    },
    {
      "cell_type": "code",
      "source": [
        "def impurity_value(x, y, value, impurity_function=gini):\n",
        "  equals = x == value\n",
        "  imp_equals = impurity_function(y[equals])\n",
        "  imp_not_equals = impurity_function(y[~equals])\n",
        "  return (sum(equals) / len(y)) * imp_equals + (sum(~equals) / len(y)) * imp_not_equals\n",
        "\n",
        "impurity_value(X[:,0], y, 'vhigh')"
      ],
      "metadata": {
        "colab": {
          "base_uri": "https://localhost:8080/"
        },
        "id": "cLHwqKuV52SQ",
        "outputId": "8d154d7e-a874-4627-ae2e-10dd1048f820"
      },
      "execution_count": 108,
      "outputs": [
        {
          "output_type": "execute_result",
          "data": {
            "text/plain": [
              "np.float64(0.44934645776177407)"
            ]
          },
          "metadata": {},
          "execution_count": 108
        }
      ]
    },
    {
      "cell_type": "code",
      "source": [
        "def best_split(x, y, impurity_function=gini):\n",
        "  best_value = None\n",
        "  best_impurity = float('inf')\n",
        "  for value in set(x):\n",
        "    impurity = impurity_value(x, y, value, impurity_function)\n",
        "    if impurity < best_impurity:\n",
        "      best_impurity = impurity\n",
        "      best_value = value\n",
        "  return best_value\n",
        "\n",
        "best_split(X[:,0], y)"
      ],
      "metadata": {
        "colab": {
          "base_uri": "https://localhost:8080/",
          "height": 36
        },
        "id": "kuIZ_AOo6we8",
        "outputId": "87b3c3b7-9027-49e2-df06-2e45f8452dd7"
      },
      "execution_count": 109,
      "outputs": [
        {
          "output_type": "execute_result",
          "data": {
            "text/plain": [
              "'vhigh'"
            ],
            "application/vnd.google.colaboratory.intrinsic+json": {
              "type": "string"
            }
          },
          "metadata": {},
          "execution_count": 109
        }
      ]
    },
    {
      "cell_type": "code",
      "source": [
        "def best_feature(X, y, impurity_function=gini):\n",
        "  best_feature = None\n",
        "  best_impurity = float('inf')\n",
        "  for feature in range(X.shape[1]):\n",
        "    value = best_split(X[:,feature], y, impurity_function)\n",
        "    impurity = impurity_value(X[:,feature], y, value, impurity_function)\n",
        "    if impurity < best_impurity:\n",
        "      best_impurity = impurity\n",
        "      best_feature = feature\n",
        "      best_value = value\n",
        "  return best_feature, best_value, best_impurity\n",
        "\n",
        "best_feature(X, y)"
      ],
      "metadata": {
        "colab": {
          "base_uri": "https://localhost:8080/"
        },
        "id": "oat6-6J47HXr",
        "outputId": "e84cbcef-0cd9-4015-ae71-cb92e996c914"
      },
      "execution_count": 110,
      "outputs": [
        {
          "output_type": "execute_result",
          "data": {
            "text/plain": [
              "(3, '2', np.float64(0.38615712609310704))"
            ]
          },
          "metadata": {},
          "execution_count": 110
        }
      ]
    },
    {
      "cell_type": "code",
      "source": [
        "class DecisionTree(BaseEstimator, ClassifierMixin):\n",
        "  def fit(self, X, y):\n",
        "    self.feature, self.value, self.impurity = best_feature(X, y)\n",
        "    equals = X[:,self.feature] == self.value\n",
        "    if sum(equals)>0 and sum(~equals)>0:\n",
        "      self.equals_tree = DecisionTree().fit(X[equals], y[equals])\n",
        "      self.not_equals_tree = DecisionTree().fit(X[~equals], y[~equals])\n",
        "    else:\n",
        "      self.answer = most_common(y)\n",
        "    return self\n",
        "\n",
        "  def predict(self, X):\n",
        "    if hasattr(self, 'answer'):\n",
        "      return np.array([self.answer] * len(X))\n",
        "    else:\n",
        "      equals = X[:,self.feature] == self.value\n",
        "      return np.where(equals, self.equals_tree.predict(X), self.not_equals_tree.predict(X))\n",
        "\n",
        "model = DecisionTree()\n",
        "model.fit(X, y)\n",
        "y_pred = model.predict(X)\n",
        "print(accuracy_score(y, y_pred))"
      ],
      "metadata": {
        "colab": {
          "base_uri": "https://localhost:8080/"
        },
        "id": "-2rg6FUi7-dk",
        "outputId": "a6a6ca02-08f3-470e-ee3f-b9b99ea1c534"
      },
      "execution_count": 111,
      "outputs": [
        {
          "output_type": "stream",
          "name": "stdout",
          "text": [
            "1.0\n"
          ]
        }
      ]
    },
    {
      "cell_type": "code",
      "source": [
        "# print_tree(model)"
      ],
      "metadata": {
        "id": "TEbr6HPv81c0"
      },
      "execution_count": 112,
      "outputs": []
    },
    {
      "cell_type": "code",
      "source": [
        "model = DecisionTree()\n",
        "model.fit(X_train, y_train)\n",
        "y_pred = model.predict(X_test)\n",
        "print(accuracy_score(y_test, y_pred))"
      ],
      "metadata": {
        "colab": {
          "base_uri": "https://localhost:8080/"
        },
        "id": "pE1pfF-s8_He",
        "outputId": "71ef2b31-4c26-4ea9-f4c5-d13cb5f84659"
      },
      "execution_count": 113,
      "outputs": [
        {
          "output_type": "stream",
          "name": "stdout",
          "text": [
            "0.9710982658959537\n"
          ]
        }
      ]
    },
    {
      "cell_type": "code",
      "source": [
        "from sklearn.model_selection import cross_validate, StratifiedShuffleSplit\n",
        "\n",
        "scores = cross_validate(model, X, y, cv=StratifiedShuffleSplit(n_splits=5, random_state=42), scoring='accuracy')\n",
        "print(scores['test_score'])\n",
        "print(np.mean(scores['test_score']))"
      ],
      "metadata": {
        "colab": {
          "base_uri": "https://localhost:8080/"
        },
        "id": "AucJTVsP9YnL",
        "outputId": "7c99c1a6-18c5-48fb-b7a9-8afba83dcf59"
      },
      "execution_count": 114,
      "outputs": [
        {
          "output_type": "stream",
          "name": "stdout",
          "text": [
            "[0.97687861 0.98265896 0.96531792 0.97109827 0.97687861]\n",
            "0.9745664739884393\n"
          ]
        }
      ]
    },
    {
      "cell_type": "code",
      "source": [
        "class DecisionTree(BaseEstimator, ClassifierMixin):\n",
        "  def __init__(self, max_depth=None):\n",
        "    self.max_depth = max_depth\n",
        "\n",
        "  def max_depth_reached(self):\n",
        "    return not (self.max_depth is None or self.max_depth > 0)\n",
        "\n",
        "  def fit(self, X, y):\n",
        "    self.feature, self.value, self.impurity = best_feature(X, y)\n",
        "    equals = X[:,self.feature] == self.value\n",
        "    if sum(equals)>0 and sum(~equals)>0 and not self.max_depth_reached():\n",
        "      max_depth = None if self.max_depth is None else self.max_depth - 1\n",
        "      self.equals_tree = DecisionTree(max_depth).fit(X[equals], y[equals])\n",
        "      self.not_equals_tree = DecisionTree(max_depth).fit(X[~equals], y[~equals])\n",
        "    else:\n",
        "      self.answer = most_common(y)\n",
        "    return self\n",
        "\n",
        "  def predict(self, X):\n",
        "    if hasattr(self, 'answer'):\n",
        "      return np.array([self.answer] * len(X))\n",
        "    else:\n",
        "      equals = X[:,self.feature] == self.value\n",
        "      return np.where(equals, self.equals_tree.predict(X), self.not_equals_tree.predict(X))\n",
        "\n",
        "model = DecisionTree(3)\n",
        "model.fit(X, y)\n",
        "y_pred = model.predict(X)\n",
        "print(accuracy_score(y, y_pred))"
      ],
      "metadata": {
        "colab": {
          "base_uri": "https://localhost:8080/"
        },
        "id": "1T8sP4bM9tMV",
        "outputId": "ecb60418-8003-42ec-a402-4cf7c960b56d"
      },
      "execution_count": 115,
      "outputs": [
        {
          "output_type": "stream",
          "name": "stdout",
          "text": [
            "0.8055555555555556\n"
          ]
        }
      ]
    },
    {
      "cell_type": "code",
      "source": [
        "print_tree(model)"
      ],
      "metadata": {
        "colab": {
          "base_uri": "https://localhost:8080/"
        },
        "id": "Hb3Z9MSW_kJ0",
        "outputId": "a888b0cd-9ec3-4d8a-a7dc-cf8748fc35da"
      },
      "execution_count": 116,
      "outputs": [
        {
          "output_type": "stream",
          "name": "stdout",
          "text": [
            "2\n",
            "\thigh\n",
            "\t\tunacc\n",
            "\t\tlow\n",
            "\t\t\tunacc\n",
            "\t\t\tunacc\n",
            "\tlow\n",
            "\t\thigh\n",
            "\t\t\tunacc\n",
            "\t\t\tunacc\n",
            "\t\tvhigh\n",
            "\t\t\tunacc\n",
            "\t\t\tacc\n"
          ]
        }
      ]
    },
    {
      "cell_type": "code",
      "source": [
        "scores = cross_validate(model, X, y, cv=StratifiedShuffleSplit(n_splits=5, random_state=42), scoring='accuracy')\n",
        "print(scores['test_score'])\n",
        "print(np.mean(scores['test_score']))"
      ],
      "metadata": {
        "colab": {
          "base_uri": "https://localhost:8080/"
        },
        "id": "SGpFtG06_CxQ",
        "outputId": "6e06b3fc-6e49-4b72-e94b-c3ef6460de8f"
      },
      "execution_count": 117,
      "outputs": [
        {
          "output_type": "stream",
          "name": "stdout",
          "text": [
            "[0.79768786 0.76878613 0.8150289  0.79768786 0.79190751]\n",
            "0.7942196531791907\n"
          ]
        }
      ]
    },
    {
      "cell_type": "code",
      "source": [
        "class DecisionTree(BaseEstimator, ClassifierMixin):\n",
        "  def __init__(self, max_depth=None, min_samples_split=2):\n",
        "    self.max_depth = max_depth\n",
        "    self.min_samples_split = min_samples_split\n",
        "\n",
        "  def max_depth_reached(self):\n",
        "    return not (self.max_depth is None or self.max_depth > 0)\n",
        "\n",
        "  def fit(self, X, y):\n",
        "    self.feature, self.value, self.impurity = best_feature(X, y)\n",
        "    equals = X[:,self.feature] == self.value\n",
        "    if sum(equals)>self.min_samples_split and sum(~equals)>self.min_samples_split and not self.max_depth_reached():\n",
        "      max_depth = None if self.max_depth is None else self.max_depth - 1\n",
        "      self.equals_tree = DecisionTree(max_depth, self.min_samples_split).fit(X[equals], y[equals])\n",
        "      self.not_equals_tree = DecisionTree(max_depth, self.min_samples_split).fit(X[~equals], y[~equals])\n",
        "    else:\n",
        "      self.answer = most_common(y)\n",
        "    return self\n",
        "\n",
        "  def predict(self, X):\n",
        "    if hasattr(self, 'answer'):\n",
        "      return np.array([self.answer] * len(X))\n",
        "    else:\n",
        "      equals = X[:,self.feature] == self.value\n",
        "      return np.where(equals, self.equals_tree.predict(X), self.not_equals_tree.predict(X))\n",
        "\n",
        "model = DecisionTree(None, 10)\n",
        "model.fit(X, y)\n",
        "y_pred = model.predict(X)\n",
        "print(accuracy_score(y, y_pred))"
      ],
      "metadata": {
        "colab": {
          "base_uri": "https://localhost:8080/"
        },
        "id": "ZXOQMnoJ_2iW",
        "outputId": "b821c788-93ec-4468-b389-ab4d10be068b"
      },
      "execution_count": 118,
      "outputs": [
        {
          "output_type": "stream",
          "name": "stdout",
          "text": [
            "0.9502314814814815\n"
          ]
        }
      ]
    },
    {
      "cell_type": "code",
      "source": [
        "# print_tree(model)"
      ],
      "metadata": {
        "id": "koz_tCnxAd2Z"
      },
      "execution_count": 119,
      "outputs": []
    },
    {
      "cell_type": "code",
      "source": [
        "scores = cross_validate(model, X, y, cv=StratifiedShuffleSplit(n_splits=5, random_state=42), scoring='accuracy')\n",
        "print(scores['test_score'])\n",
        "print(np.mean(scores['test_score']))"
      ],
      "metadata": {
        "colab": {
          "base_uri": "https://localhost:8080/"
        },
        "id": "FYY7PC1uAkir",
        "outputId": "469e4fcf-2634-4fe4-f161-0b61f83b85af"
      },
      "execution_count": 120,
      "outputs": [
        {
          "output_type": "stream",
          "name": "stdout",
          "text": [
            "[0.95953757 0.93641618 0.93641618 0.94797688 0.91907514]\n",
            "0.9398843930635838\n"
          ]
        }
      ]
    },
    {
      "cell_type": "code",
      "source": [
        "model = DecisionTree()\n",
        "scores = cross_validate(model, X, y, cv=StratifiedShuffleSplit(n_splits=5, random_state=42), scoring='accuracy')\n",
        "print(scores['test_score'])\n",
        "print(np.mean(scores['test_score']))"
      ],
      "metadata": {
        "colab": {
          "base_uri": "https://localhost:8080/"
        },
        "id": "pGpqV9FyCCWG",
        "outputId": "96fee104-94ab-4c22-89fc-2d18bdd62849"
      },
      "execution_count": 121,
      "outputs": [
        {
          "output_type": "stream",
          "name": "stdout",
          "text": [
            "[0.98265896 0.97687861 0.97687861 0.94219653 0.93641618]\n",
            "0.9630057803468208\n"
          ]
        }
      ]
    }
  ]
}
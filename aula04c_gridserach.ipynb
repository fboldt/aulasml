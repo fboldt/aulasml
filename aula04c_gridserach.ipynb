{
  "nbformat": 4,
  "nbformat_minor": 0,
  "metadata": {
    "colab": {
      "provenance": [],
      "authorship_tag": "ABX9TyPyifJ8x5hBqgf6AzPU+CAa",
      "include_colab_link": true
    },
    "kernelspec": {
      "name": "python3",
      "display_name": "Python 3"
    },
    "language_info": {
      "name": "python"
    }
  },
  "cells": [
    {
      "cell_type": "markdown",
      "metadata": {
        "id": "view-in-github",
        "colab_type": "text"
      },
      "source": [
        "<a href=\"https://colab.research.google.com/github/fboldt/aulasml/blob/master/aula04c_gridserach.ipynb\" target=\"_parent\"><img src=\"https://colab.research.google.com/assets/colab-badge.svg\" alt=\"Open In Colab\"/></a>"
      ]
    },
    {
      "cell_type": "code",
      "execution_count": 1,
      "metadata": {
        "colab": {
          "base_uri": "https://localhost:8080/"
        },
        "id": "8XJJ-If59yoT",
        "outputId": "602900ef-12d1-4f6b-a5f9-39bab9224abd"
      },
      "outputs": [
        {
          "output_type": "stream",
          "name": "stdout",
          "text": [
            "(20640, 8) (20640,)\n"
          ]
        }
      ],
      "source": [
        "from sklearn.datasets import fetch_california_housing\n",
        "X, y = fetch_california_housing(return_X_y=True)\n",
        "print(X.shape, y.shape)"
      ]
    },
    {
      "cell_type": "code",
      "source": [
        "from sklearn.model_selection import train_test_split\n",
        "X_train, X_test, y_train, y_test = train_test_split(X, y, random_state=42)"
      ],
      "metadata": {
        "id": "wgBJhTdn-Li0"
      },
      "execution_count": 2,
      "outputs": []
    },
    {
      "cell_type": "code",
      "source": [
        "from sklearn.neighbors import KNeighborsRegressor\n",
        "from sklearn.model_selection import cross_validate, RepeatedKFold\n",
        "from sklearn.metrics import mean_squared_error, make_scorer\n",
        "from pprint import pprint\n",
        "\n",
        "model = KNeighborsRegressor()\n",
        "scores = cross_validate(model, X_train, y_train,\n",
        "                        cv=RepeatedKFold(random_state=42),\n",
        "                        scoring=make_scorer(mean_squared_error,\n",
        "                                            greater_is_better=False))\n",
        "pprint(scores['test_score'])\n",
        "print('Mean MSE:', -scores['test_score'].mean())"
      ],
      "metadata": {
        "colab": {
          "base_uri": "https://localhost:8080/"
        },
        "id": "Z8BOXCBo-UkD",
        "outputId": "beb51e1f-86ee-4550-e6a6-f32efb0ced4e"
      },
      "execution_count": 3,
      "outputs": [
        {
          "output_type": "stream",
          "name": "stdout",
          "text": [
            "array([-1.16318756, -1.16649849, -1.20244248, -1.14957004, -1.17304713,\n",
            "       -1.15147833, -1.17822479, -1.19115352, -1.20358332, -1.15973353,\n",
            "       -1.18970885, -1.14574745, -1.22863845, -1.12858648, -1.20762339,\n",
            "       -1.19731213, -1.19280138, -1.16092549, -1.16712434, -1.20044514,\n",
            "       -1.21288813, -1.15804695, -1.17422961, -1.18387322, -1.1508443 ,\n",
            "       -1.16401179, -1.13019585, -1.24827753, -1.13904454, -1.19452918,\n",
            "       -1.22134832, -1.1650229 , -1.22235355, -1.10962962, -1.15808538,\n",
            "       -1.15508633, -1.22361212, -1.16220836, -1.1974299 , -1.15994227,\n",
            "       -1.21371924, -1.19453642, -1.15722423, -1.17971111, -1.15754355,\n",
            "       -1.1371224 , -1.17551245, -1.1727961 , -1.16560634, -1.20431343])\n",
            "Mean MSE: 1.1769315482657852\n"
          ]
        }
      ]
    },
    {
      "cell_type": "code",
      "source": [
        "from sklearn.model_selection import GridSearchCV\n",
        "\n",
        "model = KNeighborsRegressor()\n",
        "param_grid = {'n_neighbors': [1, 7, 15]}\n",
        "grid15 = GridSearchCV(model, param_grid, verbose=3,\n",
        "                    scoring=make_scorer(mean_squared_error,\n",
        "                                        greater_is_better=False))\n",
        "grid15.fit(X_train, y_train)\n",
        "print(grid15.best_params_)\n",
        "print(grid15.best_score_)"
      ],
      "metadata": {
        "colab": {
          "base_uri": "https://localhost:8080/"
        },
        "id": "NBvYZ0dp_zNe",
        "outputId": "13458dad-774b-4fc5-d871-2bb0e65987b2"
      },
      "execution_count": 4,
      "outputs": [
        {
          "output_type": "stream",
          "name": "stdout",
          "text": [
            "Fitting 5 folds for each of 3 candidates, totalling 15 fits\n",
            "[CV 1/5] END ....................n_neighbors=1;, score=-1.629 total time=   0.0s\n",
            "[CV 2/5] END ....................n_neighbors=1;, score=-1.581 total time=   0.0s\n",
            "[CV 3/5] END ....................n_neighbors=1;, score=-1.663 total time=   0.0s\n",
            "[CV 4/5] END ....................n_neighbors=1;, score=-1.641 total time=   0.0s\n",
            "[CV 5/5] END ....................n_neighbors=1;, score=-1.747 total time=   0.0s\n",
            "[CV 1/5] END ....................n_neighbors=7;, score=-1.177 total time=   0.0s\n",
            "[CV 2/5] END ....................n_neighbors=7;, score=-1.106 total time=   0.0s\n",
            "[CV 3/5] END ....................n_neighbors=7;, score=-1.193 total time=   0.0s\n",
            "[CV 4/5] END ....................n_neighbors=7;, score=-1.129 total time=   0.0s\n",
            "[CV 5/5] END ....................n_neighbors=7;, score=-1.184 total time=   0.0s\n",
            "[CV 1/5] END ...................n_neighbors=15;, score=-1.205 total time=   0.0s\n",
            "[CV 2/5] END ...................n_neighbors=15;, score=-1.122 total time=   0.1s\n",
            "[CV 3/5] END ...................n_neighbors=15;, score=-1.205 total time=   0.1s\n",
            "[CV 4/5] END ...................n_neighbors=15;, score=-1.149 total time=   0.1s\n",
            "[CV 5/5] END ...................n_neighbors=15;, score=-1.194 total time=   0.2s\n",
            "{'n_neighbors': 7}\n",
            "-1.157725048976956\n"
          ]
        }
      ]
    },
    {
      "cell_type": "code",
      "source": [
        "grid15.cv_results_"
      ],
      "metadata": {
        "colab": {
          "base_uri": "https://localhost:8080/"
        },
        "id": "TpIflYOfB54U",
        "outputId": "e779367d-d2eb-47bc-9d69-ffed27aa003a"
      },
      "execution_count": 5,
      "outputs": [
        {
          "output_type": "execute_result",
          "data": {
            "text/plain": [
              "{'mean_fit_time': array([0.01376243, 0.01446252, 0.02360196]),\n",
              " 'std_fit_time': array([0.00064051, 0.0021897 , 0.00989644]),\n",
              " 'mean_score_time': array([0.01346292, 0.02114434, 0.05888677]),\n",
              " 'std_score_time': array([0.00050236, 0.00402766, 0.03545529]),\n",
              " 'param_n_neighbors': masked_array(data=[1, 7, 15],\n",
              "              mask=[False, False, False],\n",
              "        fill_value=999999),\n",
              " 'params': [{'n_neighbors': 1}, {'n_neighbors': 7}, {'n_neighbors': 15}],\n",
              " 'split0_test_score': array([-1.62906669, -1.17686686, -1.20473666]),\n",
              " 'split1_test_score': array([-1.58073762, -1.10643004, -1.12155902]),\n",
              " 'split2_test_score': array([-1.66312837, -1.19311375, -1.20469472]),\n",
              " 'split3_test_score': array([-1.64065279, -1.12860307, -1.14912536]),\n",
              " 'split4_test_score': array([-1.74667338, -1.18361152, -1.19391883]),\n",
              " 'mean_test_score': array([-1.65205177, -1.15772505, -1.17480692]),\n",
              " 'std_test_score': array([0.05444245, 0.03396512, 0.03361314]),\n",
              " 'rank_test_score': array([3, 1, 2], dtype=int32)}"
            ]
          },
          "metadata": {},
          "execution_count": 5
        }
      ]
    },
    {
      "cell_type": "code",
      "source": [
        "model = KNeighborsRegressor()\n",
        "param_grid = {'n_neighbors': [1, 7, 15]}\n",
        "grid150 = GridSearchCV(model, param_grid, verbose=3,\n",
        "                      cv=RepeatedKFold(random_state=42),\n",
        "                    scoring=make_scorer(mean_squared_error,\n",
        "                                        greater_is_better=False))\n",
        "grid150.fit(X_train, y_train)\n",
        "print(grid150.best_params_)\n",
        "print(grid150.best_score_)"
      ],
      "metadata": {
        "colab": {
          "base_uri": "https://localhost:8080/"
        },
        "id": "Hc-UdGE0CCbo",
        "outputId": "a4ec5302-d8b4-470b-8822-2267d55223ad"
      },
      "execution_count": 6,
      "outputs": [
        {
          "output_type": "stream",
          "name": "stdout",
          "text": [
            "Fitting 50 folds for each of 3 candidates, totalling 150 fits\n",
            "[CV 1/50] END ...................n_neighbors=1;, score=-1.664 total time=   0.0s\n",
            "[CV 2/50] END ...................n_neighbors=1;, score=-1.643 total time=   0.0s\n",
            "[CV 3/50] END ...................n_neighbors=1;, score=-1.679 total time=   0.0s\n",
            "[CV 4/50] END ...................n_neighbors=1;, score=-1.622 total time=   0.1s\n",
            "[CV 5/50] END ...................n_neighbors=1;, score=-1.685 total time=   0.1s\n",
            "[CV 6/50] END ...................n_neighbors=1;, score=-1.584 total time=   0.1s\n",
            "[CV 7/50] END ...................n_neighbors=1;, score=-1.654 total time=   0.0s\n",
            "[CV 8/50] END ...................n_neighbors=1;, score=-1.662 total time=   0.1s\n",
            "[CV 9/50] END ...................n_neighbors=1;, score=-1.651 total time=   0.0s\n",
            "[CV 10/50] END ..................n_neighbors=1;, score=-1.676 total time=   0.0s\n",
            "[CV 11/50] END ..................n_neighbors=1;, score=-1.681 total time=   0.0s\n",
            "[CV 12/50] END ..................n_neighbors=1;, score=-1.621 total time=   0.0s\n",
            "[CV 13/50] END ..................n_neighbors=1;, score=-1.604 total time=   0.0s\n",
            "[CV 14/50] END ..................n_neighbors=1;, score=-1.636 total time=   0.0s\n",
            "[CV 15/50] END ..................n_neighbors=1;, score=-1.678 total time=   0.0s\n",
            "[CV 16/50] END ..................n_neighbors=1;, score=-1.716 total time=   0.0s\n",
            "[CV 17/50] END ..................n_neighbors=1;, score=-1.700 total time=   0.0s\n",
            "[CV 18/50] END ..................n_neighbors=1;, score=-1.620 total time=   0.0s\n",
            "[CV 19/50] END ..................n_neighbors=1;, score=-1.600 total time=   0.0s\n",
            "[CV 20/50] END ..................n_neighbors=1;, score=-1.622 total time=   0.0s\n",
            "[CV 21/50] END ..................n_neighbors=1;, score=-1.661 total time=   0.0s\n",
            "[CV 22/50] END ..................n_neighbors=1;, score=-1.640 total time=   0.0s\n",
            "[CV 23/50] END ..................n_neighbors=1;, score=-1.641 total time=   0.0s\n",
            "[CV 24/50] END ..................n_neighbors=1;, score=-1.656 total time=   0.0s\n",
            "[CV 25/50] END ..................n_neighbors=1;, score=-1.614 total time=   0.0s\n",
            "[CV 26/50] END ..................n_neighbors=1;, score=-1.624 total time=   0.0s\n",
            "[CV 27/50] END ..................n_neighbors=1;, score=-1.640 total time=   0.0s\n",
            "[CV 28/50] END ..................n_neighbors=1;, score=-1.727 total time=   0.0s\n",
            "[CV 29/50] END ..................n_neighbors=1;, score=-1.575 total time=   0.0s\n",
            "[CV 30/50] END ..................n_neighbors=1;, score=-1.634 total time=   0.0s\n",
            "[CV 31/50] END ..................n_neighbors=1;, score=-1.723 total time=   0.0s\n",
            "[CV 32/50] END ..................n_neighbors=1;, score=-1.656 total time=   0.0s\n",
            "[CV 33/50] END ..................n_neighbors=1;, score=-1.668 total time=   0.0s\n",
            "[CV 34/50] END ..................n_neighbors=1;, score=-1.547 total time=   0.0s\n",
            "[CV 35/50] END ..................n_neighbors=1;, score=-1.619 total time=   0.0s\n",
            "[CV 36/50] END ..................n_neighbors=1;, score=-1.612 total time=   0.0s\n",
            "[CV 37/50] END ..................n_neighbors=1;, score=-1.684 total time=   0.0s\n",
            "[CV 38/50] END ..................n_neighbors=1;, score=-1.611 total time=   0.0s\n",
            "[CV 39/50] END ..................n_neighbors=1;, score=-1.615 total time=   0.0s\n",
            "[CV 40/50] END ..................n_neighbors=1;, score=-1.665 total time=   0.0s\n",
            "[CV 41/50] END ..................n_neighbors=1;, score=-1.666 total time=   0.0s\n",
            "[CV 42/50] END ..................n_neighbors=1;, score=-1.674 total time=   0.0s\n",
            "[CV 43/50] END ..................n_neighbors=1;, score=-1.604 total time=   0.0s\n",
            "[CV 44/50] END ..................n_neighbors=1;, score=-1.691 total time=   0.0s\n",
            "[CV 45/50] END ..................n_neighbors=1;, score=-1.595 total time=   0.0s\n",
            "[CV 46/50] END ..................n_neighbors=1;, score=-1.644 total time=   0.0s\n",
            "[CV 47/50] END ..................n_neighbors=1;, score=-1.648 total time=   0.0s\n",
            "[CV 48/50] END ..................n_neighbors=1;, score=-1.656 total time=   0.0s\n",
            "[CV 49/50] END ..................n_neighbors=1;, score=-1.561 total time=   0.0s\n",
            "[CV 50/50] END ..................n_neighbors=1;, score=-1.659 total time=   0.0s\n",
            "[CV 1/50] END ...................n_neighbors=7;, score=-1.149 total time=   0.0s\n",
            "[CV 2/50] END ...................n_neighbors=7;, score=-1.159 total time=   0.0s\n",
            "[CV 3/50] END ...................n_neighbors=7;, score=-1.207 total time=   0.0s\n",
            "[CV 4/50] END ...................n_neighbors=7;, score=-1.142 total time=   0.0s\n",
            "[CV 5/50] END ...................n_neighbors=7;, score=-1.176 total time=   0.0s\n",
            "[CV 6/50] END ...................n_neighbors=7;, score=-1.136 total time=   0.0s\n",
            "[CV 7/50] END ...................n_neighbors=7;, score=-1.170 total time=   0.0s\n",
            "[CV 8/50] END ...................n_neighbors=7;, score=-1.187 total time=   0.0s\n",
            "[CV 9/50] END ...................n_neighbors=7;, score=-1.204 total time=   0.0s\n",
            "[CV 10/50] END ..................n_neighbors=7;, score=-1.126 total time=   0.0s\n",
            "[CV 11/50] END ..................n_neighbors=7;, score=-1.153 total time=   0.0s\n",
            "[CV 12/50] END ..................n_neighbors=7;, score=-1.143 total time=   0.0s\n",
            "[CV 13/50] END ..................n_neighbors=7;, score=-1.210 total time=   0.0s\n",
            "[CV 14/50] END ..................n_neighbors=7;, score=-1.117 total time=   0.0s\n",
            "[CV 15/50] END ..................n_neighbors=7;, score=-1.192 total time=   0.0s\n",
            "[CV 16/50] END ..................n_neighbors=7;, score=-1.192 total time=   0.0s\n",
            "[CV 17/50] END ..................n_neighbors=7;, score=-1.166 total time=   0.0s\n",
            "[CV 18/50] END ..................n_neighbors=7;, score=-1.156 total time=   0.0s\n",
            "[CV 19/50] END ..................n_neighbors=7;, score=-1.147 total time=   0.0s\n",
            "[CV 20/50] END ..................n_neighbors=7;, score=-1.191 total time=   0.0s\n",
            "[CV 21/50] END ..................n_neighbors=7;, score=-1.183 total time=   0.0s\n",
            "[CV 22/50] END ..................n_neighbors=7;, score=-1.134 total time=   0.0s\n",
            "[CV 23/50] END ..................n_neighbors=7;, score=-1.166 total time=   0.0s\n",
            "[CV 24/50] END ..................n_neighbors=7;, score=-1.172 total time=   0.0s\n",
            "[CV 25/50] END ..................n_neighbors=7;, score=-1.126 total time=   0.0s\n",
            "[CV 26/50] END ..................n_neighbors=7;, score=-1.151 total time=   0.0s\n",
            "[CV 27/50] END ..................n_neighbors=7;, score=-1.122 total time=   0.0s\n",
            "[CV 28/50] END ..................n_neighbors=7;, score=-1.240 total time=   0.0s\n",
            "[CV 29/50] END ..................n_neighbors=7;, score=-1.116 total time=   0.0s\n",
            "[CV 30/50] END ..................n_neighbors=7;, score=-1.185 total time=   0.0s\n",
            "[CV 31/50] END ..................n_neighbors=7;, score=-1.189 total time=   0.0s\n",
            "[CV 32/50] END ..................n_neighbors=7;, score=-1.159 total time=   0.0s\n",
            "[CV 33/50] END ..................n_neighbors=7;, score=-1.213 total time=   0.0s\n",
            "[CV 34/50] END ..................n_neighbors=7;, score=-1.080 total time=   0.0s\n",
            "[CV 35/50] END ..................n_neighbors=7;, score=-1.140 total time=   0.0s\n",
            "[CV 36/50] END ..................n_neighbors=7;, score=-1.142 total time=   0.0s\n",
            "[CV 37/50] END ..................n_neighbors=7;, score=-1.208 total time=   0.0s\n",
            "[CV 38/50] END ..................n_neighbors=7;, score=-1.153 total time=   0.0s\n",
            "[CV 39/50] END ..................n_neighbors=7;, score=-1.188 total time=   0.0s\n",
            "[CV 40/50] END ..................n_neighbors=7;, score=-1.132 total time=   0.0s\n",
            "[CV 41/50] END ..................n_neighbors=7;, score=-1.218 total time=   0.0s\n",
            "[CV 42/50] END ..................n_neighbors=7;, score=-1.198 total time=   0.0s\n",
            "[CV 43/50] END ..................n_neighbors=7;, score=-1.137 total time=   0.0s\n",
            "[CV 44/50] END ..................n_neighbors=7;, score=-1.164 total time=   0.0s\n",
            "[CV 45/50] END ..................n_neighbors=7;, score=-1.132 total time=   0.0s\n",
            "[CV 46/50] END ..................n_neighbors=7;, score=-1.125 total time=   0.0s\n",
            "[CV 47/50] END ..................n_neighbors=7;, score=-1.167 total time=   0.0s\n",
            "[CV 48/50] END ..................n_neighbors=7;, score=-1.153 total time=   0.0s\n",
            "[CV 49/50] END ..................n_neighbors=7;, score=-1.171 total time=   0.0s\n",
            "[CV 50/50] END ..................n_neighbors=7;, score=-1.177 total time=   0.0s\n",
            "[CV 1/50] END ..................n_neighbors=15;, score=-1.171 total time=   0.0s\n",
            "[CV 2/50] END ..................n_neighbors=15;, score=-1.153 total time=   0.0s\n",
            "[CV 3/50] END ..................n_neighbors=15;, score=-1.224 total time=   0.0s\n",
            "[CV 4/50] END ..................n_neighbors=15;, score=-1.160 total time=   0.0s\n",
            "[CV 5/50] END ..................n_neighbors=15;, score=-1.204 total time=   0.0s\n",
            "[CV 6/50] END ..................n_neighbors=15;, score=-1.130 total time=   0.0s\n",
            "[CV 7/50] END ..................n_neighbors=15;, score=-1.210 total time=   0.0s\n",
            "[CV 8/50] END ..................n_neighbors=15;, score=-1.188 total time=   0.0s\n",
            "[CV 9/50] END ..................n_neighbors=15;, score=-1.254 total time=   0.0s\n",
            "[CV 10/50] END .................n_neighbors=15;, score=-1.134 total time=   0.0s\n",
            "[CV 11/50] END .................n_neighbors=15;, score=-1.155 total time=   0.0s\n",
            "[CV 12/50] END .................n_neighbors=15;, score=-1.146 total time=   0.0s\n",
            "[CV 13/50] END .................n_neighbors=15;, score=-1.232 total time=   0.0s\n",
            "[CV 14/50] END .................n_neighbors=15;, score=-1.135 total time=   0.0s\n",
            "[CV 15/50] END .................n_neighbors=15;, score=-1.225 total time=   0.0s\n",
            "[CV 16/50] END .................n_neighbors=15;, score=-1.215 total time=   0.0s\n",
            "[CV 17/50] END .................n_neighbors=15;, score=-1.180 total time=   0.0s\n",
            "[CV 18/50] END .................n_neighbors=15;, score=-1.163 total time=   0.0s\n",
            "[CV 19/50] END .................n_neighbors=15;, score=-1.162 total time=   0.0s\n",
            "[CV 20/50] END .................n_neighbors=15;, score=-1.201 total time=   0.0s\n",
            "[CV 21/50] END .................n_neighbors=15;, score=-1.212 total time=   0.0s\n",
            "[CV 22/50] END .................n_neighbors=15;, score=-1.147 total time=   0.0s\n",
            "[CV 23/50] END .................n_neighbors=15;, score=-1.188 total time=   0.0s\n",
            "[CV 24/50] END .................n_neighbors=15;, score=-1.210 total time=   0.0s\n",
            "[CV 25/50] END .................n_neighbors=15;, score=-1.147 total time=   0.0s\n",
            "[CV 26/50] END .................n_neighbors=15;, score=-1.154 total time=   0.0s\n",
            "[CV 27/50] END .................n_neighbors=15;, score=-1.146 total time=   0.0s\n",
            "[CV 28/50] END .................n_neighbors=15;, score=-1.254 total time=   0.0s\n",
            "[CV 29/50] END .................n_neighbors=15;, score=-1.138 total time=   0.0s\n",
            "[CV 30/50] END .................n_neighbors=15;, score=-1.211 total time=   0.0s\n",
            "[CV 31/50] END .................n_neighbors=15;, score=-1.201 total time=   0.0s\n",
            "[CV 32/50] END .................n_neighbors=15;, score=-1.184 total time=   0.0s\n",
            "[CV 33/50] END .................n_neighbors=15;, score=-1.245 total time=   0.0s\n",
            "[CV 34/50] END .................n_neighbors=15;, score=-1.111 total time=   0.0s\n",
            "[CV 35/50] END .................n_neighbors=15;, score=-1.174 total time=   0.0s\n",
            "[CV 36/50] END .................n_neighbors=15;, score=-1.155 total time=   0.0s\n",
            "[CV 37/50] END .................n_neighbors=15;, score=-1.226 total time=   0.1s\n",
            "[CV 38/50] END .................n_neighbors=15;, score=-1.192 total time=   0.1s\n",
            "[CV 39/50] END .................n_neighbors=15;, score=-1.202 total time=   0.1s\n",
            "[CV 40/50] END .................n_neighbors=15;, score=-1.130 total time=   0.1s\n",
            "[CV 41/50] END .................n_neighbors=15;, score=-1.238 total time=   0.1s\n",
            "[CV 42/50] END .................n_neighbors=15;, score=-1.230 total time=   0.1s\n",
            "[CV 43/50] END .................n_neighbors=15;, score=-1.159 total time=   0.1s\n",
            "[CV 44/50] END .................n_neighbors=15;, score=-1.172 total time=   0.1s\n",
            "[CV 45/50] END .................n_neighbors=15;, score=-1.147 total time=   0.1s\n",
            "[CV 46/50] END .................n_neighbors=15;, score=-1.142 total time=   0.1s\n",
            "[CV 47/50] END .................n_neighbors=15;, score=-1.188 total time=   0.1s\n",
            "[CV 48/50] END .................n_neighbors=15;, score=-1.199 total time=   0.1s\n",
            "[CV 49/50] END .................n_neighbors=15;, score=-1.188 total time=   0.1s\n",
            "[CV 50/50] END .................n_neighbors=15;, score=-1.175 total time=   0.1s\n",
            "{'n_neighbors': 7}\n",
            "-1.1632495612704894\n"
          ]
        }
      ]
    },
    {
      "cell_type": "code",
      "source": [
        "param_grid = {\"n_neighbors\": [1, 7, 15],\n",
        "              \"metric\": [\"euclidean\", \"manhattan\", \"cosine\"]}\n",
        "\n",
        "grid45 = GridSearchCV(model, param_grid, verbose=3, cv=5,\n",
        "                    scoring=make_scorer(mean_squared_error,\n",
        "                                        greater_is_better=False))\n",
        "grid45.fit(X_train, y_train)\n",
        "print(grid45.best_params_)\n",
        "print(grid45.best_score_)"
      ],
      "metadata": {
        "colab": {
          "base_uri": "https://localhost:8080/"
        },
        "id": "euHU1zu1Cd5k",
        "outputId": "0288a97f-9ed1-41fc-fb44-691c17d3ef37"
      },
      "execution_count": 8,
      "outputs": [
        {
          "output_type": "stream",
          "name": "stdout",
          "text": [
            "Fitting 5 folds for each of 9 candidates, totalling 45 fits\n",
            "[CV 1/5] END ..metric=euclidean, n_neighbors=1;, score=-1.629 total time=   0.1s\n",
            "[CV 2/5] END ..metric=euclidean, n_neighbors=1;, score=-1.581 total time=   0.0s\n",
            "[CV 3/5] END ..metric=euclidean, n_neighbors=1;, score=-1.663 total time=   0.1s\n",
            "[CV 4/5] END ..metric=euclidean, n_neighbors=1;, score=-1.641 total time=   0.0s\n",
            "[CV 5/5] END ..metric=euclidean, n_neighbors=1;, score=-1.747 total time=   0.0s\n",
            "[CV 1/5] END ..metric=euclidean, n_neighbors=7;, score=-1.177 total time=   0.0s\n",
            "[CV 2/5] END ..metric=euclidean, n_neighbors=7;, score=-1.106 total time=   0.0s\n",
            "[CV 3/5] END ..metric=euclidean, n_neighbors=7;, score=-1.193 total time=   0.0s\n",
            "[CV 4/5] END ..metric=euclidean, n_neighbors=7;, score=-1.129 total time=   0.0s\n",
            "[CV 5/5] END ..metric=euclidean, n_neighbors=7;, score=-1.184 total time=   0.0s\n",
            "[CV 1/5] END .metric=euclidean, n_neighbors=15;, score=-1.205 total time=   0.0s\n",
            "[CV 2/5] END .metric=euclidean, n_neighbors=15;, score=-1.122 total time=   0.1s\n",
            "[CV 3/5] END .metric=euclidean, n_neighbors=15;, score=-1.205 total time=   0.1s\n",
            "[CV 4/5] END .metric=euclidean, n_neighbors=15;, score=-1.149 total time=   0.1s\n",
            "[CV 5/5] END .metric=euclidean, n_neighbors=15;, score=-1.194 total time=   0.1s\n",
            "[CV 1/5] END ..metric=manhattan, n_neighbors=1;, score=-1.536 total time=   0.1s\n",
            "[CV 2/5] END ..metric=manhattan, n_neighbors=1;, score=-1.488 total time=   0.1s\n",
            "[CV 3/5] END ..metric=manhattan, n_neighbors=1;, score=-1.516 total time=   0.1s\n",
            "[CV 4/5] END ..metric=manhattan, n_neighbors=1;, score=-1.504 total time=   0.1s\n",
            "[CV 5/5] END ..metric=manhattan, n_neighbors=1;, score=-1.634 total time=   0.1s\n",
            "[CV 1/5] END ..metric=manhattan, n_neighbors=7;, score=-1.060 total time=   0.1s\n",
            "[CV 2/5] END ..metric=manhattan, n_neighbors=7;, score=-0.968 total time=   0.1s\n",
            "[CV 3/5] END ..metric=manhattan, n_neighbors=7;, score=-1.079 total time=   0.1s\n",
            "[CV 4/5] END ..metric=manhattan, n_neighbors=7;, score=-1.003 total time=   0.1s\n",
            "[CV 5/5] END ..metric=manhattan, n_neighbors=7;, score=-1.056 total time=   0.1s\n",
            "[CV 1/5] END .metric=manhattan, n_neighbors=15;, score=-1.073 total time=   0.1s\n",
            "[CV 2/5] END .metric=manhattan, n_neighbors=15;, score=-0.985 total time=   0.1s\n",
            "[CV 3/5] END .metric=manhattan, n_neighbors=15;, score=-1.076 total time=   0.0s\n",
            "[CV 4/5] END .metric=manhattan, n_neighbors=15;, score=-1.027 total time=   0.0s\n",
            "[CV 5/5] END .metric=manhattan, n_neighbors=15;, score=-1.070 total time=   0.0s\n",
            "[CV 1/5] END .....metric=cosine, n_neighbors=1;, score=-1.201 total time=   0.7s\n",
            "[CV 2/5] END .....metric=cosine, n_neighbors=1;, score=-1.155 total time=   0.6s\n",
            "[CV 3/5] END .....metric=cosine, n_neighbors=1;, score=-1.205 total time=   0.7s\n",
            "[CV 4/5] END .....metric=cosine, n_neighbors=1;, score=-1.123 total time=   0.7s\n",
            "[CV 5/5] END .....metric=cosine, n_neighbors=1;, score=-1.175 total time=   0.7s\n",
            "[CV 1/5] END .....metric=cosine, n_neighbors=7;, score=-0.791 total time=   0.6s\n",
            "[CV 2/5] END .....metric=cosine, n_neighbors=7;, score=-0.761 total time=   0.6s\n",
            "[CV 3/5] END .....metric=cosine, n_neighbors=7;, score=-0.857 total time=   0.6s\n",
            "[CV 4/5] END .....metric=cosine, n_neighbors=7;, score=-0.771 total time=   0.7s\n",
            "[CV 5/5] END .....metric=cosine, n_neighbors=7;, score=-0.811 total time=   0.7s\n",
            "[CV 1/5] END ....metric=cosine, n_neighbors=15;, score=-0.835 total time=   0.6s\n",
            "[CV 2/5] END ....metric=cosine, n_neighbors=15;, score=-0.789 total time=   0.7s\n",
            "[CV 3/5] END ....metric=cosine, n_neighbors=15;, score=-0.885 total time=   0.6s\n",
            "[CV 4/5] END ....metric=cosine, n_neighbors=15;, score=-0.798 total time=   0.9s\n",
            "[CV 5/5] END ....metric=cosine, n_neighbors=15;, score=-0.844 total time=   0.9s\n",
            "{'metric': 'cosine', 'n_neighbors': 7}\n",
            "-0.7979977106272027\n"
          ]
        }
      ]
    },
    {
      "cell_type": "code",
      "source": [
        "models = [grid15, grid150, grid45]\n",
        "mnames = ['grid15', 'grid150', 'grid45']\n",
        "for model, name in zip(models, mnames):\n",
        "    print(name)\n",
        "    print(mean_squared_error(y_test, model.predict(X_test)))"
      ],
      "metadata": {
        "colab": {
          "base_uri": "https://localhost:8080/"
        },
        "id": "-0Uzmdh5DbZt",
        "outputId": "1b5d90de-23cf-4ae5-e4ff-0a42f7ae80a5"
      },
      "execution_count": 9,
      "outputs": [
        {
          "output_type": "stream",
          "name": "stdout",
          "text": [
            "grid15\n",
            "1.1185550426887638\n",
            "grid150\n",
            "1.1185550426887638\n",
            "grid45\n",
            "0.7450083756017327\n"
          ]
        }
      ]
    },
    {
      "cell_type": "code",
      "source": [
        "for model, name in zip(models, mnames):\n",
        "  model.verbose = 0\n",
        "  scores = cross_validate(model, X_train, y_train, cv=5,\n",
        "                        scoring=make_scorer(mean_squared_error,\n",
        "                                            greater_is_better=False))\n",
        "  print(f\"{name} MSE:\", -scores['test_score'].mean())"
      ],
      "metadata": {
        "colab": {
          "base_uri": "https://localhost:8080/"
        },
        "id": "RbfXMGA9D7gt",
        "outputId": "589d982e-5c4b-48d3-c87a-7396527edbec"
      },
      "execution_count": 10,
      "outputs": [
        {
          "output_type": "stream",
          "name": "stdout",
          "text": [
            "grid15 MSE: 1.157725048976956\n",
            "grid150 MSE: 1.157725048976956\n",
            "grid45 MSE: 0.7979977106272027\n"
          ]
        }
      ]
    },
    {
      "cell_type": "code",
      "source": [
        "from sklearn.preprocessing import StandardScaler\n",
        "from sklearn.pipeline import Pipeline\n",
        "\n",
        "model = Pipeline([('scaler', StandardScaler()),\n",
        "                  ('knn', KNeighborsRegressor())])\n",
        "\n",
        "scores = cross_validate(model, X_train, y_train, cv=5,\n",
        "                        scoring=make_scorer(mean_squared_error,\n",
        "                                            greater_is_better=False))\n",
        "print('Mean MSE:', -scores['test_score'].mean())"
      ],
      "metadata": {
        "colab": {
          "base_uri": "https://localhost:8080/"
        },
        "id": "zESMZGtmFBud",
        "outputId": "4df7c2d5-34bc-41ff-8a2f-1a31dd726fe1"
      },
      "execution_count": 11,
      "outputs": [
        {
          "output_type": "stream",
          "name": "stdout",
          "text": [
            "Mean MSE: 0.4230546814801232\n"
          ]
        }
      ]
    },
    {
      "cell_type": "code",
      "source": [
        "from os import pipe\n",
        "for model, name in zip(models, mnames):\n",
        "  model.verbose = 0\n",
        "  pipe = Pipeline([('scaler', StandardScaler()),\n",
        "                  ('knn', model)])\n",
        "  scores = cross_validate(pipe, X_train, y_train, cv=5,\n",
        "                        scoring=make_scorer(mean_squared_error,\n",
        "                                            greater_is_better=False))\n",
        "  print(f\"{name} MSE:\", -scores['test_score'].mean())"
      ],
      "metadata": {
        "colab": {
          "base_uri": "https://localhost:8080/"
        },
        "id": "A4nFQnkMFb6O",
        "outputId": "c3ea8fc8-67ca-4366-e41d-688308d92ee7"
      },
      "execution_count": 12,
      "outputs": [
        {
          "output_type": "stream",
          "name": "stdout",
          "text": [
            "grid15 MSE: 0.4170738862321107\n",
            "grid150 MSE: 0.4170738862321107\n",
            "grid45 MSE: 0.3700729024169901\n"
          ]
        }
      ]
    },
    {
      "cell_type": "code",
      "source": [
        "pipe = Pipeline([('scaler', StandardScaler()),\n",
        "                  ('knn', KNeighborsRegressor())])\n",
        "\n",
        "param_grid = {'knn__n_neighbors': [1, 7, 15],\n",
        "              'knn__metric': [\"euclidean\", \"manhattan\", \"cosine\"],\n",
        "              'scaler__with_mean': [True, False]}\n",
        "\n",
        "grid = GridSearchCV(pipe, param_grid, verbose=1, cv=5,\n",
        "                    scoring=make_scorer(mean_squared_error,\n",
        "                                        greater_is_better=False))\n",
        "\n",
        "scores = cross_validate(grid, X_train, y_train, cv=5, return_estimator=True,\n",
        "                        scoring=make_scorer(mean_squared_error,\n",
        "                                            greater_is_better=False))\n",
        "\n",
        "print('Mean MSE:', -scores['test_score'].mean())"
      ],
      "metadata": {
        "colab": {
          "base_uri": "https://localhost:8080/"
        },
        "id": "Wxed1gz7Fy20",
        "outputId": "292bdd2b-1cd3-402c-da14-8ef8b1c6921a"
      },
      "execution_count": 17,
      "outputs": [
        {
          "output_type": "stream",
          "name": "stdout",
          "text": [
            "Fitting 5 folds for each of 18 candidates, totalling 90 fits\n",
            "Fitting 5 folds for each of 18 candidates, totalling 90 fits\n",
            "Fitting 5 folds for each of 18 candidates, totalling 90 fits\n",
            "Fitting 5 folds for each of 18 candidates, totalling 90 fits\n",
            "Fitting 5 folds for each of 18 candidates, totalling 90 fits\n",
            "Mean MSE: 0.3700729024169901\n"
          ]
        }
      ]
    },
    {
      "cell_type": "code",
      "source": [
        "for model in scores['estimator']:\n",
        "  print(model.best_params_, model.best_score_)"
      ],
      "metadata": {
        "colab": {
          "base_uri": "https://localhost:8080/"
        },
        "id": "oz8ByzSbHheS",
        "outputId": "1b926e5a-c1ed-45b4-a0f2-8fc702250ab2"
      },
      "execution_count": 18,
      "outputs": [
        {
          "output_type": "stream",
          "name": "stdout",
          "text": [
            "{'knn__metric': 'manhattan', 'knn__n_neighbors': 15, 'scaler__with_mean': True} -0.3799793686184173\n",
            "{'knn__metric': 'manhattan', 'knn__n_neighbors': 7, 'scaler__with_mean': True} -0.39020984205898024\n",
            "{'knn__metric': 'manhattan', 'knn__n_neighbors': 7, 'scaler__with_mean': True} -0.34733740355872644\n",
            "{'knn__metric': 'manhattan', 'knn__n_neighbors': 7, 'scaler__with_mean': True} -0.3861881938990696\n",
            "{'knn__metric': 'manhattan', 'knn__n_neighbors': 7, 'scaler__with_mean': True} -0.3765777340795008\n"
          ]
        }
      ]
    },
    {
      "cell_type": "code",
      "source": [
        "from sklearn.preprocessing import PolynomialFeatures\n",
        "from sklearn.linear_model import LinearRegression\n",
        "\n",
        "model = Pipeline([('scaler', StandardScaler()),\n",
        "                  ('poly', PolynomialFeatures()),\n",
        "                  ('linreg', LinearRegression())])\n",
        "\n",
        "param_grid = {'poly__degree': [1, 2, 3],\n",
        "              'linreg__fit_intercept': [True, False]}\n",
        "\n",
        "grid = GridSearchCV(model, param_grid, verbose=1, cv=5,\n",
        "                    scoring=make_scorer(mean_squared_error,\n",
        "                                        greater_is_better=False))\n",
        "\n",
        "scores = cross_validate(grid, X_train, y_train, cv=5, return_estimator=True,\n",
        "                        scoring=make_scorer(mean_squared_error,\n",
        "                                            greater_is_better=False))\n",
        "\n",
        "print('Mean MSE:', -scores['test_score'].mean())"
      ],
      "metadata": {
        "colab": {
          "base_uri": "https://localhost:8080/"
        },
        "id": "TiNhcB7nHuL2",
        "outputId": "ad123076-9a31-407a-ac17-2f5a2ce09189"
      },
      "execution_count": 20,
      "outputs": [
        {
          "output_type": "stream",
          "name": "stdout",
          "text": [
            "Fitting 5 folds for each of 6 candidates, totalling 30 fits\n",
            "Fitting 5 folds for each of 6 candidates, totalling 30 fits\n",
            "Fitting 5 folds for each of 6 candidates, totalling 30 fits\n",
            "Fitting 5 folds for each of 6 candidates, totalling 30 fits\n",
            "Fitting 5 folds for each of 6 candidates, totalling 30 fits\n",
            "Mean MSE: 0.5242394295977021\n"
          ]
        }
      ]
    },
    {
      "cell_type": "code",
      "source": [
        "for model in scores['estimator']:\n",
        "  print(model.best_params_, model.best_score_)"
      ],
      "metadata": {
        "colab": {
          "base_uri": "https://localhost:8080/"
        },
        "id": "IjTfC2l4I0Xx",
        "outputId": "d000af60-19bd-4872-fccf-55446544917a"
      },
      "execution_count": 21,
      "outputs": [
        {
          "output_type": "stream",
          "name": "stdout",
          "text": [
            "{'linreg__fit_intercept': True, 'poly__degree': 1} -0.5184263002303523\n",
            "{'linreg__fit_intercept': True, 'poly__degree': 1} -0.5344259911862932\n",
            "{'linreg__fit_intercept': True, 'poly__degree': 1} -0.5412774992937154\n",
            "{'linreg__fit_intercept': False, 'poly__degree': 1} -0.5258541639872979\n",
            "{'linreg__fit_intercept': True, 'poly__degree': 1} -0.6572397854629907\n"
          ]
        }
      ]
    },
    {
      "cell_type": "code",
      "source": [
        "from sklearn.model_selection import RandomizedSearchCV\n",
        "from sklearn.svm import SVR\n",
        "from sklearn.preprocessing import StandardScaler\n",
        "from sklearn.pipeline import Pipeline\n",
        "\n",
        "pipe = Pipeline([('scaler', StandardScaler()),\n",
        "                  ('svr', SVR())])\n",
        "\n",
        "param_grid = {'svr__kernel': ['linear', 'rbf', 'poly', 'sigmoid'],\n",
        "              'svr__C': [0.1, 0.5, 1, 5, 10]}\n",
        "\n",
        "grid = RandomizedSearchCV(pipe, param_grid, verbose=1, cv=5,\n",
        "                    scoring=make_scorer(mean_squared_error,\n",
        "                                        greater_is_better=False),\n",
        "                    n_iter=10)\n",
        "\n",
        "scores = cross_validate(grid, X_train, y_train, cv=5, return_estimator=True,\n",
        "                        scoring=make_scorer(mean_squared_error,\n",
        "                                            greater_is_better=False))\n",
        "\n",
        "for model in scores['estimator']:\n",
        "  print(model.best_params_, model.best_score_)"
      ],
      "metadata": {
        "colab": {
          "base_uri": "https://localhost:8080/"
        },
        "id": "uKYkiLSWJBZt",
        "outputId": "578f5520-ea83-4818-bfdc-cc7f13288a0e"
      },
      "execution_count": null,
      "outputs": [
        {
          "output_type": "stream",
          "name": "stdout",
          "text": [
            "Fitting 5 folds for each of 10 candidates, totalling 50 fits\n"
          ]
        }
      ]
    }
  ]
}
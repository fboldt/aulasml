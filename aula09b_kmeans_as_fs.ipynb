{
  "nbformat": 4,
  "nbformat_minor": 0,
  "metadata": {
    "colab": {
      "provenance": [],
      "authorship_tag": "ABX9TyOavuw6CMvUjhlkUcg8wjUs",
      "include_colab_link": true
    },
    "kernelspec": {
      "name": "python3",
      "display_name": "Python 3"
    },
    "language_info": {
      "name": "python"
    }
  },
  "cells": [
    {
      "cell_type": "markdown",
      "metadata": {
        "id": "view-in-github",
        "colab_type": "text"
      },
      "source": [
        "<a href=\"https://colab.research.google.com/github/fboldt/aulasml/blob/master/aula09b_kmeans_as_fs.ipynb\" target=\"_parent\"><img src=\"https://colab.research.google.com/assets/colab-badge.svg\" alt=\"Open In Colab\"/></a>"
      ]
    },
    {
      "cell_type": "code",
      "source": [
        "from sklearn.datasets import fetch_covtype\n",
        "X, y = fetch_covtype(return_X_y=True)\n",
        "X.shape, y.shape"
      ],
      "metadata": {
        "colab": {
          "base_uri": "https://localhost:8080/"
        },
        "id": "tqXYvwcDLR2b",
        "outputId": "35343c8a-9c0b-4df3-f9e7-93e1bc26eed7"
      },
      "execution_count": 63,
      "outputs": [
        {
          "output_type": "execute_result",
          "data": {
            "text/plain": [
              "((581012, 54), (581012,))"
            ]
          },
          "metadata": {},
          "execution_count": 63
        }
      ]
    },
    {
      "cell_type": "code",
      "source": [
        "from sklearn.model_selection import cross_validate\n",
        "from sklearn.linear_model import RidgeClassifier\n",
        "from pprint import pprint\n",
        "\n",
        "model = RidgeClassifier()\n",
        "scores = cross_validate(model, X, y)\n",
        "pprint(scores['test_score'])\n",
        "print(scores['test_score'].mean())"
      ],
      "metadata": {
        "colab": {
          "base_uri": "https://localhost:8080/"
        },
        "id": "0iCT6Ry-LbWL",
        "outputId": "b1899645-aedd-43f8-abf5-ec0adc50344a"
      },
      "execution_count": 64,
      "outputs": [
        {
          "output_type": "stream",
          "name": "stdout",
          "text": [
            "array([0.58947704, 0.76359474, 0.62652106, 0.67569405, 0.54031772])\n",
            "0.639120922063683\n"
          ]
        }
      ]
    },
    {
      "cell_type": "code",
      "source": [
        "from sklearn.preprocessing import StandardScaler\n",
        "from sklearn.pipeline import make_pipeline\n",
        "\n",
        "model = make_pipeline(StandardScaler(), RidgeClassifier())\n",
        "scores = cross_validate(model, X, y)\n",
        "pprint(scores['test_score'])\n",
        "print(scores['test_score'].mean())"
      ],
      "metadata": {
        "colab": {
          "base_uri": "https://localhost:8080/"
        },
        "id": "KWqDyC7GMBrb",
        "outputId": "db687bfb-b2dc-46dc-bd9f-cfcd6fe38845"
      },
      "execution_count": 65,
      "outputs": [
        {
          "output_type": "stream",
          "name": "stdout",
          "text": [
            "array([0.58947704, 0.76360335, 0.62653827, 0.6756252 , 0.5407308 ])\n",
            "0.6391949311020719\n"
          ]
        }
      ]
    },
    {
      "cell_type": "code",
      "source": [
        "from sklearn.cluster import KMeans\n",
        "\n",
        "fs = KMeans()\n",
        "Xnew = fs.fit_transform(X)\n",
        "Xnew.shape"
      ],
      "metadata": {
        "colab": {
          "base_uri": "https://localhost:8080/"
        },
        "id": "xPDE1Xi4PcDC",
        "outputId": "5cef087c-29e7-44ec-d708-40abaa6a6542"
      },
      "execution_count": 73,
      "outputs": [
        {
          "output_type": "execute_result",
          "data": {
            "text/plain": [
              "(581012, 8)"
            ]
          },
          "metadata": {},
          "execution_count": 73
        }
      ]
    },
    {
      "cell_type": "code",
      "source": [
        "model = make_pipeline(StandardScaler(), KMeans(), RidgeClassifier())\n",
        "scores = cross_validate(model, X, y)\n",
        "pprint(scores['test_score'])\n",
        "print(scores['test_score'].mean())"
      ],
      "metadata": {
        "colab": {
          "base_uri": "https://localhost:8080/"
        },
        "id": "kMwpMOeYMKCi",
        "outputId": "5ad6c0dd-5374-497d-9203-44333fd3b1f4"
      },
      "execution_count": 74,
      "outputs": [
        {
          "output_type": "stream",
          "name": "stdout",
          "text": [
            "array([0.53787768, 0.60374517, 0.50885527, 0.58696064, 0.51257293])\n",
            "0.5500023379582973\n"
          ]
        }
      ]
    },
    {
      "cell_type": "code",
      "source": [
        "from tensorflow.keras.datasets import mnist\n",
        "(X_train, y_train), (X_test, y_test) = mnist.load_data()"
      ],
      "metadata": {
        "colab": {
          "base_uri": "https://localhost:8080/"
        },
        "id": "x8JlITcKNDn_",
        "outputId": "d709a323-8c17-46f7-aa10-182b61adc5c5"
      },
      "execution_count": 80,
      "outputs": [
        {
          "output_type": "stream",
          "name": "stdout",
          "text": [
            "Downloading data from https://storage.googleapis.com/tensorflow/tf-keras-datasets/mnist.npz\n",
            "\u001b[1m11490434/11490434\u001b[0m \u001b[32m━━━━━━━━━━━━━━━━━━━━\u001b[0m\u001b[37m\u001b[0m \u001b[1m0s\u001b[0m 0us/step\n"
          ]
        }
      ]
    },
    {
      "cell_type": "code",
      "source": [
        "X_train.shape, y_train.shape, X_test.shape, y_test.shape"
      ],
      "metadata": {
        "colab": {
          "base_uri": "https://localhost:8080/"
        },
        "id": "sgXtUvp_QpWo",
        "outputId": "a7b82996-ebc9-4a92-b839-86b477c351bc"
      },
      "execution_count": 85,
      "outputs": [
        {
          "output_type": "execute_result",
          "data": {
            "text/plain": [
              "((60000, 28, 28), (60000,), (10000, 28, 28), (10000,))"
            ]
          },
          "metadata": {},
          "execution_count": 85
        }
      ]
    },
    {
      "cell_type": "code",
      "source": [
        "X_train_flat = X_train.reshape(60000, 784)\n",
        "X_test_flat = X_test.reshape(10000, 784)"
      ],
      "metadata": {
        "id": "H4-vDmNCQtig"
      },
      "execution_count": 86,
      "outputs": []
    },
    {
      "cell_type": "code",
      "source": [
        "784*0.2"
      ],
      "metadata": {
        "colab": {
          "base_uri": "https://localhost:8080/"
        },
        "id": "-o4IMby-R99-",
        "outputId": "e22a2cc7-e306-4e77-e7bb-ee8401ac93c7"
      },
      "execution_count": 94,
      "outputs": [
        {
          "output_type": "execute_result",
          "data": {
            "text/plain": [
              "156.8"
            ]
          },
          "metadata": {},
          "execution_count": 94
        }
      ]
    },
    {
      "cell_type": "code",
      "source": [
        "import matplotlib.pyplot as plt\n",
        "import numpy as np\n",
        "\n",
        "# Select 9 random indices\n",
        "random_indices = np.random.choice(X_train.shape[0], 9, replace=False)\n",
        "\n",
        "# Plot the images\n",
        "plt.figure(figsize=(8, 8))\n",
        "for i, idx in enumerate(random_indices):\n",
        "    plt.subplot(3, 3, i + 1)\n",
        "    plt.imshow(X_train[idx], cmap='gray')\n",
        "    plt.title(f\"Label: {y_train[idx]}\")\n",
        "    plt.axis('off')\n",
        "\n",
        "plt.tight_layout()\n",
        "plt.show()"
      ],
      "metadata": {
        "colab": {
          "base_uri": "https://localhost:8080/",
          "height": 807
        },
        "id": "BhmmFdhIP-5h",
        "outputId": "b230b11a-48c9-4135-c7ee-8278dcef9079"
      },
      "execution_count": 81,
      "outputs": [
        {
          "output_type": "display_data",
          "data": {
            "text/plain": [
              "<Figure size 800x800 with 9 Axes>"
            ],
            "image/png": "[encoded data removed]"
          },
          "metadata": {}
        }
      ]
    },
    {
      "cell_type": "code",
      "source": [
        "model = RidgeClassifier()\n",
        "scores = cross_validate(model, X_train_flat, y_train)\n",
        "pprint(scores['test_score'])\n",
        "print(scores['test_score'].mean())"
      ],
      "metadata": {
        "colab": {
          "base_uri": "https://localhost:8080/"
        },
        "id": "KPFk24PcQVIw",
        "outputId": "ab4ce946-6b76-4505-9f92-0e7badbd2e9f"
      },
      "execution_count": 88,
      "outputs": [
        {
          "output_type": "stream",
          "name": "stdout",
          "text": [
            "array([0.855     , 0.84158333, 0.84125   , 0.8435    , 0.86258333])\n",
            "0.8487833333333334\n"
          ]
        }
      ]
    },
    {
      "cell_type": "code",
      "source": [
        "model = make_pipeline(StandardScaler(), RidgeClassifier())\n",
        "scores = cross_validate(model, X_train_flat, y_train)\n",
        "pprint(scores['test_score'])\n",
        "print(scores['test_score'].mean())"
      ],
      "metadata": {
        "colab": {
          "base_uri": "https://localhost:8080/"
        },
        "id": "FG0X8t7OQTTg",
        "outputId": "a0e525b4-307b-43df-8520-743ffe5ad2ab"
      },
      "execution_count": 90,
      "outputs": [
        {
          "output_type": "stream",
          "name": "stdout",
          "text": [
            "array([0.855     , 0.84158333, 0.84125   , 0.8435    , 0.86275   ])\n",
            "0.8488166666666667\n"
          ]
        }
      ]
    },
    {
      "cell_type": "code",
      "source": [
        "model = make_pipeline(KMeans(n_clusters=160), RidgeClassifier())\n",
        "scores = cross_validate(model, X_train_flat, y_train)\n",
        "pprint(scores['test_score'])\n",
        "print(scores['test_score'].mean())"
      ],
      "metadata": {
        "colab": {
          "base_uri": "https://localhost:8080/"
        },
        "id": "x3iCTonhRRku",
        "outputId": "0d0ea309-1f71-4534-da3d-cdf117532eaf"
      },
      "execution_count": 95,
      "outputs": [
        {
          "output_type": "stream",
          "name": "stdout",
          "text": [
            "array([0.92933333, 0.92216667, 0.9215    , 0.922     , 0.93175   ])\n",
            "0.9253500000000001\n"
          ]
        }
      ]
    }
  ]
}
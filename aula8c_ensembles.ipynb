{
  "nbformat": 4,
  "nbformat_minor": 0,
  "metadata": {
    "colab": {
      "provenance": [],
      "authorship_tag": "ABX9TyN413lnD7DjBs6nwyqHyLYP",
      "include_colab_link": true
    },
    "kernelspec": {
      "name": "python3",
      "display_name": "Python 3"
    },
    "language_info": {
      "name": "python"
    }
  },
  "cells": [
    {
      "cell_type": "markdown",
      "metadata": {
        "id": "view-in-github",
        "colab_type": "text"
      },
      "source": [
        "<a href=\"https://colab.research.google.com/github/fboldt/aulasml/blob/master/aula8c_ensembles.ipynb\" target=\"_parent\"><img src=\"https://colab.research.google.com/assets/colab-badge.svg\" alt=\"Open In Colab\"/></a>"
      ]
    },
    {
      "cell_type": "code",
      "source": [
        "from sklearn.model_selection import train_test_split\n",
        "from sklearn.datasets import fetch_olivetti_faces\n",
        "X, y = fetch_olivetti_faces(return_X_y=True)\n",
        "Xtr, Xte, ytr, yte = train_test_split(X, y, random_state=42)\n",
        "Xtr.shape, Xte.shape"
      ],
      "metadata": {
        "colab": {
          "base_uri": "https://localhost:8080/"
        },
        "id": "ar-x7p03riWb",
        "outputId": "9c3e9e1a-cdb2-408b-90d4-5ba81e62d825"
      },
      "execution_count": 77,
      "outputs": [
        {
          "output_type": "stream",
          "name": "stdout",
          "text": [
            "downloading Olivetti faces from https://ndownloader.figshare.com/files/5976027 to /root/scikit_learn_data\n"
          ]
        },
        {
          "output_type": "execute_result",
          "data": {
            "text/plain": [
              "((300, 4096), (100, 4096))"
            ]
          },
          "metadata": {},
          "execution_count": 77
        }
      ]
    },
    {
      "cell_type": "code",
      "source": [
        "from sklearn.neighbors import KNeighborsClassifier\n",
        "knn = KNeighborsClassifier()\n",
        "knn.fit(Xtr, ytr)\n",
        "knn_pr = knn.predict(Xte)\n",
        "knn_hits = (knn_pr == yte)\n",
        "print(knn_hits.sum() / len(knn_hits))\n",
        "knn_hits"
      ],
      "metadata": {
        "colab": {
          "base_uri": "https://localhost:8080/"
        },
        "id": "viddjyUzr33K",
        "outputId": "0cd7e0b5-56a1-42a8-cf91-bb161a2feefe"
      },
      "execution_count": 80,
      "outputs": [
        {
          "output_type": "stream",
          "name": "stdout",
          "text": [
            "0.83\n"
          ]
        },
        {
          "output_type": "execute_result",
          "data": {
            "text/plain": [
              "array([ True,  True,  True,  True,  True,  True,  True,  True,  True,\n",
              "        True,  True,  True,  True,  True,  True,  True, False,  True,\n",
              "        True,  True,  True,  True, False, False,  True, False,  True,\n",
              "        True,  True,  True, False, False,  True,  True, False,  True,\n",
              "       False, False,  True,  True,  True,  True,  True,  True,  True,\n",
              "       False,  True,  True,  True,  True,  True,  True,  True,  True,\n",
              "        True,  True,  True,  True,  True, False,  True,  True,  True,\n",
              "       False,  True, False,  True,  True, False,  True,  True,  True,\n",
              "       False,  True,  True,  True,  True,  True,  True,  True, False,\n",
              "        True,  True,  True,  True,  True,  True,  True,  True,  True,\n",
              "        True,  True,  True,  True,  True,  True,  True,  True,  True,\n",
              "       False])"
            ]
          },
          "metadata": {},
          "execution_count": 80
        }
      ]
    },
    {
      "cell_type": "code",
      "source": [
        "from sklearn.naive_bayes import GaussianNB\n",
        "gnb = GaussianNB()\n",
        "gnb.fit(Xtr, ytr)\n",
        "gnb_pr = gnb.predict(Xte)\n",
        "gnb_hits = (gnb_pr == yte)\n",
        "print(gnb_hits.sum() / len(gnb_hits))\n",
        "gnb_hits"
      ],
      "metadata": {
        "colab": {
          "base_uri": "https://localhost:8080/"
        },
        "id": "b1ljBnZnsom9",
        "outputId": "7c7c259d-22ad-4c41-bfdb-85d23ef2cc15"
      },
      "execution_count": 81,
      "outputs": [
        {
          "output_type": "stream",
          "name": "stdout",
          "text": [
            "0.81\n"
          ]
        },
        {
          "output_type": "execute_result",
          "data": {
            "text/plain": [
              "array([ True,  True,  True,  True,  True,  True,  True,  True,  True,\n",
              "       False,  True,  True,  True, False,  True, False,  True,  True,\n",
              "        True,  True, False,  True,  True,  True,  True,  True,  True,\n",
              "        True,  True, False,  True,  True,  True,  True,  True,  True,\n",
              "       False,  True,  True,  True,  True,  True, False,  True,  True,\n",
              "        True,  True,  True,  True, False,  True,  True,  True, False,\n",
              "        True,  True,  True,  True,  True,  True,  True,  True, False,\n",
              "       False,  True,  True,  True, False,  True, False,  True,  True,\n",
              "       False,  True,  True,  True,  True,  True, False,  True, False,\n",
              "        True,  True,  True,  True,  True,  True,  True, False,  True,\n",
              "        True,  True,  True,  True, False,  True,  True,  True,  True,\n",
              "       False])"
            ]
          },
          "metadata": {},
          "execution_count": 81
        }
      ]
    },
    {
      "cell_type": "code",
      "source": [
        "from sklearn.linear_model import Perceptron\n",
        "per = Perceptron()\n",
        "per.fit(Xtr, ytr)\n",
        "per_pr = per.predict(Xte)\n",
        "per_hits = (per_pr == yte)\n",
        "print(per_hits.sum() / len(per_hits))\n",
        "per_hits"
      ],
      "metadata": {
        "colab": {
          "base_uri": "https://localhost:8080/"
        },
        "id": "JdHmUlrKtBgH",
        "outputId": "b8c10168-c9d0-44d3-cf26-20a424ec82ad"
      },
      "execution_count": 82,
      "outputs": [
        {
          "output_type": "stream",
          "name": "stdout",
          "text": [
            "0.78\n"
          ]
        },
        {
          "output_type": "execute_result",
          "data": {
            "text/plain": [
              "array([ True,  True,  True,  True,  True,  True,  True,  True,  True,\n",
              "       False,  True,  True, False,  True,  True, False, False,  True,\n",
              "        True,  True,  True,  True,  True, False,  True,  True,  True,\n",
              "        True,  True,  True,  True,  True,  True, False,  True,  True,\n",
              "        True,  True,  True,  True,  True, False,  True, False,  True,\n",
              "       False,  True,  True,  True,  True, False,  True,  True,  True,\n",
              "        True, False,  True,  True,  True,  True, False,  True,  True,\n",
              "       False,  True,  True,  True, False,  True,  True,  True,  True,\n",
              "       False, False,  True,  True,  True,  True, False,  True, False,\n",
              "        True, False,  True,  True,  True,  True,  True,  True,  True,\n",
              "        True,  True,  True, False,  True,  True, False,  True,  True,\n",
              "       False])"
            ]
          },
          "metadata": {},
          "execution_count": 82
        }
      ]
    },
    {
      "cell_type": "code",
      "source": [
        "import numpy as np\n",
        "hits = np.array([knn_hits, gnb_hits, per_hits])\n",
        "hits.T"
      ],
      "metadata": {
        "colab": {
          "base_uri": "https://localhost:8080/"
        },
        "id": "fOu0G6J5tXzm",
        "outputId": "bb176052-ae93-4171-ee2f-13a0fd72e089"
      },
      "execution_count": 83,
      "outputs": [
        {
          "output_type": "execute_result",
          "data": {
            "text/plain": [
              "array([[ True,  True,  True],\n",
              "       [ True,  True,  True],\n",
              "       [ True,  True,  True],\n",
              "       [ True,  True,  True],\n",
              "       [ True,  True,  True],\n",
              "       [ True,  True,  True],\n",
              "       [ True,  True,  True],\n",
              "       [ True,  True,  True],\n",
              "       [ True,  True,  True],\n",
              "       [ True, False, False],\n",
              "       [ True,  True,  True],\n",
              "       [ True,  True,  True],\n",
              "       [ True,  True, False],\n",
              "       [ True, False,  True],\n",
              "       [ True,  True,  True],\n",
              "       [ True, False, False],\n",
              "       [False,  True, False],\n",
              "       [ True,  True,  True],\n",
              "       [ True,  True,  True],\n",
              "       [ True,  True,  True],\n",
              "       [ True, False,  True],\n",
              "       [ True,  True,  True],\n",
              "       [False,  True,  True],\n",
              "       [False,  True, False],\n",
              "       [ True,  True,  True],\n",
              "       [False,  True,  True],\n",
              "       [ True,  True,  True],\n",
              "       [ True,  True,  True],\n",
              "       [ True,  True,  True],\n",
              "       [ True, False,  True],\n",
              "       [False,  True,  True],\n",
              "       [False,  True,  True],\n",
              "       [ True,  True,  True],\n",
              "       [ True,  True, False],\n",
              "       [False,  True,  True],\n",
              "       [ True,  True,  True],\n",
              "       [False, False,  True],\n",
              "       [False,  True,  True],\n",
              "       [ True,  True,  True],\n",
              "       [ True,  True,  True],\n",
              "       [ True,  True,  True],\n",
              "       [ True,  True, False],\n",
              "       [ True, False,  True],\n",
              "       [ True,  True, False],\n",
              "       [ True,  True,  True],\n",
              "       [False,  True, False],\n",
              "       [ True,  True,  True],\n",
              "       [ True,  True,  True],\n",
              "       [ True,  True,  True],\n",
              "       [ True, False,  True],\n",
              "       [ True,  True, False],\n",
              "       [ True,  True,  True],\n",
              "       [ True,  True,  True],\n",
              "       [ True, False,  True],\n",
              "       [ True,  True,  True],\n",
              "       [ True,  True, False],\n",
              "       [ True,  True,  True],\n",
              "       [ True,  True,  True],\n",
              "       [ True,  True,  True],\n",
              "       [False,  True,  True],\n",
              "       [ True,  True, False],\n",
              "       [ True,  True,  True],\n",
              "       [ True, False,  True],\n",
              "       [False, False, False],\n",
              "       [ True,  True,  True],\n",
              "       [False,  True,  True],\n",
              "       [ True,  True,  True],\n",
              "       [ True, False, False],\n",
              "       [False,  True,  True],\n",
              "       [ True, False,  True],\n",
              "       [ True,  True,  True],\n",
              "       [ True,  True,  True],\n",
              "       [False, False, False],\n",
              "       [ True,  True, False],\n",
              "       [ True,  True,  True],\n",
              "       [ True,  True,  True],\n",
              "       [ True,  True,  True],\n",
              "       [ True,  True,  True],\n",
              "       [ True, False, False],\n",
              "       [ True,  True,  True],\n",
              "       [False, False, False],\n",
              "       [ True,  True,  True],\n",
              "       [ True,  True, False],\n",
              "       [ True,  True,  True],\n",
              "       [ True,  True,  True],\n",
              "       [ True,  True,  True],\n",
              "       [ True,  True,  True],\n",
              "       [ True,  True,  True],\n",
              "       [ True, False,  True],\n",
              "       [ True,  True,  True],\n",
              "       [ True,  True,  True],\n",
              "       [ True,  True,  True],\n",
              "       [ True,  True,  True],\n",
              "       [ True,  True, False],\n",
              "       [ True, False,  True],\n",
              "       [ True,  True,  True],\n",
              "       [ True,  True, False],\n",
              "       [ True,  True,  True],\n",
              "       [ True,  True,  True],\n",
              "       [False, False, False]])"
            ]
          },
          "metadata": {},
          "execution_count": 83
        }
      ]
    },
    {
      "cell_type": "code",
      "source": [
        "ypr = np.array([knn_pr, gnb_pr, per_pr])\n",
        "ypr.T"
      ],
      "metadata": {
        "colab": {
          "base_uri": "https://localhost:8080/"
        },
        "id": "roMPwhnlt2Gb",
        "outputId": "5450e445-7dbd-41a7-9893-92ce2a84284f"
      },
      "execution_count": 84,
      "outputs": [
        {
          "output_type": "execute_result",
          "data": {
            "text/plain": [
              "array([[20, 20, 20],\n",
              "       [28, 28, 28],\n",
              "       [ 3,  3,  3],\n",
              "       [21, 21, 21],\n",
              "       [ 9,  9,  9],\n",
              "       [ 8,  8,  8],\n",
              "       [32, 32, 32],\n",
              "       [ 9,  9,  9],\n",
              "       [26, 26, 26],\n",
              "       [12, 16, 28],\n",
              "       [ 0,  0,  0],\n",
              "       [36, 36, 36],\n",
              "       [ 5,  5,  8],\n",
              "       [ 7, 15,  7],\n",
              "       [13, 13, 13],\n",
              "       [ 4, 34, 29],\n",
              "       [25, 27, 25],\n",
              "       [37, 37, 37],\n",
              "       [23, 23, 23],\n",
              "       [38, 38, 38],\n",
              "       [ 7, 15,  7],\n",
              "       [ 1,  1,  1],\n",
              "       [ 4, 39, 39],\n",
              "       [25, 27, 25],\n",
              "       [ 0,  0,  0],\n",
              "       [ 3, 39, 39],\n",
              "       [11, 11, 11],\n",
              "       [22, 22, 22],\n",
              "       [26, 26, 26],\n",
              "       [10, 15, 10],\n",
              "       [29, 39, 39],\n",
              "       [29, 19, 19],\n",
              "       [26, 26, 26],\n",
              "       [ 5,  5, 29],\n",
              "       [20, 23, 23],\n",
              "       [11, 11, 11],\n",
              "       [12, 39, 11],\n",
              "       [20, 34, 34],\n",
              "       [15, 15, 15],\n",
              "       [14, 14, 14],\n",
              "       [38, 38, 38],\n",
              "       [ 5,  5, 29],\n",
              "       [ 7,  9,  7],\n",
              "       [ 2,  2, 36],\n",
              "       [ 8,  8,  8],\n",
              "       [28, 38, 28],\n",
              "       [14, 14, 14],\n",
              "       [18, 18, 18],\n",
              "       [ 2,  2,  2],\n",
              "       [17, 39, 17],\n",
              "       [ 4,  4, 39],\n",
              "       [32, 32, 32],\n",
              "       [33, 33, 33],\n",
              "       [ 7,  9,  7],\n",
              "       [37, 37, 37],\n",
              "       [ 3,  3,  1],\n",
              "       [22, 22, 22],\n",
              "       [17, 17, 17],\n",
              "       [ 3,  3,  3],\n",
              "       [ 0, 15, 15],\n",
              "       [12, 12, 36],\n",
              "       [29, 29, 29],\n",
              "       [25, 16, 25],\n",
              "       [17, 35, 28],\n",
              "       [10, 10, 10],\n",
              "       [14,  3,  3],\n",
              "       [35, 35, 35],\n",
              "       [26, 12,  1],\n",
              "       [37, 39, 39],\n",
              "       [ 7,  9,  7],\n",
              "       [32, 32, 32],\n",
              "       [14, 14, 14],\n",
              "       [ 3, 35, 20],\n",
              "       [ 4,  4,  8],\n",
              "       [38, 38, 38],\n",
              "       [24, 24, 24],\n",
              "       [22, 22, 22],\n",
              "       [36, 36, 36],\n",
              "       [17,  9, 28],\n",
              "       [28, 28, 28],\n",
              "       [16, 16, 20],\n",
              "       [ 1,  1,  1],\n",
              "       [20, 20,  8],\n",
              "       [25, 25, 25],\n",
              "       [27, 27, 27],\n",
              "       [ 6,  6,  6],\n",
              "       [24, 24, 24],\n",
              "       [30, 30, 30],\n",
              "       [10, 15, 10],\n",
              "       [ 9,  9,  9],\n",
              "       [23, 23, 23],\n",
              "       [33, 33, 33],\n",
              "       [11, 11, 11],\n",
              "       [22, 22,  8],\n",
              "       [18, 25, 18],\n",
              "       [31, 31, 31],\n",
              "       [37, 37, 39],\n",
              "       [38, 38, 38],\n",
              "       [23, 23, 23],\n",
              "       [17,  9, 18]])"
            ]
          },
          "metadata": {},
          "execution_count": 84
        }
      ]
    },
    {
      "cell_type": "code",
      "source": [
        "from scipy import stats\n",
        "ypr = stats.mode(ypr)[0].reshape(-1)\n",
        "vot_hits = (ypr == yte)\n",
        "print(vot_hits.sum() / len(vot_hits))\n",
        "vot_hits"
      ],
      "metadata": {
        "colab": {
          "base_uri": "https://localhost:8080/"
        },
        "id": "gR-JvRNquCZo",
        "outputId": "c60ef208-15ef-4e0a-f3a8-dd19d7593a9e"
      },
      "execution_count": 85,
      "outputs": [
        {
          "output_type": "stream",
          "name": "stdout",
          "text": [
            "0.91\n"
          ]
        },
        {
          "output_type": "execute_result",
          "data": {
            "text/plain": [
              "array([ True,  True,  True,  True,  True,  True,  True,  True,  True,\n",
              "        True,  True,  True,  True,  True,  True,  True, False,  True,\n",
              "        True,  True,  True,  True,  True, False,  True,  True,  True,\n",
              "        True,  True,  True,  True,  True,  True,  True,  True,  True,\n",
              "        True,  True,  True,  True,  True,  True,  True,  True,  True,\n",
              "       False,  True,  True,  True,  True,  True,  True,  True,  True,\n",
              "        True,  True,  True,  True,  True,  True,  True,  True,  True,\n",
              "       False,  True,  True,  True, False,  True,  True,  True,  True,\n",
              "       False,  True,  True,  True,  True,  True, False,  True, False,\n",
              "        True,  True,  True,  True,  True,  True,  True,  True,  True,\n",
              "        True,  True,  True,  True,  True,  True,  True,  True,  True,\n",
              "       False])"
            ]
          },
          "metadata": {},
          "execution_count": 85
        }
      ]
    },
    {
      "cell_type": "markdown",
      "source": [
        "##  Combinação de Classificadores"
      ],
      "metadata": {
        "id": "g_U5lHiourRt"
      }
    },
    {
      "cell_type": "code",
      "source": [
        "from sklearn.ensemble import VotingClassifier\n",
        "modelo = VotingClassifier([('knn', knn), ('gnb', gnb), ('per', per)])\n",
        "modelo.fit(Xtr, ytr)\n",
        "modelo_pr = modelo.predict(Xte)\n",
        "modelo_hits = (modelo_pr == yte)\n",
        "print(modelo_hits.sum() / len(modelo_hits))\n",
        "modelo_hits"
      ],
      "metadata": {
        "colab": {
          "base_uri": "https://localhost:8080/"
        },
        "id": "Ms_SnYvtuvN_",
        "outputId": "8b299e9c-4d9f-477b-dea7-45ac01608a98"
      },
      "execution_count": 86,
      "outputs": [
        {
          "output_type": "stream",
          "name": "stdout",
          "text": [
            "0.91\n"
          ]
        },
        {
          "output_type": "execute_result",
          "data": {
            "text/plain": [
              "array([ True,  True,  True,  True,  True,  True,  True,  True,  True,\n",
              "        True,  True,  True,  True,  True,  True,  True, False,  True,\n",
              "        True,  True,  True,  True,  True, False,  True,  True,  True,\n",
              "        True,  True,  True,  True,  True,  True,  True,  True,  True,\n",
              "        True,  True,  True,  True,  True,  True,  True,  True,  True,\n",
              "       False,  True,  True,  True,  True,  True,  True,  True,  True,\n",
              "        True,  True,  True,  True,  True,  True,  True,  True,  True,\n",
              "       False,  True,  True,  True, False,  True,  True,  True,  True,\n",
              "       False,  True,  True,  True,  True,  True, False,  True, False,\n",
              "        True,  True,  True,  True,  True,  True,  True,  True,  True,\n",
              "        True,  True,  True,  True,  True,  True,  True,  True,  True,\n",
              "       False])"
            ]
          },
          "metadata": {},
          "execution_count": 86
        }
      ]
    },
    {
      "cell_type": "code",
      "source": [
        "modelo = VotingClassifier([\n",
        "    ('knn1', KNeighborsClassifier(1)),\n",
        "    ('knn5', KNeighborsClassifier(5)),\n",
        "    ('knn9', KNeighborsClassifier(9))])\n",
        "modelo.fit(Xtr, ytr)\n",
        "modelo_pr = modelo.predict(Xte)\n",
        "modelo_hits = (modelo_pr == yte)\n",
        "print(modelo_hits.sum() / len(modelo_hits))\n",
        "modelo_hits"
      ],
      "metadata": {
        "colab": {
          "base_uri": "https://localhost:8080/"
        },
        "id": "79nIvBG_vHUj",
        "outputId": "60fe32a0-72f5-4d27-99e7-94bd5beda6de"
      },
      "execution_count": 87,
      "outputs": [
        {
          "output_type": "stream",
          "name": "stdout",
          "text": [
            "0.84\n"
          ]
        },
        {
          "output_type": "execute_result",
          "data": {
            "text/plain": [
              "array([ True,  True,  True,  True,  True,  True,  True,  True,  True,\n",
              "        True,  True,  True,  True,  True,  True,  True, False,  True,\n",
              "        True,  True,  True,  True, False,  True,  True, False,  True,\n",
              "        True,  True,  True, False, False,  True,  True,  True,  True,\n",
              "       False, False, False,  True,  True,  True,  True,  True,  True,\n",
              "       False,  True,  True,  True,  True,  True,  True,  True,  True,\n",
              "        True,  True,  True,  True,  True,  True,  True,  True,  True,\n",
              "       False,  True, False,  True,  True, False,  True,  True,  True,\n",
              "       False,  True,  True,  True,  True,  True,  True,  True, False,\n",
              "        True,  True,  True,  True,  True,  True,  True,  True,  True,\n",
              "        True,  True,  True, False,  True,  True,  True,  True,  True,\n",
              "       False])"
            ]
          },
          "metadata": {},
          "execution_count": 87
        }
      ]
    },
    {
      "cell_type": "code",
      "source": [
        "from sklearn.tree import DecisionTreeClassifier\n",
        "modelo = VotingClassifier([\n",
        "    ('knn', knn),\n",
        "    ('gnb', gnb),\n",
        "    ('dtc', DecisionTreeClassifier(random_state=42))])\n",
        "modelo.fit(Xtr, ytr)\n",
        "modelo_pr = modelo.predict(Xte)\n",
        "modelo_hits = (modelo_pr == yte)\n",
        "print(modelo_hits.sum() / len(modelo_hits))\n",
        "modelo_hits"
      ],
      "metadata": {
        "colab": {
          "base_uri": "https://localhost:8080/"
        },
        "id": "jdDvhl8Hvj4k",
        "outputId": "6034a10e-d168-46d2-8888-7c883314358d"
      },
      "execution_count": 90,
      "outputs": [
        {
          "output_type": "stream",
          "name": "stdout",
          "text": [
            "0.8\n"
          ]
        },
        {
          "output_type": "execute_result",
          "data": {
            "text/plain": [
              "array([ True,  True,  True,  True,  True,  True,  True,  True,  True,\n",
              "       False,  True,  True,  True,  True,  True, False, False,  True,\n",
              "        True,  True,  True,  True, False, False,  True, False,  True,\n",
              "        True,  True,  True, False,  True,  True,  True, False,  True,\n",
              "       False, False,  True,  True,  True,  True,  True,  True,  True,\n",
              "       False,  True,  True,  True,  True,  True,  True,  True,  True,\n",
              "        True,  True,  True,  True,  True,  True,  True,  True, False,\n",
              "       False,  True,  True,  True, False, False,  True,  True,  True,\n",
              "       False,  True,  True,  True,  True,  True, False,  True, False,\n",
              "        True,  True,  True,  True,  True,  True,  True, False,  True,\n",
              "        True,  True,  True,  True,  True,  True,  True,  True,  True,\n",
              "       False])"
            ]
          },
          "metadata": {},
          "execution_count": 90
        }
      ]
    },
    {
      "cell_type": "code",
      "source": [
        "modelo = DecisionTreeClassifier(random_state=42)\n",
        "modelo.fit(Xtr, ytr)\n",
        "modelo_pr = modelo.predict(Xte)\n",
        "modelo_hits = (modelo_pr == yte)\n",
        "print(modelo_hits.sum() / len(modelo_hits))\n",
        "modelo_hits"
      ],
      "metadata": {
        "colab": {
          "base_uri": "https://localhost:8080/"
        },
        "id": "JZclsn2jv2wx",
        "outputId": "c2c02438-f513-475b-bd1f-9569a530415f"
      },
      "execution_count": 91,
      "outputs": [
        {
          "output_type": "stream",
          "name": "stdout",
          "text": [
            "0.4\n"
          ]
        },
        {
          "output_type": "execute_result",
          "data": {
            "text/plain": [
              "array([False,  True, False,  True,  True, False,  True,  True,  True,\n",
              "       False, False,  True,  True, False, False, False, False, False,\n",
              "        True, False,  True, False, False, False, False, False, False,\n",
              "       False,  True, False, False,  True, False, False, False, False,\n",
              "       False, False,  True, False, False,  True, False, False,  True,\n",
              "       False, False,  True, False,  True, False,  True,  True, False,\n",
              "        True, False, False, False,  True,  True,  True,  True, False,\n",
              "       False, False,  True,  True, False, False, False,  True, False,\n",
              "       False, False,  True,  True, False, False, False,  True, False,\n",
              "       False, False,  True, False,  True,  True, False, False,  True,\n",
              "        True,  True,  True,  True,  True, False, False,  True, False,\n",
              "       False])"
            ]
          },
          "metadata": {},
          "execution_count": 91
        }
      ]
    },
    {
      "cell_type": "markdown",
      "source": [
        "## Diversificação por reamostragem"
      ],
      "metadata": {
        "id": "I4XjgkIVweic"
      }
    },
    {
      "cell_type": "code",
      "source": [
        "modelo = DecisionTreeClassifier()\n",
        "modelo.fit(Xtr, ytr)\n",
        "modelo_pr = modelo.predict(Xte)\n",
        "modelo_hits = (modelo_pr == yte)\n",
        "print(modelo_hits.sum() / len(modelo_hits))\n",
        "modelo_hits"
      ],
      "metadata": {
        "colab": {
          "base_uri": "https://localhost:8080/"
        },
        "id": "XuSKqkCWwkKw",
        "outputId": "0b12f3d6-7e2f-4743-da9d-84c103fffcad"
      },
      "execution_count": 92,
      "outputs": [
        {
          "output_type": "stream",
          "name": "stdout",
          "text": [
            "0.48\n"
          ]
        },
        {
          "output_type": "execute_result",
          "data": {
            "text/plain": [
              "array([False, False, False,  True,  True, False,  True,  True,  True,\n",
              "       False, False,  True,  True,  True, False, False, False, False,\n",
              "        True,  True,  True, False, False, False, False, False, False,\n",
              "       False,  True,  True, False,  True, False, False, False, False,\n",
              "       False, False,  True, False, False,  True, False,  True,  True,\n",
              "       False, False,  True,  True,  True, False,  True,  True, False,\n",
              "        True, False, False, False,  True,  True,  True,  True, False,\n",
              "       False,  True,  True,  True, False, False, False,  True, False,\n",
              "       False,  True,  True,  True,  True, False, False, False, False,\n",
              "       False,  True,  True, False,  True,  True,  True, False,  True,\n",
              "        True,  True,  True,  True,  True,  True, False, False, False,\n",
              "       False])"
            ]
          },
          "metadata": {},
          "execution_count": 92
        }
      ]
    },
    {
      "cell_type": "code",
      "source": [
        "from sklearn.ensemble import BaggingClassifier\n",
        "modelo = BaggingClassifier(DecisionTreeClassifier(), n_estimators=10)\n",
        "modelo.fit(Xtr, ytr)\n",
        "modelo_pr = modelo.predict(Xte)\n",
        "modelo_hits = (modelo_pr == yte)\n",
        "print(modelo_hits.sum() / len(modelo_hits))\n",
        "modelo_hits"
      ],
      "metadata": {
        "colab": {
          "base_uri": "https://localhost:8080/"
        },
        "id": "Z-28p5TkwwbO",
        "outputId": "1d905d5d-89fa-4333-e12a-cd07b4fdf0c2"
      },
      "execution_count": 93,
      "outputs": [
        {
          "output_type": "stream",
          "name": "stdout",
          "text": [
            "0.61\n"
          ]
        },
        {
          "output_type": "execute_result",
          "data": {
            "text/plain": [
              "array([ True,  True,  True,  True,  True,  True,  True, False,  True,\n",
              "       False, False,  True,  True, False,  True, False, False,  True,\n",
              "        True,  True, False,  True, False, False,  True,  True, False,\n",
              "        True,  True, False,  True,  True,  True,  True, False,  True,\n",
              "       False,  True,  True, False, False,  True, False,  True, False,\n",
              "       False, False,  True,  True, False, False,  True,  True, False,\n",
              "        True, False, False, False,  True,  True,  True,  True, False,\n",
              "       False,  True, False,  True, False, False, False,  True,  True,\n",
              "       False,  True,  True,  True,  True,  True, False,  True, False,\n",
              "       False,  True, False, False,  True,  True,  True,  True,  True,\n",
              "        True,  True,  True, False,  True,  True,  True,  True,  True,\n",
              "       False])"
            ]
          },
          "metadata": {},
          "execution_count": 93
        }
      ]
    },
    {
      "cell_type": "code",
      "source": [
        "modelo = BaggingClassifier()\n",
        "modelo.fit(Xtr, ytr)\n",
        "modelo_pr = modelo.predict(Xte)\n",
        "modelo_hits = (modelo_pr == yte)\n",
        "print(modelo_hits.sum() / len(modelo_hits))\n",
        "modelo_hits"
      ],
      "metadata": {
        "colab": {
          "base_uri": "https://localhost:8080/"
        },
        "id": "s2-ngqA_x1VW",
        "outputId": "1a220e01-7583-4799-9f4b-ab9f717b7ec7"
      },
      "execution_count": 96,
      "outputs": [
        {
          "output_type": "stream",
          "name": "stdout",
          "text": [
            "0.65\n"
          ]
        },
        {
          "output_type": "execute_result",
          "data": {
            "text/plain": [
              "array([ True,  True,  True,  True,  True,  True,  True, False,  True,\n",
              "       False,  True,  True,  True,  True,  True,  True, False, False,\n",
              "        True, False,  True,  True, False, False,  True, False,  True,\n",
              "        True, False, False,  True,  True, False,  True, False, False,\n",
              "       False,  True,  True,  True, False,  True,  True,  True,  True,\n",
              "       False,  True,  True,  True,  True, False,  True,  True, False,\n",
              "        True,  True, False, False,  True,  True,  True,  True, False,\n",
              "       False,  True, False,  True, False, False, False,  True,  True,\n",
              "        True,  True,  True,  True,  True, False, False,  True,  True,\n",
              "        True,  True,  True, False,  True,  True, False, False,  True,\n",
              "       False,  True,  True, False,  True, False,  True,  True,  True,\n",
              "       False])"
            ]
          },
          "metadata": {},
          "execution_count": 96
        }
      ]
    },
    {
      "cell_type": "markdown",
      "source": [
        "## Aumentando a aleatoriedade para aumentar a diversidade"
      ],
      "metadata": {
        "id": "sp-87vQNyaLI"
      }
    },
    {
      "cell_type": "code",
      "source": [
        "modelo = BaggingClassifier(estimator=DecisionTreeClassifier(splitter='random'))\n",
        "modelo.fit(Xtr, ytr)\n",
        "modelo_pr = modelo.predict(Xte)\n",
        "modelo_hits = (modelo_pr == yte)\n",
        "print(modelo_hits.sum() / len(modelo_hits))\n",
        "modelo_hits"
      ],
      "metadata": {
        "colab": {
          "base_uri": "https://localhost:8080/"
        },
        "id": "2fWTbDMDygS2",
        "outputId": "527bfdbd-06f2-47e7-a944-53d9640594f5"
      },
      "execution_count": 102,
      "outputs": [
        {
          "output_type": "stream",
          "name": "stdout",
          "text": [
            "0.75\n"
          ]
        },
        {
          "output_type": "execute_result",
          "data": {
            "text/plain": [
              "array([ True,  True,  True,  True,  True,  True,  True,  True,  True,\n",
              "       False,  True,  True,  True, False,  True,  True, False,  True,\n",
              "        True,  True,  True, False, False, False,  True,  True,  True,\n",
              "        True,  True,  True, False,  True,  True,  True,  True,  True,\n",
              "       False, False, False,  True,  True,  True,  True, False,  True,\n",
              "        True,  True,  True,  True,  True, False,  True,  True, False,\n",
              "        True,  True, False,  True,  True,  True,  True,  True, False,\n",
              "       False,  True,  True,  True, False, False, False,  True,  True,\n",
              "        True,  True,  True,  True,  True,  True,  True,  True, False,\n",
              "       False,  True, False, False,  True,  True,  True,  True,  True,\n",
              "        True,  True,  True, False,  True,  True,  True,  True,  True,\n",
              "       False])"
            ]
          },
          "metadata": {},
          "execution_count": 102
        }
      ]
    },
    {
      "cell_type": "code",
      "source": [
        "modelo = BaggingClassifier(estimator=DecisionTreeClassifier(splitter='random'),\n",
        "                           n_estimators=100)\n",
        "modelo.fit(Xtr, ytr)\n",
        "modelo_pr = modelo.predict(Xte)\n",
        "modelo_hits = (modelo_pr == yte)\n",
        "print(modelo_hits.sum() / len(modelo_hits))\n",
        "modelo_hits"
      ],
      "metadata": {
        "colab": {
          "base_uri": "https://localhost:8080/"
        },
        "id": "1gpu4Caay4IO",
        "outputId": "1deae2c5-8f49-4217-e424-c6f46284b4a2"
      },
      "execution_count": 104,
      "outputs": [
        {
          "output_type": "stream",
          "name": "stdout",
          "text": [
            "0.86\n"
          ]
        },
        {
          "output_type": "execute_result",
          "data": {
            "text/plain": [
              "array([ True,  True,  True,  True,  True,  True,  True,  True,  True,\n",
              "        True,  True,  True,  True,  True,  True,  True, False,  True,\n",
              "        True,  True,  True,  True,  True, False,  True,  True,  True,\n",
              "        True,  True,  True,  True,  True,  True,  True,  True,  True,\n",
              "       False, False,  True,  True, False,  True,  True,  True,  True,\n",
              "        True,  True,  True,  True,  True, False,  True,  True, False,\n",
              "        True,  True,  True,  True,  True,  True,  True,  True, False,\n",
              "       False,  True,  True,  True,  True, False,  True,  True,  True,\n",
              "       False,  True,  True,  True,  True,  True,  True,  True, False,\n",
              "       False,  True,  True,  True,  True,  True,  True,  True,  True,\n",
              "        True,  True,  True,  True,  True,  True,  True,  True,  True,\n",
              "       False])"
            ]
          },
          "metadata": {},
          "execution_count": 104
        }
      ]
    },
    {
      "cell_type": "markdown",
      "source": [
        "## Random Forest é um Bagging de Árvores de Decisão"
      ],
      "metadata": {
        "id": "Obxdzx6LzYvG"
      }
    },
    {
      "cell_type": "code",
      "source": [
        "from sklearn.ensemble import RandomForestClassifier\n",
        "modelo = RandomForestClassifier()\n",
        "modelo.fit(Xtr, ytr)\n",
        "modelo_pr = modelo.predict(Xte)\n",
        "modelo_hits = (modelo_pr == yte)\n",
        "print(modelo_hits.sum() / len(modelo_hits))\n",
        "modelo_hits"
      ],
      "metadata": {
        "colab": {
          "base_uri": "https://localhost:8080/"
        },
        "id": "ZIpncsqNzXls",
        "outputId": "bc8084f9-f9c1-4847-d3a7-3f8e42bbf3c2"
      },
      "execution_count": 105,
      "outputs": [
        {
          "output_type": "stream",
          "name": "stdout",
          "text": [
            "0.92\n"
          ]
        },
        {
          "output_type": "execute_result",
          "data": {
            "text/plain": [
              "array([ True,  True,  True,  True,  True,  True,  True,  True,  True,\n",
              "        True,  True,  True,  True,  True,  True,  True, False,  True,\n",
              "        True,  True,  True,  True,  True,  True,  True,  True,  True,\n",
              "        True,  True,  True,  True,  True,  True,  True,  True,  True,\n",
              "       False, False,  True,  True, False,  True,  True,  True,  True,\n",
              "        True,  True,  True,  True,  True,  True,  True,  True,  True,\n",
              "        True,  True,  True,  True,  True,  True,  True,  True, False,\n",
              "       False,  True,  True,  True,  True, False,  True,  True,  True,\n",
              "        True,  True,  True,  True,  True,  True,  True,  True, False,\n",
              "        True,  True,  True,  True,  True,  True,  True,  True,  True,\n",
              "        True,  True,  True,  True,  True,  True,  True,  True,  True,\n",
              "        True])"
            ]
          },
          "metadata": {},
          "execution_count": 105
        }
      ]
    },
    {
      "cell_type": "markdown",
      "source": [
        "## Regularização do Bagging"
      ],
      "metadata": {
        "id": "8U1MG9_Z0W55"
      }
    },
    {
      "cell_type": "code",
      "source": [
        "modelo = BaggingClassifier(estimator=DecisionTreeClassifier(splitter='random'),\n",
        "                           n_estimators=100, max_features=0.15)\n",
        "modelo.fit(Xtr, ytr)\n",
        "modelo_pr = modelo.predict(Xte)\n",
        "modelo_hits = (modelo_pr == yte)\n",
        "print(modelo_hits.sum() / len(modelo_hits))\n",
        "modelo_hits"
      ],
      "metadata": {
        "colab": {
          "base_uri": "https://localhost:8080/"
        },
        "id": "aVF5QZ6k0SUf",
        "outputId": "049adad0-2fc8-47ae-f789-50bf924ac2a6"
      },
      "execution_count": 106,
      "outputs": [
        {
          "output_type": "stream",
          "name": "stdout",
          "text": [
            "0.91\n"
          ]
        },
        {
          "output_type": "execute_result",
          "data": {
            "text/plain": [
              "array([ True,  True,  True,  True,  True,  True,  True,  True,  True,\n",
              "        True,  True,  True,  True,  True,  True,  True, False,  True,\n",
              "        True,  True,  True,  True,  True,  True,  True,  True,  True,\n",
              "        True,  True,  True,  True,  True,  True,  True,  True,  True,\n",
              "       False, False,  True,  True, False,  True,  True,  True,  True,\n",
              "        True,  True,  True,  True,  True,  True,  True,  True,  True,\n",
              "        True,  True,  True,  True,  True,  True,  True,  True, False,\n",
              "       False,  True,  True,  True,  True, False,  True,  True,  True,\n",
              "        True,  True,  True,  True,  True,  True,  True,  True, False,\n",
              "        True,  True,  True,  True,  True,  True,  True,  True,  True,\n",
              "        True,  True,  True,  True,  True,  True,  True,  True,  True,\n",
              "       False])"
            ]
          },
          "metadata": {},
          "execution_count": 106
        }
      ]
    },
    {
      "cell_type": "markdown",
      "source": [
        "## Florestas extremamente aleatórias"
      ],
      "metadata": {
        "id": "he3f7Scf0yoQ"
      }
    },
    {
      "cell_type": "code",
      "source": [
        "from sklearn.ensemble import ExtraTreesClassifier\n",
        "modelo = ExtraTreesClassifier()\n",
        "modelo.fit(Xtr, ytr)\n",
        "modelo_pr = modelo.predict(Xte)\n",
        "modelo_hits = (modelo_pr == yte)\n",
        "print(modelo_hits.sum() / len(modelo_hits))\n",
        "modelo_hits"
      ],
      "metadata": {
        "colab": {
          "base_uri": "https://localhost:8080/"
        },
        "id": "n0r5nuZ804DP",
        "outputId": "b7fa9d33-0739-4f51-a83d-e7b1839cf6cf"
      },
      "execution_count": 107,
      "outputs": [
        {
          "output_type": "stream",
          "name": "stdout",
          "text": [
            "0.93\n"
          ]
        },
        {
          "output_type": "execute_result",
          "data": {
            "text/plain": [
              "array([ True,  True,  True,  True,  True,  True,  True,  True,  True,\n",
              "        True, False,  True,  True,  True,  True,  True, False,  True,\n",
              "        True,  True,  True,  True,  True,  True,  True,  True,  True,\n",
              "        True,  True,  True,  True,  True,  True,  True,  True,  True,\n",
              "       False, False,  True,  True,  True,  True,  True,  True,  True,\n",
              "        True,  True,  True,  True,  True,  True,  True,  True,  True,\n",
              "        True,  True,  True,  True,  True,  True,  True,  True, False,\n",
              "       False,  True,  True,  True,  True,  True,  True,  True,  True,\n",
              "        True,  True,  True,  True,  True,  True,  True,  True, False,\n",
              "        True,  True,  True,  True,  True,  True,  True,  True,  True,\n",
              "        True,  True,  True,  True,  True,  True,  True,  True,  True,\n",
              "        True])"
            ]
          },
          "metadata": {},
          "execution_count": 107
        }
      ]
    },
    {
      "cell_type": "markdown",
      "source": [
        "## Boosting"
      ],
      "metadata": {
        "id": "tOrAA9sZ1SF7"
      }
    },
    {
      "cell_type": "code",
      "source": [
        "from sklearn.ensemble import AdaBoostClassifier\n",
        "modelo = AdaBoostClassifier()\n",
        "modelo.fit(Xtr, ytr)\n",
        "modelo_pr = modelo.predict(Xte)\n",
        "modelo_hits = (modelo_pr == yte)\n",
        "print(modelo_hits.sum() / len(modelo_hits))\n",
        "modelo_hits"
      ],
      "metadata": {
        "colab": {
          "base_uri": "https://localhost:8080/"
        },
        "id": "JQXWYhxO1Vt-",
        "outputId": "e0869d8b-62ee-4055-efef-8599d0c2b744"
      },
      "execution_count": 108,
      "outputs": [
        {
          "output_type": "stream",
          "name": "stderr",
          "text": [
            "/usr/local/lib/python3.10/dist-packages/sklearn/ensemble/_weight_boosting.py:527: FutureWarning: The SAMME.R algorithm (the default) is deprecated and will be removed in 1.6. Use the SAMME algorithm to circumvent this warning.\n",
            "  warnings.warn(\n"
          ]
        },
        {
          "output_type": "stream",
          "name": "stdout",
          "text": [
            "0.07\n"
          ]
        },
        {
          "output_type": "execute_result",
          "data": {
            "text/plain": [
              "array([False, False, False, False, False, False, False, False, False,\n",
              "       False, False, False,  True, False, False, False, False, False,\n",
              "       False, False,  True, False, False, False, False, False, False,\n",
              "       False, False, False, False,  True, False,  True, False, False,\n",
              "       False, False, False, False, False,  True,  True, False, False,\n",
              "       False, False, False, False, False, False, False, False,  True,\n",
              "       False, False, False, False, False, False, False, False, False,\n",
              "       False, False, False, False, False, False, False, False, False,\n",
              "       False, False, False, False, False, False, False, False, False,\n",
              "       False, False, False, False, False, False, False, False, False,\n",
              "       False, False, False, False, False, False, False, False, False,\n",
              "       False])"
            ]
          },
          "metadata": {},
          "execution_count": 108
        }
      ]
    },
    {
      "cell_type": "code",
      "source": [
        "from sklearn.ensemble import AdaBoostClassifier\n",
        "modelo = AdaBoostClassifier(DecisionTreeClassifier(splitter='random', max_depth=25),\n",
        "                            learning_rate=0.15)\n",
        "modelo.fit(Xtr, ytr)\n",
        "modelo_pr = modelo.predict(Xte)\n",
        "modelo_hits = (modelo_pr == yte)\n",
        "print(modelo_hits.sum() / len(modelo_hits))\n",
        "modelo_hits"
      ],
      "metadata": {
        "colab": {
          "base_uri": "https://localhost:8080/"
        },
        "id": "B33_9Wn91ffH",
        "outputId": "425a7c60-dc4e-4ec9-f0bf-f9ebb91a11ac"
      },
      "execution_count": 109,
      "outputs": [
        {
          "output_type": "stream",
          "name": "stderr",
          "text": [
            "/usr/local/lib/python3.10/dist-packages/sklearn/ensemble/_weight_boosting.py:527: FutureWarning: The SAMME.R algorithm (the default) is deprecated and will be removed in 1.6. Use the SAMME algorithm to circumvent this warning.\n",
            "  warnings.warn(\n"
          ]
        },
        {
          "output_type": "stream",
          "name": "stdout",
          "text": [
            "0.73\n"
          ]
        },
        {
          "output_type": "execute_result",
          "data": {
            "text/plain": [
              "array([ True,  True,  True,  True,  True,  True,  True,  True,  True,\n",
              "       False,  True,  True,  True, False,  True, False, False, False,\n",
              "        True,  True, False,  True,  True,  True,  True,  True, False,\n",
              "       False,  True, False, False,  True,  True,  True,  True,  True,\n",
              "       False, False, False,  True, False,  True, False,  True,  True,\n",
              "        True,  True,  True,  True,  True, False,  True,  True, False,\n",
              "        True,  True,  True,  True,  True,  True,  True,  True, False,\n",
              "       False,  True,  True,  True,  True,  True, False,  True,  True,\n",
              "       False,  True,  True,  True,  True,  True, False,  True,  True,\n",
              "       False,  True,  True, False,  True, False,  True,  True,  True,\n",
              "        True,  True,  True, False,  True,  True,  True,  True,  True,\n",
              "       False])"
            ]
          },
          "metadata": {},
          "execution_count": 109
        }
      ]
    },
    {
      "cell_type": "code",
      "source": [
        "from xgboost import XGBClassifier\n",
        "modelo = XGBClassifier()\n",
        "modelo.fit(Xtr, ytr)\n",
        "modelo_pr = modelo.predict(Xte)\n",
        "modelo_hits = (modelo_pr == yte)\n",
        "print(modelo_hits.sum() / len(modelo_hits))\n",
        "modelo_hits"
      ],
      "metadata": {
        "colab": {
          "base_uri": "https://localhost:8080/"
        },
        "id": "9wxtC62R15U9",
        "outputId": "9e7015d0-de78-4c5d-d94f-075244e92044"
      },
      "execution_count": 111,
      "outputs": [
        {
          "output_type": "stream",
          "name": "stdout",
          "text": [
            "0.71\n"
          ]
        },
        {
          "output_type": "execute_result",
          "data": {
            "text/plain": [
              "array([ True,  True,  True,  True,  True,  True,  True, False,  True,\n",
              "       False,  True,  True,  True,  True,  True,  True, False,  True,\n",
              "        True,  True,  True, False,  True,  True,  True,  True,  True,\n",
              "       False,  True, False,  True,  True,  True,  True, False, False,\n",
              "       False, False,  True,  True, False,  True, False,  True, False,\n",
              "       False,  True,  True,  True,  True, False,  True,  True, False,\n",
              "        True,  True, False, False,  True,  True,  True,  True, False,\n",
              "       False,  True, False,  True,  True,  True, False,  True,  True,\n",
              "        True,  True,  True,  True,  True, False,  True,  True, False,\n",
              "       False, False,  True,  True,  True,  True,  True, False, False,\n",
              "       False,  True,  True,  True,  True,  True,  True,  True,  True,\n",
              "        True])"
            ]
          },
          "metadata": {},
          "execution_count": 111
        }
      ]
    },
    {
      "cell_type": "code",
      "source": [
        "modelo = XGBClassifier(colsample_bynode=0.01, learning_rate=0.15)\n",
        "modelo.fit(Xtr, ytr)\n",
        "modelo_pr = modelo.predict(Xte)\n",
        "modelo_hits = (modelo_pr == yte)\n",
        "print(modelo_hits.sum() / len(modelo_hits))\n",
        "modelo_hits"
      ],
      "metadata": {
        "colab": {
          "base_uri": "https://localhost:8080/"
        },
        "id": "n7p-022l2d-z",
        "outputId": "b43b0018-09df-4dea-b996-08bb34abad78"
      },
      "execution_count": 112,
      "outputs": [
        {
          "output_type": "stream",
          "name": "stdout",
          "text": [
            "0.87\n"
          ]
        },
        {
          "output_type": "execute_result",
          "data": {
            "text/plain": [
              "array([ True,  True,  True,  True,  True,  True,  True,  True,  True,\n",
              "        True,  True,  True,  True,  True,  True,  True, False,  True,\n",
              "        True,  True,  True,  True,  True,  True,  True,  True,  True,\n",
              "        True,  True,  True, False,  True,  True,  True,  True,  True,\n",
              "       False, False,  True,  True,  True,  True, False,  True,  True,\n",
              "       False,  True,  True,  True,  True, False,  True,  True,  True,\n",
              "        True, False, False,  True,  True,  True,  True,  True, False,\n",
              "       False,  True,  True,  True,  True, False, False,  True,  True,\n",
              "        True,  True,  True,  True,  True,  True,  True,  True,  True,\n",
              "        True,  True,  True,  True,  True,  True,  True,  True,  True,\n",
              "        True,  True,  True,  True,  True,  True,  True,  True,  True,\n",
              "        True])"
            ]
          },
          "metadata": {},
          "execution_count": 112
        }
      ]
    },
    {
      "cell_type": "code",
      "source": [
        "import warnings\n",
        "warnings.filterwarnings('ignore')"
      ],
      "metadata": {
        "id": "sNHJosCR2tMY"
      },
      "execution_count": 113,
      "outputs": []
    },
    {
      "cell_type": "code",
      "source": [
        "from sklearn.ensemble import StackingClassifier\n",
        "\n",
        "voting = VotingClassifier([\n",
        "    ('knn', knn),\n",
        "    ('gnb', gnb),\n",
        "    ('per', per)])\n",
        "\n",
        "modelo = StackingClassifier([\n",
        "    ('voting', voting),\n",
        "    ('extrees', ExtraTreesClassifier()),\n",
        "    ('randfor', RandomForestClassifier())], passthrough=True)\n",
        "\n",
        "modelo.fit(Xtr, ytr)\n",
        "modelo_pr = modelo.predict(Xte)\n",
        "modelo_hits = (modelo_pr == yte)\n",
        "print(modelo_hits.sum() / len(modelo_hits))\n",
        "modelo_hits"
      ],
      "metadata": {
        "colab": {
          "base_uri": "https://localhost:8080/"
        },
        "id": "OYteVEKe3Fti",
        "outputId": "f49b10ca-d851-449c-d4bd-775b6979bfa7"
      },
      "execution_count": 117,
      "outputs": [
        {
          "output_type": "stream",
          "name": "stdout",
          "text": [
            "0.94\n"
          ]
        },
        {
          "output_type": "execute_result",
          "data": {
            "text/plain": [
              "array([ True,  True,  True,  True,  True,  True,  True,  True,  True,\n",
              "        True,  True,  True,  True,  True,  True,  True,  True,  True,\n",
              "        True,  True,  True,  True, False,  True,  True,  True,  True,\n",
              "        True,  True,  True, False,  True,  True,  True,  True,  True,\n",
              "        True,  True,  True,  True,  True,  True,  True,  True,  True,\n",
              "        True,  True,  True,  True,  True,  True,  True,  True,  True,\n",
              "        True,  True,  True,  True,  True,  True,  True,  True,  True,\n",
              "       False,  True,  True,  True,  True, False,  True,  True,  True,\n",
              "       False,  True,  True,  True,  True,  True,  True,  True, False,\n",
              "        True,  True,  True,  True,  True,  True,  True,  True,  True,\n",
              "        True,  True,  True,  True,  True,  True,  True,  True,  True,\n",
              "        True])"
            ]
          },
          "metadata": {},
          "execution_count": 117
        }
      ]
    },
    {
      "cell_type": "code",
      "source": [
        "modelo = StackingClassifier([\n",
        "    ('randfor42', RandomForestClassifier(random_state=42)),\n",
        "    ('randfor43', RandomForestClassifier(random_state=43)),\n",
        "    ('randfor44', RandomForestClassifier(random_state=44))], passthrough=True)\n",
        "\n",
        "modelo.fit(Xtr, ytr)\n",
        "modelo_pr = modelo.predict(Xte)\n",
        "modelo_hits = (modelo_pr == yte)\n",
        "print(modelo_hits.sum() / len(modelo_hits))\n",
        "modelo_hits"
      ],
      "metadata": {
        "colab": {
          "base_uri": "https://localhost:8080/"
        },
        "id": "bhyVsjKR5cYT",
        "outputId": "df141360-ba44-41d4-8764-e12b11efc04d"
      },
      "execution_count": 118,
      "outputs": [
        {
          "output_type": "stream",
          "name": "stdout",
          "text": [
            "0.95\n"
          ]
        },
        {
          "output_type": "execute_result",
          "data": {
            "text/plain": [
              "array([ True,  True,  True,  True,  True,  True,  True,  True,  True,\n",
              "        True,  True,  True,  True,  True,  True,  True,  True,  True,\n",
              "        True,  True,  True,  True,  True,  True,  True,  True,  True,\n",
              "        True,  True,  True, False,  True,  True,  True,  True,  True,\n",
              "        True,  True,  True,  True,  True,  True,  True,  True,  True,\n",
              "        True,  True,  True,  True,  True,  True,  True,  True,  True,\n",
              "        True,  True,  True,  True,  True,  True,  True,  True,  True,\n",
              "       False,  True,  True,  True,  True, False,  True,  True,  True,\n",
              "       False,  True,  True,  True,  True,  True,  True,  True, False,\n",
              "        True,  True,  True,  True,  True,  True,  True,  True,  True,\n",
              "        True,  True,  True,  True,  True,  True,  True,  True,  True,\n",
              "        True])"
            ]
          },
          "metadata": {},
          "execution_count": 118
        }
      ]
    }
  ]
}